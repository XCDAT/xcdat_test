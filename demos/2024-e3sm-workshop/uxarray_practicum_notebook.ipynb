{
 "cells": [
  {
   "cell_type": "markdown",
   "metadata": {},
   "source": [
    "# Analysis and Visualization of E3SM Data using UXarray\n",
    "\n",
    "E3SM Tutorial Workshop 2024\n",
    "\n",
    "05/07/2024\n",
    "\n",
    "Authors: [Tom Vo](https://github.com/tomvothecoder) and [Stephen Po-Chedley](https://github.com/pochedls)\n"
   ]
  },
  {
   "cell_type": "markdown",
   "metadata": {},
   "source": [
    "## Overview\n",
    "\n",
    "This exercise notebook will walk you through some analysis and visualization functionalities\n",
    "to give you practical high-level hands-on experience with UXarray.\n",
    "\n",
    "### Exercises\n",
    "\n",
    "1. Open E3SM Data with Grid Files using UXarray\n",
    "2. View Grid Information\n",
    "3. Visualize Grid Topology\n",
    "4. Face Area Calculations\n",
    "\n",
    "### Helpful Prequisite Knowledge\n",
    "\n",
    "If you are unfamiliar with the topics below, please take a quick look at these notebooks!\n",
    "\n",
    "- [Differences between structured and unstructured grids](https://github.com/ProjectPythia/unstructured-grid-viz-cookbook/blob/main/notebooks/01-intro/01-unstructured-grid-overview.ipynb)\n",
    "- [Data Mapping](https://github.com/ProjectPythia/unstructured-grid-viz-cookbook/blob/main/notebooks/01-intro/03-data-mapping.ipynb)\n",
    "- [Plotting Libraries](https://github.com/ProjectPythia/unstructured-grid-viz-cookbook/blob/main/notebooks/02-methods/01-plotting-libraries.ipynb)\n",
    "- [Rendering Techniques](https://github.com/ProjectPythia/unstructured-grid-viz-cookbook/blob/main/notebooks/02-methods/02-rendering-techniques.ipynb)\n",
    "\n",
    "### Resources\n",
    "\n",
    "- [UXarray Documentation](https://uxarray.readthedocs.io/en/stable/)\n",
    "- This notebook was adapted from the [UXarray Usage Examples](https://uxarray.readthedocs.io/en/stable/examples.html) and the [Project Pythia Notebooks](https://projectpythia.org/unstructured-grid-viz-cookbook/README.html).\n"
   ]
  },
  {
   "cell_type": "markdown",
   "metadata": {},
   "source": [
    "## Setup\n"
   ]
  },
  {
   "cell_type": "code",
   "execution_count": null,
   "metadata": {
    "tags": []
   },
   "outputs": [],
   "source": [
    "import glob\n",
    "\n",
    "import numpy as np\n",
    "import xarray as xr\n",
    "import uxarray as ux\n",
    "\n",
    "# The data directory containing the NetCDF files.\n",
    "# TODO: Update to perlmutter directory\n",
    "data_dir = \"/p/user_pub/work/E3SM/1_0/1950-Control-21yrContHiVol-HR/0_25deg_atm_18-6km_ocean/atmos/native/model-output/mon/ens1/v1/\"\n",
    "# The absolute paths to each NetCDF file in the data directory.\n",
    "data_paths = glob.glob(data_dir + \"*.nc\")\n",
    "\n",
    "# The path to the grid file.\n",
    "grid_path = \"/p/user_pub/e3sm/grids_maps/grids/ne120.g\""
   ]
  },
  {
   "cell_type": "markdown",
   "metadata": {},
   "source": [
    "## What are `ux.Dataset`, `ux.DataArray`, and `ux.Grid` objects?\n",
    "\n",
    "- A [ux.UxDataset](https://uxarray.readthedocs.io/en/stable/user_api/generated/uxarray.UxDataset.html#uxarray.UxDataset) object is an `xarray.Dataset-like`, multi-dimensional, in memory, array database. This object inherits from `xarray.Dataset` and has its own unstructured grid-aware dataset operators and attributes through the `uxgrid` accessor.\n",
    "- A [ux.UxDataArray](https://uxarray.readthedocs.io/en/stable/user_api/generated/uxarray.UxDataArray.html) object is an N-dimensional `xarray.DataArray-like` array. It inherits from `xarray.DataArray` and has its own unstructured grid-aware array operators and attributes through the `uxgrid` accessor.\n",
    "- A [ux.Grid](https://uxarray.readthedocs.io/en/stable/user_api/generated/uxarray.Grid.html#) object represents a two-dimensional unstructured grid encoded following the UGRID conventions and provides grid-specific functionality.\n",
    "  - Can be used standalone to work with unstructured grids, or can be paired with either a `ux.UxDataArray` or `ux.UxDataset` and accessed through the `.uxgrid` attribute.\n",
    "  - For constructing a grid from non-UGRID datasets or other types of supported data, see our `ux.open_grid` method or specific class methods (`Grid.from_dataset`, `Grid.from_face_verticies`, etc.)\n",
    "\n",
    "&mdash; <cite>https://uxarray.readthedocs.io/en/latest/getting-started/overview.html</cite>\n"
   ]
  },
  {
   "cell_type": "markdown",
   "metadata": {},
   "source": [
    "### Exercise 1. Open E3SM Dataset with Grid Files using UXarray\n",
    "\n",
    "When working with Unstructured Grids, the grid definition and data variables are often stored as separate files. This means that there are multiple separate files that need to be read and linked together to represent the entire dataset.\n",
    "\n",
    "&mdash; <cite>https://uxarray.readthedocs.io/en/latest/examples/001-working-with-unstructured-grids.html#</cite>\n"
   ]
  },
  {
   "cell_type": "markdown",
   "metadata": {
    "tags": []
   },
   "source": [
    "#### 💻 Your turn:\n",
    "\n",
    "Use `ux.open_mfdataset()` to open the grid file and the NetCDF files as a `ux.Dataset` object.\n",
    "\n",
    "Hint: Use `grid_path` and `data_paths` as function arguments.\n"
   ]
  },
  {
   "cell_type": "code",
   "execution_count": null,
   "metadata": {
    "tags": []
   },
   "outputs": [],
   "source": [
    "# Your code here. When ready, click on the three dots below for the solution."
   ]
  },
  {
   "cell_type": "code",
   "execution_count": null,
   "metadata": {},
   "outputs": [],
   "source": [
    "uxds = ux.open_mfdataset(grid_path, data_paths[0:1])"
   ]
  },
  {
   "cell_type": "markdown",
   "metadata": {},
   "source": [
    "Access the `TS` variable by indexing the `UxDataset` object to obtain a `UxDataArray` object.\n"
   ]
  },
  {
   "cell_type": "code",
   "execution_count": null,
   "metadata": {},
   "outputs": [],
   "source": [
    "# Your code here. When ready, click on the three dots below for the solution."
   ]
  },
  {
   "cell_type": "code",
   "execution_count": null,
   "metadata": {},
   "outputs": [],
   "source": [
    "uxds[\"TS\"]"
   ]
  },
  {
   "cell_type": "markdown",
   "metadata": {},
   "source": [
    "#### 💻 Your turn:\n",
    "\n",
    "Extract the `ux.Grid` object from `uxds` and view the output.\n"
   ]
  },
  {
   "cell_type": "code",
   "execution_count": null,
   "metadata": {},
   "outputs": [],
   "source": [
    "# Your code here. When ready, click on the three dots below for the solution."
   ]
  },
  {
   "cell_type": "code",
   "execution_count": null,
   "metadata": {},
   "outputs": [],
   "source": [
    "grid = uxds.uxgrid\n",
    "grid"
   ]
  },
  {
   "cell_type": "markdown",
   "metadata": {},
   "source": [
    "### Exercise 2: Viewing Grid Information\n",
    "\n",
    "For this exercise, just execute the cells below to view the outputs.\n"
   ]
  },
  {
   "cell_type": "markdown",
   "metadata": {},
   "source": [
    "#### Grid Attributes\n",
    "\n",
    "If our input grid contained additional attributes that were not representable by the UGRID conventions, they would be stored here\n",
    "\n",
    "&mdash; <cite>https://uxarray.readthedocs.io/en/stable/examples/002-grid-topology.html#grid-attributes</cite>\n"
   ]
  },
  {
   "cell_type": "code",
   "execution_count": null,
   "metadata": {},
   "outputs": [],
   "source": [
    "grid.parsed_attrs"
   ]
  },
  {
   "cell_type": "markdown",
   "metadata": {},
   "source": [
    "#### Grid Coordinates\n",
    "\n",
    "The coordinates by default are represented in terms of longitude and latitude.\n"
   ]
  },
  {
   "cell_type": "code",
   "execution_count": null,
   "metadata": {},
   "outputs": [],
   "source": [
    "grid.node_lon"
   ]
  },
  {
   "cell_type": "code",
   "execution_count": null,
   "metadata": {},
   "outputs": [],
   "source": [
    "grid.node_lat"
   ]
  },
  {
   "cell_type": "markdown",
   "metadata": {},
   "source": [
    "If you wish to use the Cartesian coordinate system, you can access the following attributes, which will internally construct a set of Cartesian coordinates derived from the previous set.\n"
   ]
  },
  {
   "cell_type": "code",
   "execution_count": null,
   "metadata": {},
   "outputs": [],
   "source": [
    "grid.node_x"
   ]
  },
  {
   "cell_type": "code",
   "execution_count": null,
   "metadata": {},
   "outputs": [],
   "source": [
    "grid.node_y"
   ]
  },
  {
   "cell_type": "code",
   "execution_count": null,
   "metadata": {},
   "outputs": [],
   "source": [
    "grid.node_z"
   ]
  },
  {
   "cell_type": "markdown",
   "metadata": {},
   "source": [
    "#### Grid Connectivity\n",
    "\n",
    "Connectivity variables are used to describe how various geometric elements (nodes, faces, edges) can be manipulated and interconnected to represent the topology of the unstructured grid.\n",
    "\n",
    "As described in the UGRID conventions, these connectivity variables are stored as integer arrays and may contain a Fill Value. UXarray standardizes both of these at the data loading step, meaning that the data type and fill value can always be guaranteed to be the following:\n"
   ]
  },
  {
   "cell_type": "code",
   "execution_count": null,
   "metadata": {},
   "outputs": [],
   "source": [
    "ux.INT_DTYPE"
   ]
  },
  {
   "cell_type": "code",
   "execution_count": null,
   "metadata": {},
   "outputs": [],
   "source": [
    "ux.INT_FILL_VALUE"
   ]
  },
  {
   "cell_type": "markdown",
   "metadata": {},
   "source": [
    "Below we can see how to access these connectivity variables.\n"
   ]
  },
  {
   "cell_type": "code",
   "execution_count": null,
   "metadata": {},
   "outputs": [],
   "source": [
    "grid.face_node_connectivity"
   ]
  },
  {
   "cell_type": "code",
   "execution_count": null,
   "metadata": {},
   "outputs": [],
   "source": [
    "grid.n_nodes_per_face"
   ]
  },
  {
   "cell_type": "markdown",
   "metadata": {},
   "source": [
    "### Exercise 3: Visualize the Grid Topology\n",
    "\n",
    "In this exercise, we will visualize the topology of an unstructured grid (i.e., the\n",
    "elements that make up a grid).\n",
    "\n",
    "&mdash; <cite>https://uxarray.readthedocs.io/en/latest/examples/006-plot-api-topology.html.</cite>\n"
   ]
  },
  {
   "cell_type": "markdown",
   "metadata": {},
   "source": [
    "#### Using the `Grid.plot()` Accessor\n",
    "\n",
    "Each Grid object is initialized with a plotting accessor, which enables plotting routines to be called directly on the object. By default, calling `.plot()` on a `Grid` instance plots all the edges of a grid.\n",
    "\n",
    "All of the plotting methods are built around the Holoviews package, so you can select between Matplotlib and Bokeh backends if desired (Bokeh is the default and is suggested).\n"
   ]
  },
  {
   "cell_type": "markdown",
   "metadata": {},
   "source": [
    "#### 💻 Your turn:\n",
    "\n",
    "Extract the grid topology from the `uxds` and plot it.\n",
    "\n",
    "Hint: Use the `.uxgrid` attribute and call `.plot()`\n"
   ]
  },
  {
   "cell_type": "code",
   "execution_count": null,
   "metadata": {},
   "outputs": [],
   "source": [
    "# Your code here. When ready, click on the three dots below for the solution."
   ]
  },
  {
   "cell_type": "code",
   "execution_count": null,
   "metadata": {},
   "outputs": [],
   "source": [
    "grid.plot(title=\"Default Grid Plot Method\", height=350, width=700)"
   ]
  },
  {
   "cell_type": "markdown",
   "metadata": {},
   "source": [
    "### Exercise 4: Face Area Calculations\n",
    "\n",
    "This section covers the different area calculation options provided by `uxarray`.\n",
    "Note, this is a only subset of the available options.\n",
    "\n",
    "&mdash; <cite>https://uxarray.readthedocs.io/en/latest/examples/003-area-calc.html</cite>\n"
   ]
  },
  {
   "cell_type": "markdown",
   "metadata": {},
   "source": [
    "#### 💻 Your turn:\n",
    "\n",
    "Calculate the total face area for the grid.\n",
    "\n",
    "Hint: Use `.calculate_total_face_area()`\n"
   ]
  },
  {
   "cell_type": "code",
   "execution_count": null,
   "metadata": {},
   "outputs": [],
   "source": [
    "# Your code here. When ready, click on the three dots below for the solution."
   ]
  },
  {
   "cell_type": "code",
   "execution_count": null,
   "metadata": {},
   "outputs": [],
   "source": [
    "t4_area = grid.calculate_total_face_area()\n",
    "t4_area"
   ]
  },
  {
   "cell_type": "markdown",
   "metadata": {},
   "source": [
    "Calculate the total face area using the Quadratre Rule and Order of 4.\n",
    "\n",
    "Order:\n",
    "\n",
    "```\n",
    "   1 to 10              for gaussian\n",
    "   1, 4, 8, 10 and 12   for triangular\n",
    "```\n"
   ]
  },
  {
   "cell_type": "code",
   "execution_count": null,
   "metadata": {},
   "outputs": [],
   "source": [
    "# Your code here. When ready, click on the three dots below for the solution."
   ]
  },
  {
   "cell_type": "code",
   "execution_count": null,
   "metadata": {},
   "outputs": [],
   "source": [
    "t1_area = grid.calculate_total_face_area(quadrature_rule=\"triangular\", order=1)"
   ]
  },
  {
   "cell_type": "markdown",
   "metadata": {},
   "source": [
    "View the individual face areas using `Grid.face_areas`.\n"
   ]
  },
  {
   "cell_type": "code",
   "execution_count": null,
   "metadata": {},
   "outputs": [],
   "source": [
    "# Your code here. When ready, click on the three dots below for the solution."
   ]
  },
  {
   "cell_type": "code",
   "execution_count": null,
   "metadata": {},
   "outputs": [],
   "source": [
    "grid.face_areas"
   ]
  },
  {
   "cell_type": "markdown",
   "metadata": {},
   "source": [
    "Calculate the area using `Grid.compute_face_areas`.\n"
   ]
  },
  {
   "cell_type": "code",
   "execution_count": null,
   "metadata": {},
   "outputs": [],
   "source": [
    "# Your code here. When ready, click on the three dots below for the solution."
   ]
  },
  {
   "cell_type": "code",
   "execution_count": null,
   "metadata": {},
   "outputs": [],
   "source": [
    "all_face_areas, all_face_jacobians = grid.compute_face_areas(\n",
    "    quadrature_rule=\"gaussian\", order=4\n",
    ")\n",
    "g4_area = all_face_areas.sum()\n",
    "g4_area"
   ]
  },
  {
   "cell_type": "markdown",
   "metadata": {},
   "source": [
    "Now we compare the values with actual know value and report error for each of the three cases above.\n",
    "\n",
    "Just execute the cell below to view the outputs.\n"
   ]
  },
  {
   "cell_type": "code",
   "execution_count": null,
   "metadata": {},
   "outputs": [],
   "source": [
    "actual_area = 4 * np.pi\n",
    "diff_t4_area = np.abs(t4_area - actual_area)\n",
    "diff_t1_area = np.abs(t1_area - actual_area)\n",
    "diff_g4_area = np.abs(g4_area - actual_area)\n",
    "\n",
    "diff_t1_area, diff_t4_area, diff_g4_area"
   ]
  },
  {
   "cell_type": "markdown",
   "metadata": {},
   "source": [
    "## Interoperability with xCDAT\n",
    "\n",
    "Since `ux.UxDataset` and `ux.UxDataArray` extend the `xr.Dataset` and `xr.DataArray` classes,\n",
    "_most_ xCDAT APIs are interoperable with UXarray objects.\n",
    "\n",
    "- The exception is xCDAT's [spatial averager](https://xcdat.readthedocs.io/en/latest/generated/xarray.Dataset.spatial.average.html), which requires data on rectilinear grids. The data must first be remapped from unstructured to rectilinear grid using another tool like `nco`.\n",
    "- There are plans to support unstructured to structured regridding in UXarray in the future.\n",
    "\n",
    "Resources:\n",
    "\n",
    "- [xCDAT Documentation Homepage](https://xcdat.readthedocs.io/en/stable/)\n",
    "- [xCDAT API Reference Guide](https://xcdat.readthedocs.io/en/stable/api.html)\n",
    "\n",
    "## Next Steps\n",
    "\n",
    "Feel free to jump over to the `xcdat_practicum_notebook.ipynb` to work with `nco` and `xcdat`.\n"
   ]
  }
 ],
 "metadata": {
  "kernelspec": {
   "display_name": "Python 3 (ipykernel)",
   "language": "python",
   "name": "python3"
  },
  "language_info": {
   "codemirror_mode": {
    "name": "ipython",
    "version": 3
   },
   "file_extension": ".py",
   "mimetype": "text/x-python",
   "name": "python",
   "nbconvert_exporter": "python",
   "pygments_lexer": "ipython3",
   "version": "3.12.2"
  }
 },
 "nbformat": 4,
 "nbformat_minor": 4
}
