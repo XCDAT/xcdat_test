{
 "cells": [
  {
   "cell_type": "markdown",
   "metadata": {},
   "source": [
    "# Analysis and Visualization of E3SM Data using UXarray (Experimental)\n",
    "\n",
    "E3SM Tutorial Workshop 2024\n",
    "\n",
    "05/07/2024\n",
    "\n",
    "Authors: [Tom Vo](https://github.com/tomvothecoder) and [Stephen Po-Chedley](https://github.com/pochedls)\n"
   ]
  },
  {
   "cell_type": "markdown",
   "metadata": {},
   "source": [
    "## Overview\n",
    "\n",
    "This exercise notebook will walk you through the core UXarray data models and a few\n",
    "analysis and visualization features to help you gain practical hands-on experience. Please visit the [UXarray documentation](https://uxarray.readthedocs.io/en/stable/) for more information on all of the available features.\n",
    "\n",
    "**Please note, UXarray is actively being developed, hence this is an \"experimental\"\n",
    "notebook exploring some of the current features and capabilities.**\n",
    "\n",
    "### Sections\n",
    "\n",
    "1. Prerequisite: Set up the Conda Environment and select the Python Kernel for this notebook\n",
    "2. Setup Code\n",
    "3. Open E3SM Data with Grid Files\n",
    "4. View Grid Information\n",
    "5. Visualize Grid Topology\n",
    "6. Face Area Calculations\n",
    "7. Visualize Data as Polygons\n",
    "8. Interoperability with xCDAT\n",
    "\n",
    "### Helpful Prequisite Knowledge\n",
    "\n",
    "If you are unfamiliar and interested in the topics below, click the links for\n",
    "more information.\n",
    "\n",
    "- [Differences between structured and unstructured grids](https://github.com/ProjectPythia/unstructured-grid-viz-cookbook/blob/main/notebooks/01-intro/01-unstructured-grid-overview.ipynb)\n",
    "- [Data Mapping](https://github.com/ProjectPythia/unstructured-grid-viz-cookbook/blob/main/notebooks/01-intro/03-data-mapping.ipynb)\n",
    "- [Plotting Libraries](https://github.com/ProjectPythia/unstructured-grid-viz-cookbook/blob/main/notebooks/02-methods/01-plotting-libraries.ipynb)\n",
    "- [Rendering Techniques](https://github.com/ProjectPythia/unstructured-grid-viz-cookbook/blob/main/notebooks/02-methods/02-rendering-techniques.ipynb)\n",
    "\n",
    "### Resources\n",
    "\n",
    "- [UXarray documentation](https://uxarray.readthedocs.io/en/stable/)\n",
    "- This notebook was adapted from the [UXarray Usage Examples](https://uxarray.readthedocs.io/en/stable/examples.html) and the [Project Pythia Notebooks](https://projectpythia.org/unstructured-grid-viz-cookbook/README.html).\n"
   ]
  },
  {
   "cell_type": "markdown",
   "metadata": {
    "tags": []
   },
   "source": [
    "## Prerequisite: Set up the Conda Environment and select the Python Kernel for this notebook\n",
    "\n",
    "1. Open a terminal in Jupyter Hub.\n",
    "2. Run the commands below to add the kernel to NERSC Jupyter Hub.\n",
    "   ```bash\n",
    "    \n",
    "   module load conda\n",
    "   conda create --name uxarray_practicum -c conda-forge python uxarray spatialpandas antimeridian ipykernel\n",
    "    \n",
    "   python -m ipykernel install \\\n",
    "   --user --name uxarray_practicum --display-name uxarray_practicum\n",
    "   ```\n",
    "    &mdash; <cite>https://docs.nersc.gov/services/jupyter/how-to-guides/#how-to-use-a-conda-environment-as-a-python-kernel</cite>\n",
    "\n",
    "3. Refresh this page\n",
    "4. Select the kernel for this notebook by clicking the current kernel in the top-right\n",
    "   (where it says NERSC Python in the screenshot).\n",
    "\n",
    "   <img src=\"kernel-instructions-1.png\" width=500px/>\n",
    "\n",
    "5. Select `uxarray_practicum` from the list of environments.\n",
    "\n",
    "   <img src=\"kernel-instructions-3.png\" width=500px/>\n"
   ]
  },
  {
   "cell_type": "markdown",
   "metadata": {},
   "source": [
    "## Setup Code\n"
   ]
  },
  {
   "cell_type": "code",
   "execution_count": null,
   "metadata": {
    "tags": []
   },
   "outputs": [],
   "source": [
    "import glob\n",
    "\n",
    "import numpy as np\n",
    "import xarray as xr\n",
    "import uxarray as ux\n",
    "\n",
    "# The data directory containing the NetCDF files.\n",
    "data_dir = \"/global/cfs/cdirs/e3sm/www/Tutorials/2024/simulations/extendedOutput.v3.LR.historical_0101/archive/atm/hist/*.h0.*.nc\"\n",
    "\n",
    "# The absolute paths to each NetCDF file in the data directory.\n",
    "data_paths = glob.glob(data_dir)\n",
    "\n",
    "# The path to the grid file.\n",
    "grid_path = \"/global/cfs/cdirs/e3sm/diagnostics/grids/ne30pg2.nc\""
   ]
  },
  {
   "cell_type": "markdown",
   "metadata": {},
   "source": [
    "## First off, what are `ux.Dataset`, `ux.DataArray`, and `ux.Grid` objects?\n",
    "\n",
    "- A [ux.UxDataset](https://uxarray.readthedocs.io/en/stable/user_api/generated/uxarray.UxDataset.html#uxarray.UxDataset) object is an `xarray.Dataset-like`, multi-dimensional, in memory, array database. This object inherits from `xarray.Dataset` and has its own unstructured grid-aware dataset operators and attributes through the `uxgrid` accessor.\n",
    "- A [ux.UxDataArray](https://uxarray.readthedocs.io/en/stable/user_api/generated/uxarray.UxDataArray.html) object is an N-dimensional `xarray.DataArray-like` array. It inherits from `xarray.DataArray` and has its own unstructured grid-aware array operators and attributes through the `uxgrid` accessor.\n",
    "- A [ux.Grid](https://uxarray.readthedocs.io/en/stable/user_api/generated/uxarray.Grid.html#) object represents a two-dimensional unstructured grid encoded following the UGRID conventions and provides grid-specific functionality.\n",
    "  - Can be used standalone to work with unstructured grids, or can be paired with either a `ux.UxDataArray` or `ux.UxDataset` and accessed through the `.uxgrid` attribute.\n",
    "  - For constructing a grid from non-UGRID datasets or other types of supported data, see our `ux.open_grid` method or specific class methods (`Grid.from_dataset`, `Grid.from_face_verticies`, etc.)\n"
   ]
  },
  {
   "cell_type": "markdown",
   "metadata": {},
   "source": [
    "## Open E3SM Dataset with Grid Files using UXarray\n",
    "\n",
    "When working with Unstructured Grids, the grid definition and data variables are often stored as separate files. This means that there are multiple separate files that need to be read and linked together to represent the entire dataset.\n"
   ]
  },
  {
   "cell_type": "markdown",
   "metadata": {
    "tags": []
   },
   "source": [
    "#### 💻 Your turn:\n",
    "\n",
    "Use `ux.open_mfdataset()` to open the grid file and the first three netCDF files as a `ux.Dataset` object. We are only loading the first three netCDF files for the purpose of this notebook because the dataset is large\n",
    "in its entirety.\n",
    "\n",
    "- Documentation: https://uxarray.readthedocs.io/en/latest/user_api/generated/uxarray.open_mfdataset.html\n",
    "- Hint: Use `grid_path` and `data_paths[0:2]` as function arguments.\n"
   ]
  },
  {
   "cell_type": "code",
   "execution_count": null,
   "metadata": {
    "tags": []
   },
   "outputs": [],
   "source": [
    "# Your code here. When ready, click on the three dots below for the solution."
   ]
  },
  {
   "cell_type": "code",
   "execution_count": null,
   "metadata": {
    "jupyter": {
     "source_hidden": true
    },
    "tags": []
   },
   "outputs": [],
   "source": [
    "uxds = ux.open_mfdataset(grid_path, data_paths[0:2])"
   ]
  },
  {
   "cell_type": "markdown",
   "metadata": {},
   "source": [
    "#### 💻 Your turn:\n",
    "\n",
    "Access the `TREFHT` variable by indexing the `UxDataset` object to obtain a `UxDataArray` object.\n"
   ]
  },
  {
   "cell_type": "code",
   "execution_count": null,
   "metadata": {},
   "outputs": [],
   "source": [
    "# Your code here. When ready, click on the three dots below for the solution."
   ]
  },
  {
   "cell_type": "code",
   "execution_count": null,
   "metadata": {
    "jupyter": {
     "source_hidden": true
    },
    "tags": []
   },
   "outputs": [],
   "source": [
    "uxds[\"TREFHT\"]"
   ]
  },
  {
   "cell_type": "markdown",
   "metadata": {},
   "source": [
    "## Viewing Grid Information\n"
   ]
  },
  {
   "cell_type": "markdown",
   "metadata": {},
   "source": [
    "#### 💻 Your turn:\n",
    "\n",
    "View the grid information stored in `uxds` through the `uxgrid` attribute.\n",
    "\n",
    "- Documentation: https://uxarray.readthedocs.io/en/latest/user_api/generated/uxarray.UxDataset.uxgrid.html\n"
   ]
  },
  {
   "cell_type": "code",
   "execution_count": null,
   "metadata": {},
   "outputs": [],
   "source": [
    "# Your code here. When ready, click on the three dots below for the solution."
   ]
  },
  {
   "cell_type": "code",
   "execution_count": null,
   "metadata": {
    "jupyter": {
     "source_hidden": true
    },
    "tags": []
   },
   "outputs": [],
   "source": [
    "grid = uxds.uxgrid\n",
    "grid"
   ]
  },
  {
   "cell_type": "markdown",
   "metadata": {
    "tags": []
   },
   "source": [
    "#### Grid Attributes\n",
    "\n",
    "If our input grid contained additional attributes that were not representable by the UGRID conventions, they would be stored here.\n"
   ]
  },
  {
   "cell_type": "code",
   "execution_count": null,
   "metadata": {},
   "outputs": [],
   "source": [
    "grid.parsed_attrs"
   ]
  },
  {
   "cell_type": "markdown",
   "metadata": {},
   "source": [
    "#### Grid Coordinates\n",
    "\n",
    "The coordinates by default are represented in terms of longitude and latitude.\n",
    "\n",
    "\n",
    "Documentation:\n",
    "\n",
    "- https://uxarray.readthedocs.io/en/latest/user_api/generated/uxarray.Grid.node_lon.html\n",
    "- https://uxarray.readthedocs.io/en/latest/user_api/generated/uxarray.Grid.node_lat.html\n"
   ]
  },
  {
   "cell_type": "code",
   "execution_count": null,
   "metadata": {},
   "outputs": [],
   "source": [
    "grid.node_lon"
   ]
  },
  {
   "cell_type": "code",
   "execution_count": null,
   "metadata": {},
   "outputs": [],
   "source": [
    "grid.node_lat"
   ]
  },
  {
   "cell_type": "markdown",
   "metadata": {},
   "source": [
    "If you wish to use the Cartesian coordinate system, you can access the following attributes, which will internally construct a set of Cartesian coordinates derived from the previous set.\n",
    "\n",
    "Documentation:\n",
    "\n",
    "- https://uxarray.readthedocs.io/en/latest/user_api/generated/uxarray.Grid.node_x.html\n",
    "- https://uxarray.readthedocs.io/en/latest/user_api/generated/uxarray.Grid.node_y.html\n",
    "- https://uxarray.readthedocs.io/en/latest/user_api/generated/uxarray.Grid.node_z.html\n"
   ]
  },
  {
   "cell_type": "code",
   "execution_count": null,
   "metadata": {},
   "outputs": [],
   "source": [
    "grid.node_x"
   ]
  },
  {
   "cell_type": "code",
   "execution_count": null,
   "metadata": {},
   "outputs": [],
   "source": [
    "grid.node_y"
   ]
  },
  {
   "cell_type": "code",
   "execution_count": null,
   "metadata": {},
   "outputs": [],
   "source": [
    "grid.node_z"
   ]
  },
  {
   "cell_type": "markdown",
   "metadata": {},
   "source": [
    "#### Grid Connectivity\n",
    "\n",
    "Connectivity variables are used to describe how various geometric elements (nodes, faces, edges) can be manipulated and interconnected to represent the topology of the unstructured grid.\n",
    "\n",
    "As described in the UGRID conventions, these connectivity variables are stored as integer arrays and may contain a Fill Value. UXarray standardizes both of these at the data loading step, meaning that the data type and fill value can always be guaranteed to be the following:\n",
    "\n"
   ]
  },
  {
   "cell_type": "code",
   "execution_count": null,
   "metadata": {},
   "outputs": [],
   "source": [
    "ux.INT_DTYPE"
   ]
  },
  {
   "cell_type": "code",
   "execution_count": null,
   "metadata": {},
   "outputs": [],
   "source": [
    "ux.INT_FILL_VALUE"
   ]
  },
  {
   "cell_type": "markdown",
   "metadata": {},
   "source": [
    "Below we can see how to access these connectivity variables.\n"
   ]
  },
  {
   "cell_type": "code",
   "execution_count": null,
   "metadata": {},
   "outputs": [],
   "source": [
    "grid.face_node_connectivity"
   ]
  },
  {
   "cell_type": "code",
   "execution_count": null,
   "metadata": {},
   "outputs": [],
   "source": [
    "grid.n_nodes_per_face"
   ]
  },
  {
   "cell_type": "markdown",
   "metadata": {},
   "source": [
    "## Visualize the Grid Topology\n"
   ]
  },
  {
   "cell_type": "markdown",
   "metadata": {},
   "source": [
    "#### Using the `Grid.plot()` Accessor\n",
    "\n",
    "Each Grid object is initialized with a plotting accessor, which enables plotting routines to be called directly on the object. By default, calling `.plot()` on a `Grid` instance plots all the edges of a grid.\n",
    "\n",
    "All of the plotting methods are built around the Holoviews package, so you can select between Matplotlib and Bokeh backends if desired (Bokeh is the default and is suggested).\n"
   ]
  },
  {
   "cell_type": "markdown",
   "metadata": {},
   "source": [
    "#### 💻 Your turn:\n",
    "\n",
    "Extract the grid topology from the `grid` and plot it with `height=350` and `width=700`.\n",
    "\n",
    "- Documentation: https://uxarray.readthedocs.io/en/latest/user_api/generated/uxarray.Grid.plot.html\n"
   ]
  },
  {
   "cell_type": "code",
   "execution_count": null,
   "metadata": {},
   "outputs": [],
   "source": [
    "# Your code here. When ready, click on the three dots below for the solution."
   ]
  },
  {
   "cell_type": "code",
   "execution_count": null,
   "metadata": {
    "jupyter": {
     "source_hidden": true
    },
    "tags": []
   },
   "outputs": [],
   "source": [
    "grid.plot(title=\"Default Grid Plot Method\", height=350, width=700)"
   ]
  },
  {
   "cell_type": "markdown",
   "metadata": {},
   "source": [
    "## Face Area Calculations\n",
    "\n",
    "This section covers the different area calculation options provided by `uxarray`.\n",
    "Note, this is a only subset of the available options.\n"
   ]
  },
  {
   "cell_type": "markdown",
   "metadata": {},
   "source": [
    "#### 💻 Your turn:\n",
    "\n",
    "Calculate the total face area for the grid.\n",
    "\n",
    "- Documentation: https://uxarray.readthedocs.io/en/latest/user_api/generated/uxarray.Grid.calculate_total_face_area.html\n",
    "- Hint: Use `.calculate_total_face_area()`\n"
   ]
  },
  {
   "cell_type": "code",
   "execution_count": null,
   "metadata": {},
   "outputs": [],
   "source": [
    "# Your code here. When ready, click on the three dots below for the solution."
   ]
  },
  {
   "cell_type": "code",
   "execution_count": null,
   "metadata": {
    "jupyter": {
     "source_hidden": true
    },
    "tags": []
   },
   "outputs": [],
   "source": [
    "t4_area = grid.calculate_total_face_area()\n",
    "t4_area"
   ]
  },
  {
   "cell_type": "markdown",
   "metadata": {},
   "source": [
    "#### 💻 Your turn:\n",
    "\n",
    "Calculate the total face area using the Quadrature Rule and Order of 4.\n",
    "\n",
    "- Documentation: https://uxarray.readthedocs.io/en/latest/user_api/generated/uxarray.Grid.calculate_total_face_area.html\n",
    "- Hint: Use `.calculate_total_face_area()`\n",
    "\n",
    "Order:\n",
    "\n",
    "```\n",
    "   1 to 10              for gaussian\n",
    "   1, 4, 8, 10 and 12   for triangular\n",
    "```\n"
   ]
  },
  {
   "cell_type": "code",
   "execution_count": null,
   "metadata": {},
   "outputs": [],
   "source": [
    "# Your code here. When ready, click on the three dots below for the solution."
   ]
  },
  {
   "cell_type": "code",
   "execution_count": null,
   "metadata": {
    "jupyter": {
     "source_hidden": true
    },
    "tags": []
   },
   "outputs": [],
   "source": [
    "t1_area = grid.calculate_total_face_area(quadrature_rule=\"triangular\", order=1)"
   ]
  },
  {
   "cell_type": "markdown",
   "metadata": {},
   "source": [
    "#### 💻 Your turn:\n",
    "\n",
    "View the individual face areas using `Grid.face_areas`.\n",
    "\n",
    "- Documentation: https://uxarray.readthedocs.io/en/latest/user_api/generated/uxarray.Grid.face_areas.html\n"
   ]
  },
  {
   "cell_type": "code",
   "execution_count": null,
   "metadata": {},
   "outputs": [],
   "source": [
    "# Your code here. When ready, click on the three dots below for the solution."
   ]
  },
  {
   "cell_type": "code",
   "execution_count": null,
   "metadata": {
    "jupyter": {
     "source_hidden": true
    },
    "tags": []
   },
   "outputs": [],
   "source": [
    "grid.face_areas"
   ]
  },
  {
   "cell_type": "markdown",
   "metadata": {},
   "source": [
    "#### 💻 Your turn:\n",
    "\n",
    "Calculate the area using `Grid.compute_face_areas()` and get the sum of all the face areas.\n",
    "Make sure the `quadrature_rule=\"gaussian\"` and `order=4`.\n",
    "\n",
    "- Documentation: https://uxarray.readthedocs.io/en/latest/user_api/generated/uxarray.Grid.compute_face_areas.html\n",
    "- Hint: `compute_face_areas()` returns two arrays: 1. area of all faces in the mesh and 2. jacobian of all the faces in the mesh. You only need the first array, then call `sum()` on it.\n"
   ]
  },
  {
   "cell_type": "code",
   "execution_count": null,
   "metadata": {},
   "outputs": [],
   "source": [
    "# Your code here. When ready, click on the three dots below for the solution."
   ]
  },
  {
   "cell_type": "code",
   "execution_count": null,
   "metadata": {
    "jupyter": {
     "source_hidden": true
    },
    "tags": []
   },
   "outputs": [],
   "source": [
    "all_face_areas, all_face_jacobians = grid.compute_face_areas(\n",
    "    quadrature_rule=\"gaussian\", order=4\n",
    ")\n",
    "g4_area = all_face_areas.sum()\n",
    "g4_area"
   ]
  },
  {
   "cell_type": "markdown",
   "metadata": {
    "tags": []
   },
   "source": [
    "Now we compare the values with actual know value and report error for each of the three cases above.\n",
    "\n",
    "Just execute the cell below to view the outputs.\n"
   ]
  },
  {
   "cell_type": "code",
   "execution_count": null,
   "metadata": {},
   "outputs": [],
   "source": [
    "actual_area = 4 * np.pi\n",
    "diff_t4_area = np.abs(t4_area - actual_area)\n",
    "diff_t1_area = np.abs(t1_area - actual_area)\n",
    "diff_g4_area = np.abs(g4_area - actual_area)\n",
    "\n",
    "diff_t1_area, diff_t4_area, diff_g4_area"
   ]
  },
  {
   "cell_type": "markdown",
   "metadata": {},
   "source": [
    "## Visualizing E3SM Data as Polygons\n",
    "\n",
    "Polygon plotting is the primary method for visualizing face-centered data variables in UXarray.\n",
    "\n",
    " <div class=\"alert alert-block alert-info\">\n",
    "<b>Info:</b> UXarray’s Plotting API is built around the <a href=\"https://holoviews.org/\">Holoviews</a> package. For details about customization and accepted parameters, pleases refer to their documentation.\n",
    "</div>\n"
   ]
  },
  {
   "cell_type": "markdown",
   "metadata": {},
   "source": [
    "#### 💻 Your turn:\n",
    "\n",
    "Visualize the first time coordinate of the `\"TREFHT\"` variable using polygons,\n",
    "with a `line_width=0.1` and `title=\"Vector Polygon Plot`\".\n",
    "\n",
    "- Documentation: https://uxarray.readthedocs.io/en/latest/user_api/generated/uxarray.UxDataArray.plot.polygons.html\n",
    "- Hint: Use `isel` with the time label, and `plot.polygons`.\n"
   ]
  },
  {
   "cell_type": "code",
   "execution_count": null,
   "metadata": {},
   "outputs": [],
   "source": [
    "# Your code here. When ready, click on the three dots below for the solution."
   ]
  },
  {
   "cell_type": "code",
   "execution_count": null,
   "metadata": {
    "jupyter": {
     "source_hidden": true
    },
    "tags": []
   },
   "outputs": [],
   "source": [
    "uxds[\"TREFHT\"].isel(time=0).plot.polygons(line_width=0.1, title=\"Vector Polygon Plot\")"
   ]
  },
  {
   "cell_type": "markdown",
   "metadata": {},
   "source": [
    "### Excluding Antimeridian\n",
    "\n",
    "For larger datasets, its suggested to keep exclude_antimeridian=True as a parameter. This will exclude polygons that would require expensive recomputations for splitting along the antimeridian.\n"
   ]
  },
  {
   "cell_type": "markdown",
   "metadata": {},
   "source": [
    "#### 💻 Your turn:\n",
    "\n",
    "Exclude the antimeridian for the same plot as above.\n",
    "\n",
    "- Documentation: https://uxarray.readthedocs.io/en/latest/user_api/generated/uxarray.UxDataArray.plot.polygons.html\n"
   ]
  },
  {
   "cell_type": "code",
   "execution_count": null,
   "metadata": {},
   "outputs": [],
   "source": [
    "# Your code here. When ready, click on the three dots below for the solution."
   ]
  },
  {
   "cell_type": "code",
   "execution_count": null,
   "metadata": {
    "jupyter": {
     "source_hidden": true
    },
    "tags": []
   },
   "outputs": [],
   "source": [
    "uxds[\"TREFHT\"].isel(time=0).plot.polygons(\n",
    "    line_width=0.1,\n",
    "    title=\"Vector Polygon Plot (Excluding Antimeridian)\",\n",
    "    exclude_antimeridian=True,\n",
    ")"
   ]
  },
  {
   "cell_type": "markdown",
   "metadata": {},
   "source": [
    "### Rasterized Polygon Plots\n"
   ]
  },
  {
   "cell_type": "markdown",
   "metadata": {},
   "source": [
    "#### 💻 Your turn:\n",
    "\n",
    "Generate the rasterized version of the polygon plot.\n",
    "\n",
    "- Documentation: https://uxarray.readthedocs.io/en/latest/user_api/generated/uxarray.UxDataArray.plot.rasterize.html\n",
    "- Hint: Use `plot.rasterize` with a `method=\"polygon\"` and `\"Raster Polygon Plot\"`.\n"
   ]
  },
  {
   "cell_type": "code",
   "execution_count": null,
   "metadata": {},
   "outputs": [],
   "source": [
    "# Your code here. When ready, click on the three dots below for the solution."
   ]
  },
  {
   "cell_type": "code",
   "execution_count": null,
   "metadata": {
    "jupyter": {
     "source_hidden": true
    },
    "tags": []
   },
   "outputs": [],
   "source": [
    "uxds[\"TREFHT\"].isel(time=0).plot.rasterize(\n",
    "    method=\"polygon\", title=\"Raster Polygon Plot\"\n",
    ")"
   ]
  },
  {
   "cell_type": "markdown",
   "metadata": {
    "tags": []
   },
   "source": [
    "### Dynamic Rasterized Polygon Plots\n",
    "\n",
    "By using the dynamic=True paramter, the plot will automatically re-rasterize itself when zooming or panning, leading to better data fidelity. It is also suggested to set a static clim=(min, max) to prevent the colorbar from also changing"
   ]
  },
  {
   "cell_type": "markdown",
   "metadata": {
    "tags": []
   },
   "source": [
    "#### 💻 Your turn:\n",
    "\n",
    "Generate the dynamic rasterized version of the polygon plot.\n",
    "\n",
    "- Documentation: https://uxarray.readthedocs.io/en/latest/user_api/generated/uxarray.UxDataArray.plot.rasterize.html\n",
    "- Hint: Add `dynamic=True` to the same call to `rasterize()` in the above exercise.\n"
   ]
  },
  {
   "cell_type": "code",
   "execution_count": null,
   "metadata": {
    "jupyter": {
     "source_hidden": true
    },
    "tags": []
   },
   "outputs": [],
   "source": [
    "uxds['TREFHT'].isel(time=0).plot.rasterize(method='polygon', title='Raster Polygon Plot (Dynamic)', dynamic=True)"
   ]
  },
  {
   "cell_type": "markdown",
   "metadata": {},
   "source": [
    "## Interoperability with xCDAT\n",
    "\n",
    "Since `ux.UxDataset` and `ux.UxDataArray` extend the `xr.Dataset` and `xr.DataArray` classes,\n",
    "_most_ xCDAT APIs are interoperable with UXarray objects.\n",
    "\n",
    "- The exception is xCDAT's [spatial averager](https://xcdat.readthedocs.io/en/latest/generated/xarray.Dataset.spatial.average.html), which requires data on rectilinear grids. The data must first be remapped from unstructured to rectilinear grid using another tool like `nco` (`ncremap`).\n",
    "- There are plans to support unstructured to structured regridding in UXarray in the future.\n",
    "\n",
    "Resources:\n",
    "\n",
    "- [xCDAT Documentation Homepage](https://xcdat.readthedocs.io/en/stable/)\n",
    "- [xCDAT API Reference Guide](https://xcdat.readthedocs.io/en/stable/api.html)\n",
    "\n",
    "## Next Steps\n",
    "\n",
    "Feel free to jump over to the `xcdat_practicum_notebook.ipynb` to work with `nco` and `xcdat`.\n"
   ]
  }
 ],
 "metadata": {
  "kernelspec": {
   "display_name": "uxarray_practicum",
   "language": "python",
   "name": "uxarray_practicum"
  },
  "language_info": {
   "codemirror_mode": {
    "name": "ipython",
    "version": 3
   },
   "file_extension": ".py",
   "mimetype": "text/x-python",
   "name": "python",
   "nbconvert_exporter": "python",
   "pygments_lexer": "ipython3",
   "version": "3.12.3"
  }
 },
 "nbformat": 4,
 "nbformat_minor": 4
}
