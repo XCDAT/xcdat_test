{
 "cells": [
  {
   "cell_type": "markdown",
   "metadata": {},
   "source": [
    "# Analysis and Visualization of E3SM Data using UXarray\n",
    "\n",
    "E3SM Tutorial Workshop 2024\n",
    "\n",
    "05/07/2024\n",
    "\n",
    "Authors: [Tom Vo](https://github.com/tomvothecoder) and [Stephen Po-Chedley](https://github.com/pochedls)\n"
   ]
  },
  {
   "cell_type": "markdown",
   "metadata": {},
   "source": [
    "## Overview\n",
    "\n",
    "This exercise notebook will walkthrough and example end-to-end analysis workflow of E3SM\n",
    "native format data using UXarray and xCDAT. It explores the capabilities of UXarray and xCDAT\n",
    "at a high-level, including grid analysis and computational operations. Towards the end\n",
    "there will brief coverage of parallelizing Xarray-based operations using Dask.\n",
    "\n",
    "1. Open E3SM Data with Grid Files using UXarray\n",
    "2. Visualize Grid Topology\n",
    "3. Face Area Calculations\n",
    "4. Subset an Unstructured Grid\n",
    "5. Regrid Unstructured to Unstructured Grid\n",
    "\n",
    "## Resources\n",
    "\n",
    "- [UXarray Documentation](https://uxarray.readthedocs.io/en/stable/)\n"
   ]
  },
  {
   "cell_type": "markdown",
   "metadata": {},
   "source": [
    "## Setup\n"
   ]
  },
  {
   "cell_type": "code",
   "execution_count": null,
   "metadata": {
    "tags": []
   },
   "outputs": [],
   "source": [
    "import glob\n",
    "\n",
    "import numpy as np\n",
    "import xarray as xr\n",
    "import xcdat as xc\n",
    "import uxarray as ux\n",
    "\n",
    "# The data directory containing the NetCDF files.\n",
    "# TODO: Update to perlmutter directory\n",
    "data_dir = \"/p/user_pub/work/E3SM/1_0/1950-Control-21yrContHiVol-HR/0_25deg_atm_18-6km_ocean/atmos/native/model-output/mon/ens1/v1/\"\n",
    "# The absolute paths to each NetCDF file in the data directory.\n",
    "data_paths = glob.glob(data_dir + \"*.nc\")\n",
    "\n",
    "# The path to the grid file.\n",
    "grid_path = \"/p/user_pub/e3sm/grids_maps/grids/ne120.g\""
   ]
  },
  {
   "cell_type": "markdown",
   "metadata": {},
   "source": [
    "## I/O and Computations with UXarray\n",
    "\n",
    "UXarray offers support for loading and representing unstructured grids by providing Xarray-like functionality paired with new routines that are specifically written for operating on unstructured grids.\n",
    "\n",
    "Source: https://uxarray.readthedocs.io/en/latest/examples/001-working-with-unstructured-grids.html#\n"
   ]
  },
  {
   "cell_type": "markdown",
   "metadata": {},
   "source": [
    "### Exercise 1. Open E3SM Dataset with Grid Files using UXarray\n",
    "\n",
    "When working with Unstructured Grids, the grid definition and data variables are often stored as separate files. This means that there are multiple separate files that need to be read and linked together to represent the entire dataset.\n",
    "\n",
    "A `ux.Dataset` object is an `xarray.Dataset-like`, multi-dimensional, in memory, array database. Inherits from `xarray.Dataset` and has its own unstructured grid-aware dataset operators and attributes through the uxgrid accessor.\n",
    "\n",
    "Source: https://uxarray.readthedocs.io/en/latest/getting-started/overview.html\n"
   ]
  },
  {
   "cell_type": "markdown",
   "metadata": {
    "tags": []
   },
   "source": [
    "#### 💻 Your turn:\n",
    "\n",
    "Use `ux.open_mfdataset()` to open the grid file and the NetCDF files as a `ux.Dataset` object.\n",
    "\n",
    "Hint: Use `grid_path` and `data_paths` as function arguments.\n"
   ]
  },
  {
   "cell_type": "code",
   "execution_count": null,
   "metadata": {
    "tags": []
   },
   "outputs": [],
   "source": [
    "# Your code here. When ready, click on the three dots below for the solution."
   ]
  },
  {
   "cell_type": "code",
   "execution_count": null,
   "metadata": {},
   "outputs": [],
   "source": [
    "uxds = ux.open_mfdataset(grid_path, data_paths[0:1])"
   ]
  },
  {
   "cell_type": "markdown",
   "metadata": {},
   "source": [
    "### Exercise 2: Visualize the Grid Topology\n",
    "\n",
    "In this exercise, we will visualize the topology of an unstructured grid (i.e., the\n",
    "elements that make up a grid).\n",
    "\n",
    "Exercises are copied from https://uxarray.readthedocs.io/en/latest/examples/006-plot-api-topology.html.\n"
   ]
  },
  {
   "cell_type": "markdown",
   "metadata": {},
   "source": [
    "#### 💻 Your turn:\n",
    "\n",
    "Extract the grid topology from the `uxds` and plot it.\n",
    "\n",
    "Hint: Use the `.uxgrid` attribute and call `.plot()`\n"
   ]
  },
  {
   "cell_type": "code",
   "execution_count": null,
   "metadata": {},
   "outputs": [],
   "source": [
    "# Your code here. When ready, click on the three dots below for the solution."
   ]
  },
  {
   "cell_type": "code",
   "execution_count": null,
   "metadata": {},
   "outputs": [],
   "source": [
    "grid = uxds.uxgrid\n",
    "grid.plot(title=\"Default Grid Plot Method\", height=350, width=700)"
   ]
  },
  {
   "cell_type": "markdown",
   "metadata": {},
   "source": [
    "### Exercise 3: Face Area Calculations\n",
    "\n",
    "This section covers the different area calculation options provided by `uxarray`.\n",
    "Note, this is a only subset of the available options.\n",
    "\n",
    "Exercises are copied from https://uxarray.readthedocs.io/en/latest/examples/003-area-calc.html\n"
   ]
  },
  {
   "cell_type": "markdown",
   "metadata": {},
   "source": [
    "#### 💻 Your turn:\n",
    "\n",
    "Calculate the total face area for the grid.all\n",
    "\n",
    "Hint: Use `.calculate_total_face_area()`\n"
   ]
  },
  {
   "cell_type": "code",
   "execution_count": null,
   "metadata": {},
   "outputs": [],
   "source": [
    "# Your code here. When ready, click on the three dots below for the solution."
   ]
  },
  {
   "cell_type": "code",
   "execution_count": null,
   "metadata": {},
   "outputs": [],
   "source": [
    "t4_area = grid.calculate_total_face_area()\n",
    "t4_area"
   ]
  },
  {
   "cell_type": "markdown",
   "metadata": {},
   "source": [
    "Calculate the total face area using the Quadratre Rule and Order of 4.\n",
    "\n",
    "Order:\n",
    "\n",
    "```\n",
    "   1 to 10              for gaussian\n",
    "   1, 4, 8, 10 and 12   for triangular\n",
    "```\n"
   ]
  },
  {
   "cell_type": "code",
   "execution_count": null,
   "metadata": {},
   "outputs": [],
   "source": [
    "# Your code here. When ready, click on the three dots below for the solution."
   ]
  },
  {
   "cell_type": "code",
   "execution_count": null,
   "metadata": {},
   "outputs": [],
   "source": [
    "t1_area = grid.calculate_total_face_area(quadrature_rule=\"triangular\", order=1)"
   ]
  },
  {
   "cell_type": "markdown",
   "metadata": {},
   "source": [
    "Access the individual face areas using `Grid.face_areas`, then calculate the area using `Grid.compute_face_areas`.\n"
   ]
  },
  {
   "cell_type": "code",
   "execution_count": null,
   "metadata": {},
   "outputs": [],
   "source": [
    "# Your code here. When ready, click on the three dots below for the solution."
   ]
  },
  {
   "cell_type": "code",
   "execution_count": null,
   "metadata": {},
   "outputs": [],
   "source": [
    "grid.face_areas"
   ]
  },
  {
   "cell_type": "code",
   "execution_count": null,
   "metadata": {},
   "outputs": [],
   "source": [
    "all_face_areas, all_face_jacobians = grid.compute_face_areas(\n",
    "    quadrature_rule=\"gaussian\", order=4\n",
    ")\n",
    "g4_area = all_face_areas.sum()\n",
    "g4_area"
   ]
  },
  {
   "cell_type": "markdown",
   "metadata": {},
   "source": [
    "Now we compare the values with actual know value and report error for each of the three cases above.\n"
   ]
  },
  {
   "cell_type": "code",
   "execution_count": null,
   "metadata": {},
   "outputs": [],
   "source": [
    "actual_area = 4 * np.pi\n",
    "diff_t4_area = np.abs(t4_area - actual_area)\n",
    "diff_t1_area = np.abs(t1_area - actual_area)\n",
    "diff_g4_area = np.abs(g4_area - actual_area)\n",
    "\n",
    "diff_t1_area, diff_t4_area, diff_g4_area"
   ]
  },
  {
   "cell_type": "markdown",
   "metadata": {},
   "source": [
    "## Interoperability with xCDAT\n",
    "\n",
    "Since `ux.UxDataset` and `ux.UxDataArray` extend the `xr.Dataset` and `xr.DataArray` classes,\n",
    "_most_ xCDAT APIs are interoperable with UXarray objects.\n",
    "\n",
    "- The exception is xCDAT's [spatial averager](https://xcdat.readthedocs.io/en/latest/generated/xarray.Dataset.spatial.average.html), which requires data on rectilinear grids. The data must first be remapped from unstructured to rectilinear grid using another tool like `nco`.\n",
    "- There are plans to support unstructured to structured regridding in UXarray in the future.\n",
    "\n",
    "Resources:\n",
    "\n",
    "- [xCDAT Documentation Homepage](https://xcdat.readthedocs.io/en/stable/)\n",
    "- [xCDAT API Reference Guide](https://xcdat.readthedocs.io/en/stable/api.html)\n",
    "\n",
    "Feel free to jump over to the `xcdat_practicum_notebook.ipynb` to work with `nco` and `xcdat`.\n"
   ]
  }
 ],
 "metadata": {
  "kernelspec": {
   "display_name": "Python 3 (ipykernel)",
   "language": "python",
   "name": "python3"
  },
  "language_info": {
   "codemirror_mode": {
    "name": "ipython",
    "version": 3
   },
   "file_extension": ".py",
   "mimetype": "text/x-python",
   "name": "python",
   "nbconvert_exporter": "python",
   "pygments_lexer": "ipython3",
   "version": "3.12.2"
  }
 },
 "nbformat": 4,
 "nbformat_minor": 4
}
