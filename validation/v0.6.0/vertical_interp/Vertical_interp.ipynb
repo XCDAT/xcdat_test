{
 "cells": [
  {
   "cell_type": "code",
   "execution_count": 1,
   "id": "249127b9",
   "metadata": {},
   "outputs": [],
   "source": [
    "import metpy.interpolate\n",
    "import numpy as np\n",
    "import xarray as xr\n",
    "import cf_xarray\n"
   ]
  },
  {
   "cell_type": "code",
   "execution_count": 2,
   "id": "89444108",
   "metadata": {},
   "outputs": [],
   "source": [
    "import xcdat\n",
    "import xgcm"
   ]
  },
  {
   "cell_type": "markdown",
   "id": "6e19e396",
   "metadata": {},
   "source": [
    "One vertical interplation case is to convert from hyrid sigma model vertical coordinate (https://www.cesm.ucar.edu/models/atm-cam/docs/usersguide/node25.html) to pressure coordinate.\n",
    "This note book testing three ways for this operation:\n",
    "\n",
    "1. Call `interp_hybrid_to_pressure` function from GeoCAT: https://github.com/NCAR/geocat-comp/blob/0263d2d77ab22a6be4d1d3f16d5bfcfc68057364/src/geocat/comp/interp_hybrid_to_pressure.py which wraps metpy's vertical interp function.\n",
    "\n",
    "2. Call metpy's vertical interp function directly: https://github.com/Unidata/MetPy/blob/main/src/metpy/interpolate/one_dimension.py:\n",
    "\n",
    "3. Use xgcm's vertical coordinates transforming: https://xgcm.readthedocs.io/en/latest/transform.html\n",
    "\n",
    "4. use cdutil vertical interp function:https://github.com/E3SM-Project/e3sm_diags/blob/master/e3sm_diags/driver/utils/general.py\n",
    "\n",
    "Data for testing are available at /p/user_pub/e3sm/zhang40/xcdat_test_e3sm:\n",
    "\n",
    "ds = xr.open_dataset('T_185001.nc') # Data includes one time step\n",
    "ds = xr.open_dataset('T_185001_201312.nc') # # Data includes longer time for performance tests"
   ]
  },
  {
   "cell_type": "markdown",
   "id": "164f523e",
   "metadata": {},
   "source": [
    "Next Cell copied from GeoCAT with minor change in _pressure_from_hybrid function."
   ]
  },
  {
   "cell_type": "code",
   "execution_count": 3,
   "id": "0a7193b3",
   "metadata": {},
   "outputs": [],
   "source": [
    "\n",
    "__pres_lev_mandatory__ = np.array([\n",
    "    1000, 925, 850, 700, 500, 400, 300, 250, 200, 150, 100, 70, 50, 30, 20, 10,\n",
    "    7, 5, 3, 2, 1\n",
    "]).astype(np.float32)  # Mandatory pressure levels (mb)\n",
    "__pres_lev_mandatory__ = __pres_lev_mandatory__ * 100.0  # Convert mb to Pa\n",
    "\n",
    "\n",
    "def _pressure_from_hybrid(psfc, hya, hyb, p0=100000.):\n",
    "    \"\"\"\n",
    "    Calculate pressure at the hybrid levels\n",
    "    \"\"\"\n",
    "    pressure = hya * p0 + hyb * psfc\n",
    "    # Temporarily added by Jill Zhang\n",
    "    pressure = pressure.transpose(\"time\",\"lev\",\"lat\", \"lon\") # Note order of the pressure dims should match those in ds['T']\n",
    "    return pressure\n",
    "    ## This will be in Pa\n",
    "    #return hya * p0 + hyb * psfc\n",
    "\n",
    "\n",
    "def interp_hybrid_to_pressure(data,\n",
    "                              ps,\n",
    "                              hyam,\n",
    "                              hybm,\n",
    "                              p0=100000.,\n",
    "                              new_levels=__pres_lev_mandatory__,\n",
    "                              lev_dim=None,\n",
    "                              method='linear'):\n",
    "    \"\"\"\n",
    "    Interpolate data from hybrid-sigma levels to isobaric levels.\n",
    "    Notes\n",
    "    -----\n",
    "    ACKNOWLEDGEMENT: We'd like to thank to Brian Medeiros (https://github.com/brianpm), Matthew Long\n",
    "    (https://github.com/matt-long), and Deepak Cherian (https://github.com/dcherian) at NCAR for their\n",
    "    great contributions since the code implemented here is mostly based on their work.\n",
    "    Parameters\n",
    "    ----------\n",
    "    data : xarray.DataArray\n",
    "        Multidimensional data array, which holds hybrid-sigma levels and has a `lev_dim` coordinate.\n",
    "    ps : xarray.DataArray\n",
    "        A multi-dimensional array of surface pressures (Pa), same time/space shape as data.\n",
    "    hyam, hybm : xarray.DataArray\n",
    "        One-dimensional arrays containing the hybrid A and B coefficients. Must have the same\n",
    "        dimension size as the `lev_dim` dimension of data.\n",
    "    p0 :\n",
    "        Scalar numeric value equal to surface reference pressure (Pa).\n",
    "    new_levels : np.ndarray\n",
    "        A one-dimensional array of output pressure levels (Pa). If not given, the mandatory\n",
    "        list of 21 pressure levels is used.\n",
    "    lev_dim : str\n",
    "        String that is the name of level dimension in data. Defaults to \"lev\".\n",
    "    method : str\n",
    "        String that is the interpolation method; can be either \"linear\" or \"log\". Defaults to \"linear\".\n",
    "    \"\"\"\n",
    "\n",
    "    # Determine the level dimension and then the interpolation axis\n",
    "    if lev_dim is None:\n",
    "        try:\n",
    "            lev_dim = data.cf[\"vertical\"].name\n",
    "        except Exception:\n",
    "            raise ValueError(\n",
    "                \"Unable to determine vertical dimension name. Please specify the name via `lev_dim` argument.'\"\n",
    "            )\n",
    "\n",
    "    interp_axis = data.dims.index(lev_dim)\n",
    "    print(interp_axis)\n",
    "\n",
    "    # Calculate pressure levels at the hybrid levels\n",
    "    pressure = _pressure_from_hybrid(ps, hyam, hybm, p0)  # Pa\n",
    "    \n",
    "\n",
    "    # Define interpolation function\n",
    "    if method == 'linear':\n",
    "        func_interpolate = metpy.interpolate.interpolate_1d\n",
    "    elif method == 'log':\n",
    "        func_interpolate = metpy.interpolate.log_interpolate_1d\n",
    "    else:\n",
    "        raise ValueError(f'Unknown interpolation method: {method}. '\n",
    "                         f'Supported methods are: \"log\" and \"linear\".')\n",
    "\n",
    "    def _vertical_remap(data, pressure):\n",
    "        \"\"\"\n",
    "        Define interpolation function.\n",
    "        \"\"\"\n",
    "\n",
    "        return func_interpolate(new_levels, pressure, data, axis=interp_axis)\n",
    "    \n",
    "    # Need to pass np.ndarray to func_interpolate, otherwise error `no implementation found for 'numpy.apply_along_axis'` is raised\n",
    "    # Known issues https://github.com/Unidata/MetPy/issues/1889\n",
    "    \n",
    "    # Apply vertical interpolation\n",
    "    # Apply Dask parallelization with xarray.apply_ufunc\n",
    "    output = xr.apply_ufunc(\n",
    "        _vertical_remap,\n",
    "        data.data,\n",
    "        pressure.data,\n",
    "        exclude_dims=set((lev_dim,)),  # Set dimensions allowed to change size\n",
    "        input_core_dims=[[lev_dim], [lev_dim]],  # Set core dimensions\n",
    "        output_core_dims=[[\"plev\"]],  # Specify output dimensions\n",
    "        vectorize=True,  # loop over non-core dims\n",
    "        dask=\"parallelized\",  # Dask parallelization\n",
    "        output_dtypes=[data.dtype],\n",
    "        dask_gufunc_kwargs={\"output_sizes\": {\n",
    "            \"plev\": len(new_levels)\n",
    "        }},\n",
    "    )\n",
    "\n",
    "    # Set output dims and coords\n",
    "    dims = [\"plev\"\n",
    "           ] + [data.dims[i] for i in range(data.ndim) if i != interp_axis]\n",
    "\n",
    "    coords = {}\n",
    "    for (k, v) in data.coords.items():\n",
    "        if k != lev_dim:\n",
    "            coords.update({k: v})\n",
    "        else:\n",
    "            coords.update({\"plev\": new_levels})\n",
    "        \n",
    "    # Create xr.DataArray since output of _vertical_remap is np.ndarray\n",
    "    input_dims = [\"plev\" if x == \"lev\" else x for x in data.dims]\n",
    "    output = xr.DataArray(output, dims=input_dims, coords=coords)\n",
    "    \n",
    "    output = output.transpose(*dims).assign_coords(coords)\n",
    "\n",
    "    return output"
   ]
  },
  {
   "cell_type": "code",
   "execution_count": 4,
   "id": "19111fae",
   "metadata": {},
   "outputs": [],
   "source": [
    "ds = xr.open_dataset('T_185001.nc') # Data includes one time step"
   ]
  },
  {
   "cell_type": "code",
   "execution_count": 5,
   "id": "b1073bc0",
   "metadata": {},
   "outputs": [],
   "source": [
    "#ds = xr.open_dataset('T_185001_201312.nc') # Data includes longer time for performance tests"
   ]
  },
  {
   "cell_type": "markdown",
   "id": "8d2fa9b5",
   "metadata": {},
   "source": [
    "1. Call `interp_hybrid_to_pressure` function from GeoCAT: https://github.com/NCAR/geocat-comp/blob/0263d2d77ab22a6be4d1d3f16d5bfcfc68057364/src/geocat/comp/interp_hybrid_to_pressure.py which wraps metpy's vertical interp function.\n"
   ]
  },
  {
   "cell_type": "code",
   "execution_count": 6,
   "id": "1d54bb0b",
   "metadata": {},
   "outputs": [
    {
     "name": "stdout",
     "output_type": "stream",
     "text": [
      "1\n"
     ]
    },
    {
     "name": "stderr",
     "output_type": "stream",
     "text": [
      "/opt/conda/lib/python3.10/site-packages/metpy/interpolate/one_dimension.py:137: UserWarning: Interpolation point out of data bounds encountered\n",
      "  warnings.warn('Interpolation point out of data bounds encountered')\n"
     ]
    }
   ],
   "source": [
    "ds_p = interp_hybrid_to_pressure(ds['T'], ds['PS'], ds['hyam'],ds['hybm'],p0=100000.,new_levels=np.array([92500,800]),lev_dim='lev',method='linear')"
   ]
  },
  {
   "cell_type": "code",
   "execution_count": 7,
   "id": "2aa28468",
   "metadata": {},
   "outputs": [],
   "source": [
    "# for logarithmic\n",
    "#ds_p = interp_hybrid_to_pressure(ds['T'], ds['PS'], ds['hyam'],ds['hybm'],p0=100000.,new_levels=np.array([92500,800]),lev_dim=\"lev\",method='log')"
   ]
  },
  {
   "cell_type": "markdown",
   "id": "b78e57c3",
   "metadata": {},
   "source": [
    "\n",
    "2. Call metpy's vertical interp function directly https://github.com/Unidata/MetPy/blob/main/src/metpy/interpolate/one_dimension.py:\n",
    "\n"
   ]
  },
  {
   "cell_type": "code",
   "execution_count": 8,
   "id": "a35170d0",
   "metadata": {},
   "outputs": [],
   "source": [
    "interp_axis = ds[\"T\"].dims.index(\"lev\")"
   ]
  },
  {
   "cell_type": "code",
   "execution_count": 9,
   "id": "4e491cc5",
   "metadata": {},
   "outputs": [
    {
     "name": "stdout",
     "output_type": "stream",
     "text": [
      "interp_axis 1\n"
     ]
    }
   ],
   "source": [
    "print(\"interp_axis\",interp_axis)"
   ]
  },
  {
   "cell_type": "code",
   "execution_count": 10,
   "id": "c6d7863e",
   "metadata": {},
   "outputs": [],
   "source": [
    "pressure = _pressure_from_hybrid(ds['PS'], ds['hyam'],ds['hybm'],p0=100000)  # Pa and with dim order (lev, time, lat, lon)"
   ]
  },
  {
   "cell_type": "code",
   "execution_count": 11,
   "id": "e76291f3",
   "metadata": {},
   "outputs": [],
   "source": [
    "pressure = pressure.transpose(\"time\",\"lev\",\"lat\", \"lon\") # Note order of the pressure dims should match those in ds['T']"
   ]
  },
  {
   "cell_type": "code",
   "execution_count": 12,
   "id": "b237a182",
   "metadata": {},
   "outputs": [],
   "source": [
    "interp_axis2 = pressure.dims.index(\"lev\")"
   ]
  },
  {
   "cell_type": "code",
   "execution_count": 13,
   "id": "b7b3b4a2",
   "metadata": {},
   "outputs": [
    {
     "name": "stdout",
     "output_type": "stream",
     "text": [
      "1 1\n"
     ]
    }
   ],
   "source": [
    "print(interp_axis, interp_axis2)"
   ]
  },
  {
   "cell_type": "code",
   "execution_count": 14,
   "id": "8179ee7a",
   "metadata": {},
   "outputs": [
    {
     "data": {
      "text/plain": [
       "array([[[[         nan,          nan,          nan, ...,          nan,\n",
       "                   nan,          nan],\n",
       "         [         nan,          nan,          nan, ...,          nan,\n",
       "                   nan,          nan],\n",
       "         [         nan,          nan,          nan, ...,          nan,\n",
       "                   nan,          nan],\n",
       "         ...,\n",
       "         [248.16436743, 248.16369337, 248.1616866 , ..., 248.09877904,\n",
       "          248.1616866 , 248.16369337],\n",
       "         [247.46496172, 247.4647326 , 247.46402985, ..., 247.46288347,\n",
       "          247.46402985, 247.4647326 ],\n",
       "         [247.04954523, 247.04952997, 247.04945363, ..., 247.0493164 ,\n",
       "          247.04945363, 247.04952997]],\n",
       "\n",
       "        [[         nan,          nan,          nan, ...,          nan,\n",
       "                   nan,          nan],\n",
       "         [         nan,          nan,          nan, ...,          nan,\n",
       "                   nan,          nan],\n",
       "         [         nan,          nan,          nan, ...,          nan,\n",
       "                   nan,          nan],\n",
       "         ...,\n",
       "         [246.92598528, 246.92548894, 246.92398454, ..., 246.8944067 ,\n",
       "          246.92398454, 246.92548894],\n",
       "         [246.35558461, 246.35537764, 246.35476131, ..., 246.35371851,\n",
       "          246.35476131, 246.35537764],\n",
       "         [245.97529194, 245.97526142, 245.97517509, ..., 245.97503904,\n",
       "          245.97517509, 245.97526142]]]])"
      ]
     },
     "execution_count": 14,
     "metadata": {},
     "output_type": "execute_result"
    }
   ],
   "source": [
    "# Need to pass np.ndarray to func_interpolate, otherwise error `no implementation found for 'numpy.apply_along_axis'` is raised\n",
    "# Known issues https://github.com/Unidata/MetPy/issues/1889\n",
    "\n",
    "metpy.interpolate.interpolate_1d(np.array([92500, 80000]), pressure.data, ds['T'].data, axis=interp_axis)"
   ]
  },
  {
   "cell_type": "code",
   "execution_count": 15,
   "id": "de25496b",
   "metadata": {},
   "outputs": [],
   "source": [
    "# for logarithmic\n",
    "#metpy.interpolate.log_interpolate_1d(np.array([92500, 80000]), pressure, ds['T'], axis=interp_axis)"
   ]
  },
  {
   "cell_type": "markdown",
   "id": "af74b887",
   "metadata": {},
   "source": [
    "3. Use xgcm's vertical coordinates transforming: https://xgcm.readthedocs.io/en/latest/transform.html"
   ]
  },
  {
   "cell_type": "code",
   "execution_count": 16,
   "id": "4c323b9b",
   "metadata": {},
   "outputs": [],
   "source": [
    "from xgcm import Grid"
   ]
  },
  {
   "cell_type": "code",
   "execution_count": 17,
   "id": "cb55cf17",
   "metadata": {},
   "outputs": [],
   "source": [
    "ds['pressure'] = pressure # pressure was constructured in cases 1 and 2"
   ]
  },
  {
   "cell_type": "code",
   "execution_count": 18,
   "id": "30cc0349",
   "metadata": {},
   "outputs": [],
   "source": [
    "# First create an xgcm grid object\n",
    "grid = Grid(ds, coords={'lev': {'center':'lev'}}, periodic=False)\n"
   ]
  },
  {
   "cell_type": "code",
   "execution_count": 19,
   "id": "0f387565",
   "metadata": {},
   "outputs": [
    {
     "name": "stderr",
     "output_type": "stream",
     "text": [
      "/opt/conda/lib/python3.10/site-packages/xgcm/grid.py:987: FutureWarning: From version 0.8.0 the Axis computation methods will be removed, in favour of using the Grid computation methods instead. i.e. use `Grid.transform` instead of `Axis.transform`\n",
      "  warnings.warn(\n"
     ]
    }
   ],
   "source": [
    "target_lev = np.array([80000, 92500])\n",
    "\n",
    "# and transform\n",
    "t_transformed = grid.transform(ds['T'], 'lev', target_lev, target_data=ds['pressure'])\n"
   ]
  },
  {
   "cell_type": "code",
   "execution_count": 20,
   "id": "09ce5fcc",
   "metadata": {},
   "outputs": [
    {
     "data": {
      "text/plain": [
       "(1, 129, 256, 2)"
      ]
     },
     "execution_count": 20,
     "metadata": {},
     "output_type": "execute_result"
    }
   ],
   "source": [
    "t_transformed.shape"
   ]
  },
  {
   "cell_type": "code",
   "execution_count": 21,
   "id": "157a85ed",
   "metadata": {},
   "outputs": [
    {
     "data": {
      "text/plain": [
       "<matplotlib.collections.QuadMesh at 0x7f3dad0ef010>"
      ]
     },
     "execution_count": 21,
     "metadata": {},
     "output_type": "execute_result"
    },
    {
     "data": {
      "image/png": "[encoded data removed]",
      "text/plain": [
       "<Figure size 640x480 with 2 Axes>"
      ]
     },
     "metadata": {},
     "output_type": "display_data"
    }
   ],
   "source": [
    "t_transformed[0,:,:,1].plot()"
   ]
  },
  {
   "cell_type": "markdown",
   "id": "7ee2acd4",
   "metadata": {},
   "source": [
    "4. use cdutil vertical interp function:https://github.com/E3SM-Project/e3sm_diags/blob/master/e3sm_diags/driver/utils/general.py "
   ]
  },
  {
   "cell_type": "code",
   "execution_count": 22,
   "id": "fc08de36",
   "metadata": {},
   "outputs": [],
   "source": [
    "import cdms2\n",
    "import cdutil"
   ]
  },
  {
   "cell_type": "code",
   "execution_count": 23,
   "id": "97f83438",
   "metadata": {},
   "outputs": [],
   "source": [
    "fin = cdms2.open('T_185001.nc')"
   ]
  },
  {
   "cell_type": "code",
   "execution_count": 24,
   "id": "9ea88db7",
   "metadata": {},
   "outputs": [],
   "source": [
    "var = fin('T')"
   ]
  },
  {
   "cell_type": "code",
   "execution_count": 25,
   "id": "7431f180",
   "metadata": {},
   "outputs": [],
   "source": [
    "ps = fin('PS')"
   ]
  },
  {
   "cell_type": "code",
   "execution_count": 26,
   "id": "2112758d",
   "metadata": {},
   "outputs": [],
   "source": [
    "hybm = fin('hybm')"
   ]
  },
  {
   "cell_type": "code",
   "execution_count": 27,
   "id": "cd6ea884",
   "metadata": {},
   "outputs": [],
   "source": [
    "hyam = fin('hyam')"
   ]
  },
  {
   "cell_type": "code",
   "execution_count": 28,
   "id": "dee8ffd3",
   "metadata": {},
   "outputs": [],
   "source": [
    "p0 = 100000.0  # Pa\n",
    "ps = ps # Pa\n",
    "levels_orig = cdutil.vertical.reconstructPressureFromHybrid(ps, hyam, hybm, p0)\n",
    "levels_orig.units = \"Pa\""
   ]
  },
  {
   "cell_type": "code",
   "execution_count": 29,
   "id": "84e61452",
   "metadata": {},
   "outputs": [],
   "source": [
    "var_p = cdutil.vertical.linearInterpolation(var, levels_orig, [92500, 80000])"
   ]
  },
  {
   "cell_type": "code",
   "execution_count": null,
   "id": "67a779db",
   "metadata": {},
   "outputs": [],
   "source": [
    "#Change to cdutil.vertical.linearInterpolation for logLinearInterpolation"
   ]
  }
 ],
 "metadata": {
  "kernelspec": {
   "display_name": "Python 3 (ipykernel)",
   "language": "python",
   "name": "python3"
  },
  "language_info": {
   "codemirror_mode": {
    "name": "ipython",
    "version": 3
   },
   "file_extension": ".py",
   "mimetype": "text/x-python",
   "name": "python",
   "nbconvert_exporter": "python",
   "pygments_lexer": "ipython3",
   "version": "3.10.5"
  }
 },
 "nbformat": 4,
 "nbformat_minor": 5
}
