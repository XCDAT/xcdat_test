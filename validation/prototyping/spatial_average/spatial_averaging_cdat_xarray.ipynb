{
 "cells": [
  {
   "cell_type": "markdown",
   "id": "recent-integer",
   "metadata": {},
   "source": [
    "# Spatial Averaging in xarray and CDAT"
   ]
  },
  {
   "cell_type": "markdown",
   "id": "featured-monte",
   "metadata": {},
   "source": [
    "This notebook will explore spatial averaging in CDAT and xarray. I will also try to [extend xarray](http://xarray.pydata.org/en/stable/internals.html#extending-xarray) using their datarray accessor functionality to build in simple spatial averaging in xarray. \n",
    "\n",
    "<span style=\"color:red\">Note that CDAT takes into account cell boundaries to accurately calculate weighting in each grid cell (at least I think it does). I'm not going to try to reproduce that in xarray (I'll do simple `cos(lat)` weighting).</span>\n"
   ]
  },
  {
   "cell_type": "markdown",
   "id": "expired-parallel",
   "metadata": {},
   "source": [
    "## Imports"
   ]
  },
  {
   "cell_type": "code",
   "execution_count": 1,
   "id": "informative-physiology",
   "metadata": {},
   "outputs": [
    {
     "name": "stderr",
     "output_type": "stream",
     "text": [
      "/home/jovyan/conda-envs/xcdat/lib/python3.7/site-packages/pkg_resources/__init__.py:1243: UserWarning: Extraction path is writable by group/others and vulnerable to attack when used with get_resource_filename (/home/jovyan/.cache/Python-Eggs). Consider a more secure location (set with .set_extraction_path or the PYTHON_EGG_CACHE environment variable).\n",
      "  warnings.warn(msg, UserWarning)\n"
     ]
    }
   ],
   "source": [
    "from scripts import xrw\n",
    "from scripts import cdw\n",
    "import xarray as xr\n",
    "import cdms2\n",
    "import cdutil\n",
    "import numpy as np\n",
    "import matplotlib.pyplot as plt\n",
    "import time as clockTime\n",
    "\n",
    "%matplotlib inline"
   ]
  },
  {
   "cell_type": "markdown",
   "id": "simple-guarantee",
   "metadata": {},
   "source": [
    "## Calculations using CDAT\n",
    "\n",
    "### Start by getting XML files"
   ]
  },
  {
   "cell_type": "code",
   "execution_count": 2,
   "id": "organic-bonus",
   "metadata": {},
   "outputs": [
    {
     "name": "stdout",
     "output_type": "stream",
     "text": [
      "climlib.wrangle.getFileMeta: problem opening, file skipped:\n",
      " /p/user_pub/xclim//CMIP6/CMIP/historical/atmos/mon/tas/CMIP6.CMIP.historical.KIOST.KIOST-ESM.r1i1p1f1.mon.tas.atmos.glb-z1-gr1.v20191106.0000000.0.xml\n"
     ]
    }
   ],
   "source": [
    "xmlFiles = cdw.getXmlFiles(mip_era='CMIP6', experiment='historical', variable='tas', frequency='mon', verbose=False)"
   ]
  },
  {
   "cell_type": "markdown",
   "id": "pleased-screening",
   "metadata": {},
   "source": [
    "CDAT had to skip a file: `cdscan` must have had an issue here.\n",
    "\n",
    "I want to loop over models, so I'll start by getting a list of all models (by parsing the xml paths for model names). "
   ]
  },
  {
   "cell_type": "code",
   "execution_count": 3,
   "id": "south-cruise",
   "metadata": {},
   "outputs": [],
   "source": [
    "models = []\n",
    "for fn in xmlFiles:\n",
    "    model = fn.split('/')[-1].split('.')[4]\n",
    "    models.append(model)\n",
    "# de-duplicate list\n",
    "models = list(set(models))\n",
    "models.sort()"
   ]
  },
  {
   "cell_type": "markdown",
   "id": "equipped-somewhere",
   "metadata": {},
   "source": [
    "Now let's loop over all models and calculate the time series for the global, tropical, and Nino 3.4 regions. "
   ]
  },
  {
   "cell_type": "code",
   "execution_count": 4,
   "id": "elder-certificate",
   "metadata": {},
   "outputs": [
    {
     "name": "stdout",
     "output_type": "stream",
     "text": [
      "CDAT operations took 14:01 to complete\n"
     ]
    }
   ],
   "source": [
    "# create output dictionaries\n",
    "n34_cdat = {}\n",
    "trop_cdat = {}\n",
    "global_cdat = {}\n",
    "\n",
    "# loop over models and perform averaging calculations\n",
    "cdatStart = clockTime.time()\n",
    "for model in models:\n",
    "    # subset model xml files\n",
    "    modelXmlFiles = [fn for fn in xmlFiles if '.' + model + '.' in fn]\n",
    "    # get first file and realization id\n",
    "    fn = modelXmlFiles[0]\n",
    "    rip = fn.split('.')[5]\n",
    "    # load data from first file in list\n",
    "    f = cdms2.open(fn)\n",
    "    tas = f('tas')\n",
    "    f.close()\n",
    "    # global average\n",
    "    tasg = cdutil.averager(tas, axis='xy', weights='weighted')\n",
    "    # tropical average\n",
    "    R1 = cdutil.region.domain(latitude=(-25, 25))\n",
    "    tast = cdutil.averager(R1.select(tas), axis='xy', weights='weighted')\n",
    "    # Nino 3.4 region\n",
    "    R1 = cdutil.region.domain(latitude=(-5., 5.), longitude=(-170., -120.))\n",
    "    n34 = cdutil.averager(R1.select(tas), axis='xy', weights='weighted')\n",
    "    # put data into dictionary\n",
    "    n34_cdat[model] = {rip: n34}\n",
    "    trop_cdat[model] = {rip: tast}\n",
    "    global_cdat[model] = {rip: tasg}\n",
    "cdatEnd = clockTime.time()\n",
    "\n",
    "ttotal = (cdatEnd - cdatStart) / 60.\n",
    "tmin = int(np.floor(ttotal))\n",
    "tsec = int((ttotal - np.floor(ttotal))*60)\n",
    "ttotalstr = str(tmin) + ':' + \"{:02d}\".format(tsec)\n",
    "print('CDAT operations took ' + ttotalstr + ' to complete')"
   ]
  },
  {
   "cell_type": "markdown",
   "id": "analyzed-portugal",
   "metadata": {},
   "source": [
    "## Calculations using xarray\n",
    "\n",
    "### Start by getting paths to CMIP data"
   ]
  },
  {
   "cell_type": "code",
   "execution_count": 5,
   "id": "stopped-partnership",
   "metadata": {},
   "outputs": [],
   "source": [
    "dpaths = xrw.get_cmip_paths(mip_era='CMIP6', experiment='historical', variable='tas', frequency='mon', verbose=False)"
   ]
  },
  {
   "cell_type": "markdown",
   "id": "similar-detector",
   "metadata": {},
   "source": [
    "First I am going to register a custom class to extend an xarray dataset so that I can compute the spatial average directly."
   ]
  },
  {
   "cell_type": "code",
   "execution_count": 6,
   "id": "hybrid-lightning",
   "metadata": {},
   "outputs": [],
   "source": [
    "@xr.register_dataset_accessor('geo')\n",
    "class GeoAccessor:\n",
    "    def __init__(self, xarray_obj):\n",
    "        self._obj = xarray_obj\n",
    "        self._get_weights = None\n",
    "\n",
    "    def get_spatial_average(self,\n",
    "                            vid,\n",
    "                            latBnds=[-90., 90.],\n",
    "                            lonBnds=[0., 360.]):\n",
    "        try:\n",
    "            data = self._obj[vid].sel(latitude=slice(latBnds[0], latBnds[1]),\n",
    "                                      longitude=slice(lonBnds[0], lonBnds[1]))\n",
    "            lat = self._obj[vid].latitude\n",
    "        except:\n",
    "            data = self._obj[vid].sel(lat=slice(latBnds[0], latBnds[1]),\n",
    "                                      lon=slice(lonBnds[0], lonBnds[1]))\n",
    "            lat = self._obj[vid].lat\n",
    "        latbnds = self.get_lat_bounds()\n",
    "        # this is a hack...\n",
    "        if len(latbnds.shape) > 2:\n",
    "            latbnds = latbnds[0, :, :]\n",
    "        weights = self.get_weights(latbnds)\n",
    "        weights[np.isnan(weights)] = 0.\n",
    "        Ix = np.where((np.array(lat) <= latBnds[1]) & (np.array(lat) >= latBnds[0]))[0]\n",
    "        try:\n",
    "            weights = weights.isel(lat=Ix)\n",
    "            wdata = data.weighted(weights)\n",
    "            ts = wdata.mean(('lon', 'lat'))\n",
    "        except:\n",
    "            weights = weights.isel(latitude=Ix)\n",
    "            wdata = data.weighted(weights)\n",
    "            ts = wdata.mean(('longitude', 'latitude'))\n",
    "        return ts\n",
    "\n",
    "    def get_weights(self, latbnds):\n",
    "        \"\"\"Get weights for rectilinear grid.\"\"\"\n",
    "        slat = np.sin(latbnds * np.pi / 180.)\n",
    "        weights = np.abs(slat[:, 0] - slat[:, 1])\n",
    "        weights.name = 'weights'\n",
    "        return weights\n",
    "\n",
    "    def get_lat_bounds(self):\n",
    "        \"\"\"Get weights for rectilinear grid.\"\"\"\n",
    "        vlist = list(self._obj.keys())\n",
    "        if 'lat_bnds' in vlist:\n",
    "            latbnds = self._obj.lat_bnds\n",
    "        elif 'latitude_bnds' in vlist:\n",
    "            latbnds = self._obj.latitude_bnds\n",
    "        else:\n",
    "            # get latitude\n",
    "            for v in vlist:\n",
    "                clist = list(ds[v].coords)\n",
    "                if 'lat' in clist:\n",
    "                    lat = np.array(self._obj[v].lat)\n",
    "                elif 'latitude' in clist:\n",
    "                    lat = self._obj[v].latitude\n",
    "                else:\n",
    "                    continue\n",
    "            lat_mid = np.array((np.array(lat[1:]) + np.array(lat[0:-1])) / 2.)\n",
    "            latbnds = np.zeros((len(lat), 2))\n",
    "            if np.sign(lat[0]) < 0:\n",
    "                latbnds[:, 0] = np.concatenate(([-90], lat_mid))\n",
    "                latbnds[:, 1] = np.concatenate((lat_mid, [90]))\n",
    "            else:\n",
    "                latbnds[:, 0] = np.concatenate(([90], lat_mid))\n",
    "                latbnds[:, 1] = np.concatenate((lat_mid, [-90]))\n",
    "            latbnds = xr.DataArray(latbnds,\n",
    "                                   coords=[lat, [0, 1]],\n",
    "                                   dims=['lat', 'nbnd'],\n",
    "                                   attrs={'units': 'degrees_north'})\n",
    "        return latbnds"
   ]
  },
  {
   "cell_type": "markdown",
   "id": "magnetic-karen",
   "metadata": {},
   "source": [
    "Now loop over data paths and perform same calculation with xarray. "
   ]
  },
  {
   "cell_type": "code",
   "execution_count": 7,
   "id": "subjective-message",
   "metadata": {},
   "outputs": [
    {
     "name": "stderr",
     "output_type": "stream",
     "text": [
      "/home/jovyan/conda-envs/xcdat/lib/python3.7/site-packages/xarray/conventions.py:520: SerializationWarning: variable 'tas' has multiple fill values {1e+20, 1e+20}, decoding all values to NaN.\n",
      "  decode_timedelta=decode_timedelta,\n",
      "/home/jovyan/conda-envs/xcdat/lib/python3.7/site-packages/xarray/conventions.py:520: SerializationWarning: variable 'tas' has multiple fill values {1e+20, 1e+20}, decoding all values to NaN.\n",
      "  decode_timedelta=decode_timedelta,\n",
      "/home/jovyan/conda-envs/xcdat/lib/python3.7/site-packages/xarray/conventions.py:520: SerializationWarning: variable 'tas' has multiple fill values {1e+20, 1e+20}, decoding all values to NaN.\n",
      "  decode_timedelta=decode_timedelta,\n",
      "/home/jovyan/conda-envs/xcdat/lib/python3.7/site-packages/xarray/conventions.py:520: SerializationWarning: variable 'tas' has multiple fill values {1e+20, 1e+20}, decoding all values to NaN.\n",
      "  decode_timedelta=decode_timedelta,\n"
     ]
    },
    {
     "name": "stdout",
     "output_type": "stream",
     "text": [
      "xarray operations took 4:55 to complete\n"
     ]
    }
   ],
   "source": [
    "# create output dictionaries\n",
    "n34_xarray = {}\n",
    "trop_xarray = {}\n",
    "global_xarray = {}\n",
    "\n",
    "xarrayStart = clockTime.time()\n",
    "for model in models:\n",
    "    modelPaths = [p for p in dpaths if '/' + model + '/' in p]\n",
    "    # get same variant as CDAT\n",
    "    rip = list(n34_cdat[model].keys())[0]\n",
    "    dpath = [p for p in modelPaths if '/' + rip + '/' in p]\n",
    "    # open data\n",
    "    ds = xr.open_mfdataset(dpath[0] + '*', combine='by_coords')\n",
    "    ds.load()  # load into memory\n",
    "    # take global weighted average\n",
    "    tasg = ds.geo.get_spatial_average('tas').load()\n",
    "    # take tropical weighted average\n",
    "    tast = ds.geo.get_spatial_average('tas', latBnds=[-25, 25]).load()\n",
    "    # take nino 3.4 average\n",
    "    n34 = ds.geo.get_spatial_average('tas', latBnds=[-5, 5], lonBnds=[190, 240]).load()\n",
    "    ds.close()\n",
    "    # put data into dictionary\n",
    "    n34_xarray[model] = {rip: n34}\n",
    "    trop_xarray[model] = {rip: tast}\n",
    "    global_xarray[model] = {rip: tasg}\n",
    "xarrayEnd = clockTime.time()\n",
    "\n",
    "ttotal = (xarrayEnd - xarrayStart) / 60.\n",
    "tmin = int(np.floor(ttotal))\n",
    "tsec = int((ttotal - np.floor(ttotal))*60)\n",
    "ttotalstr = str(tmin) + ':' + \"{:02d}\".format(tsec)\n",
    "print('xarray operations took ' + ttotalstr + ' to complete')"
   ]
  },
  {
   "cell_type": "markdown",
   "id": "stunning-examination",
   "metadata": {},
   "source": [
    "I'm now going to loop over the results, print the cases where xarray and CDAT differ, and scatter the time series to compare."
   ]
  },
  {
   "cell_type": "code",
   "execution_count": 8,
   "id": "innocent-james",
   "metadata": {},
   "outputs": [],
   "source": [
    "cdatDict = {'Global': global_cdat, 'Tropical': trop_cdat, 'N34': n34_cdat}\n",
    "xrDict = {'Global': global_xarray, 'Tropical': trop_xarray, 'N34': n34_xarray}\n",
    "regions = ['Global', 'Tropical', 'N34']\n",
    "pbounds = [[280, 300], [294, 304], [294, 306]]"
   ]
  },
  {
   "cell_type": "code",
   "execution_count": 9,
   "id": "reverse-travel",
   "metadata": {},
   "outputs": [
    {
     "name": "stdout",
     "output_type": "stream",
     "text": [
      "Global\n",
      "NorCPM1 2160 0.456594131657909 1.9401549652500003 0.5508419684147291\n",
      "Tropical\n",
      "ACCESS-ESM1-5 1980 0.999528963943748 0.08170155031384427 0.08069338594903852\n",
      "AWI-CM-1-1-MR 1980 0.9999584411334277 0.027565462988733996 0.027127484665929284\n",
      "AWI-ESM-1-1-LR 1980 0.9994572818663541 0.08430840540551318 -0.08249553324644114\n",
      "BCC-CSM2-MR 1980 0.9998330382162176 0.041481350786956986 -0.040825015107511485\n",
      "BCC-ESM1 1980 0.9999856617873304 0.010887370303472607 0.010700843251088476\n",
      "CAMS-CSM1-0 1980 0.9999389259703352 0.04436076560719383 -0.043931692676721174\n",
      "CESM2 1980 0.9998851891825862 0.05302265465508988 0.05249733098989194\n",
      "CESM2-FV2 1980 0.9998933280991821 0.044498449748200046 -0.04401393798240997\n",
      "CESM2-WACCM 1980 0.9998816879150869 0.05188890266570102 0.051378122231520225\n",
      "CESM2-WACCM-FV2 1980 0.9998619724451434 0.04471177613554253 -0.044171511711275147\n",
      "CIESM 1980 0.9999128006160191 0.04506450610912527 0.044428689904418145\n",
      "CMCC-CM2-HR4 1980 0.999808573724327 0.04990562087588431 0.04884333285352009\n",
      "CMCC-CM2-SR5 1980 0.999878553934156 0.051704623620438546 0.05088991651112537\n",
      "CMCC-ESM2 1980 0.9998867778544669 0.05232063484944913 0.05164065611940468\n",
      "CNRM-CM6-1 1980 0.9999584435601807 0.021894914773424767 0.021572832790950933\n",
      "CNRM-ESM2-1 1980 0.999957930774614 0.02164994481813783 0.021320214237856867\n",
      "CanESM5 1980 0.9999915081556299 0.013809122184206574 0.01359835006929721\n",
      "CanESM5-CanOE 1980 0.9999916204512771 0.013716685787232683 0.01350988347762249\n",
      "EC-Earth3 540 0.9999551809996922 0.02766177407525116 0.0272719539108207\n",
      "EC-Earth3-AerChem 1980 0.9999427329639009 0.027150028592217802 0.026761752023488548\n",
      "EC-Earth3-CC 1980 0.9999680129892362 0.027487223088338297 0.02712089361584053\n",
      "EC-Earth3-Veg 1812 0.9999652595960157 0.02743060901220049 0.027066304293398707\n",
      "EC-Earth3-Veg-LR 1980 0.9999260946163502 0.03405980984606263 -0.03351489280061097\n",
      "FGOALS-g3 2004 0.9994953651261995 0.09989015764368582 -0.09875058515982334\n",
      "FIO-ESM-2-0 1980 0.9998505948266245 0.049298624530979475 0.0484562822689669\n",
      "GISS-E2-1-G 1980 0.9991373505797837 0.12209621997078393 0.12035098779621295\n",
      "GISS-E2-1-G-CC 1980 0.9992069396674312 0.12260229390326838 0.12084613309042441\n",
      "GISS-E2-1-H 1980 0.999196188545221 0.12425957200554401 0.1229299078365212\n",
      "INM-CM4-8 1980 0.9999261793370735 0.057463850912254526 0.05711232719518483\n",
      "INM-CM5-0 1980 0.9999167513677885 0.05891737677463657 0.058585591683396186\n",
      "IPSL-CM5A2-INCA 1980 0.9998832591497212 0.04981504979763705 -0.04894755577899612\n",
      "IPSL-CM6A-LR-INCA 1980 0.9999528355167385 0.035521554260467 -0.03510617117833664\n",
      "MCM-UA-1-0 1980 0.9997978359051048 0.0623770225195589 -0.061001615374678124\n",
      "MIROC-ES2H 12 0.9999539580426084 0.02338547097495386 0.022899566195510108\n",
      "MIROC-ES2L 1980 0.9999929433281615 0.01055440098537842 0.01037500284343322\n",
      "MIROC6 1980 0.9999660797217509 0.019708791882026053 0.019141142476976826\n",
      "MPI-ESM-1-2-HAM 1980 0.9994572781300025 0.09030722411750502 -0.08922743237836313\n",
      "MPI-ESM1-2-HR 1980 0.9999633440382077 0.029582426420982005 0.029193635056387078\n",
      "MPI-ESM1-2-LR 1980 0.9996291373137975 0.09476760644397783 -0.09358990161050369\n",
      "MRI-ESM2-0 1980 0.9998206236006234 0.043939894905054566 -0.04306505436106241\n",
      "NESM3 1980 0.9995846112069292 0.06742472846737448 -0.06540043571812804\n",
      "NorCPM1 2160 0.7531655705642553 0.3366649865953959 0.05289732006959456\n",
      "NorESM2-LM 1980 0.9998780345473097 0.04815601074564425 -0.0476153862789109\n",
      "NorESM2-MM 1980 0.999876904958791 0.052738908563502336 0.05212772481570078\n",
      "SAM0-UNICON 1980 0.9998468560636901 0.04600594783483121 0.045280341389415564\n",
      "TaiESM1 1980 0.9998506697239827 0.04739595069885395 0.046670778995538016\n",
      "N34\n",
      "ACCESS-CM2 1980 0.9999845521106231 0.01442837574195258 -0.013251087456080796\n",
      "ACCESS-ESM1-5 1980 0.9993404549460987 0.09934911594858994 -0.09067641999161342\n",
      "AWI-CM-1-1-MR 1980 0.9998459703413546 0.09380959434422231 0.08915046225849947\n",
      "AWI-ESM-1-1-LR 1980 0.9996734090167733 0.1056188718025948 -0.1011748951293323\n",
      "BCC-CSM2-MR 1980 0.9994828916441 0.1909266112724071 0.18331720992245035\n",
      "BCC-ESM1 1980 0.9996745678342162 0.11910859709309027 -0.11504722472821605\n",
      "CAMS-CSM1-0 1980 0.9996144376099739 0.14539581434103305 0.1268973430266641\n",
      "CESM2 1980 0.9999599690765005 0.04133983603919209 0.03610957318808847\n",
      "CESM2-FV2 1980 0.9998613144890086 0.08185983221649823 -0.06641747833793733\n",
      "CESM2-WACCM 1980 0.9999616580488937 0.044472213915619 0.03982495689454598\n",
      "CESM2-WACCM-FV2 1980 0.9998407601838749 0.08485255300912192 -0.07177248610342578\n",
      "CIESM 1980 0.9999506580575561 0.03535784252096548 0.03147998143616997\n",
      "CMCC-CM2-HR4 1980 0.9998923563285481 0.05585781037620759 0.050078979111924465\n",
      "CMCC-CM2-SR5 1980 0.9999456985693014 0.06907991954527622 0.0659965371384568\n",
      "CMCC-ESM2 1980 0.9999416176169013 0.06767818495103455 0.06309044264611682\n",
      "CNRM-CM6-1 1980 0.9998524895380579 0.08793045169736403 -0.07779291397539159\n",
      "CNRM-ESM2-1 1980 0.999851708476659 0.09683829701503766 -0.08460000209530529\n",
      "CanESM5 1980 0.9998727870480176 0.07719049944364424 -0.07562261694420357\n",
      "CanESM5-CanOE 1980 0.9998624756866209 0.08026015019203223 -0.07881659149667211\n",
      "EC-Earth3 540 0.9999806882301145 0.016276019830315888 0.014303576984269529\n",
      "EC-Earth3-AerChem 1980 0.9999720088981205 0.015112097530185699 0.013349064867485097\n",
      "EC-Earth3-CC 1980 0.999978224612233 0.015499149488102899 0.013545767521910855\n",
      "EC-Earth3-Veg 1812 0.9999774555657873 0.01583324785267004 0.013888896931934774\n",
      "EC-Earth3-Veg-LR 1980 0.9994647015209122 0.05409373607638726 0.04335726237085862\n",
      "FGOALS-g3 2004 0.9986444733418879 0.21473797606301684 0.1944316983909197\n",
      "FIO-ESM-2-0 1980 0.9999449742834293 0.04910835108542583 0.04602042693085807\n",
      "GISS-E2-1-G 1980 0.9995891013017275 0.12047205584910665 -0.0907910305969419\n",
      "GISS-E2-1-G-CC 1980 0.9995937314780451 0.12009879824080417 -0.08833825333574867\n",
      "GISS-E2-1-H 1980 0.9995029175130064 0.12306748998503983 -0.10665626399339703\n",
      "HadGEM3-GC31-LL 1980 0.9999830101331612 0.01911627158248767 -0.017545498695919304\n",
      "INM-CM4-8 1980 0.9998771051771206 0.13790312115360706 0.1261969786091451\n",
      "INM-CM5-0 1980 0.9998544544782324 0.1293146879302726 0.11574441733507086\n",
      "IPSL-CM5A2-INCA 1980 0.9995846037230143 0.09029470457875813 -0.08608204412230584\n",
      "IPSL-CM6A-LR-INCA 1980 0.9997891071133534 0.11915143821780312 0.11540730674633284\n",
      "KACE-1-0-G 1980 0.9999840045351495 0.013756175439090494 -0.012297995581186076\n",
      "MCM-UA-1-0 1980 0.9994137417640382 0.07103952178806562 0.06109584787336144\n",
      "MIROC-ES2H 12 0.9998409173130349 0.09513053803165132 -0.07178839383307434\n",
      "MIROC-ES2L 1980 0.9999109834278236 0.044890377844049104 -0.03043341311511576\n",
      "MIROC6 1980 0.9997531039976733 0.0935542394018611 -0.0753188407865052\n",
      "MPI-ESM-1-2-HAM 1980 0.9998828085189543 0.08728584762240785 -0.08413332046718196\n",
      "MPI-ESM1-2-HR 1980 0.9999075473543665 0.09394024576893273 0.09137150905173091\n",
      "MPI-ESM1-2-LR 1980 0.9998828384360663 0.07464729545127122 -0.068667609300712\n",
      "MRI-ESM2-0 1980 0.9996898680506924 0.08959068562304397 0.08091740123402667\n",
      "NESM3 1980 0.9982683554065931 0.056545396177892365 -0.027030015066090086\n",
      "NorESM2-LM 1980 0.9997816686725777 0.10853296116881435 -0.09183186942562817\n",
      "NorESM2-MM 1980 0.9999320339252594 0.054486813909389704 0.04613062585886571\n",
      "SAM0-UNICON 1980 0.9999501649940559 0.05052118698496361 0.04876369429506666\n",
      "TaiESM1 1980 0.9999576805028642 0.04735750352271727 0.040706258382896314\n",
      "UKESM1-0-LL 1980 0.9999813007849 0.019605074529194053 -0.018127283445256933\n"
     ]
    },
    {
     "data": {
      "image/png": "[encoded data removed]",
      "text/plain": [
       "<Figure size 432x288 with 3 Axes>"
      ]
     },
     "metadata": {
      "needs_background": "light"
     },
     "output_type": "display_data"
    }
   ],
   "source": [
    "for i, region in enumerate(regions):\n",
    "    print(region)\n",
    "    plt.subplot(1, 3, i+1)\n",
    "    X = cdatDict[region]\n",
    "    Y = xrDict[region]\n",
    "    for model in models:\n",
    "        rip = list(global_cdat[model].keys())[0]\n",
    "        x = np.array(X[model][rip])\n",
    "        y = np.array(Y[model][rip])\n",
    "        if len(y.shape) > 1:\n",
    "            stop\n",
    "        if y[0] > 1000:\n",
    "            continue\n",
    "        plt.scatter(x, y)\n",
    "        n = len(x)\n",
    "        r = np.corrcoef(x, y)[0, 1]\n",
    "        rms = np.sqrt(np.mean((x-y)**2))\n",
    "        md = np.mean(x-y)\n",
    "        if ((r < 0.99) | (rms > 0.01) | (np.abs(md) > 0.01)):\n",
    "            print(model, n, r, rms, md)\n",
    "    plt.plot(pbounds[i], pbounds[i], 'k:')\n",
    "    if i == 0:\n",
    "        plt.xlabel('CDAT Value [K]')\n",
    "        plt.ylabel('xarray Value [K]')\n",
    "    plt.title(region)"
   ]
  },
  {
   "cell_type": "markdown",
   "id": "following-dining",
   "metadata": {},
   "source": [
    "Lots of models do not *exactly* match between xarray and CDAT, though NorCPM1 has a problem...let's look at this."
   ]
  },
  {
   "cell_type": "code",
   "execution_count": 10,
   "id": "chronic-notice",
   "metadata": {},
   "outputs": [
    {
     "name": "stdout",
     "output_type": "stream",
     "text": [
      "<xarray.DataArray 'lat' (lat: 142)>\n",
      "array([-90.      , -88.105263, -86.210526, -84.315789, -82.421053, -80.526316,\n",
      "       -78.631579, -76.736842, -74.842105, -72.947368, -71.052632, -69.157895,\n",
      "       -67.263158, -65.368421, -63.473684, -61.578947, -59.684211, -57.789474,\n",
      "       -55.894737, -54.      , -52.105263, -50.210526, -48.315789, -46.421053,\n",
      "       -44.526316, -42.631579, -40.736842, -38.842105, -36.947368, -35.052632,\n",
      "       -33.157895, -31.263158, -31.263158, -29.368421, -27.473684, -27.473684,\n",
      "       -25.578947, -23.684211, -21.789474, -21.789474, -19.894737, -19.894737,\n",
      "       -18.      , -18.      , -16.105263, -14.210526, -14.210526, -12.315789,\n",
      "       -12.315789, -10.421053, -10.421053,  -8.526316,  -8.526316,  -6.631579,\n",
      "        -6.631579,  -4.736842,  -4.736842,  -2.842105,  -2.842105,  -0.947368,\n",
      "        -0.947368,   0.947368,   0.947368,   2.842105,   2.842105,   4.736842,\n",
      "         4.736842,   6.631579,   6.631579,   8.526316,   8.526316,  10.421053,\n",
      "        10.421053,  12.315789,  14.210526,  14.210526,  16.105263,  16.105263,\n",
      "        18.      ,  18.      ,  19.894737,  19.894737,  21.789474,  23.684211,\n",
      "        23.684211,  25.578947,  25.578947,  27.473684,  27.473684,  29.368421,\n",
      "        29.368421,  31.263158,  33.157895,  35.052632,  35.052632,  36.947368,\n",
      "        36.947368,  38.842105,  40.736842,  42.631579,  44.526316,  44.526316,\n",
      "        46.421053,  46.421053,  48.315789,  48.315789,  50.210526,  50.210526,\n",
      "        52.105263,  52.105263,  54.      ,  54.      ,  55.894737,  55.894737,\n",
      "        57.789474,  59.684211,  61.578947,  63.473684,  63.473684,  65.368421,\n",
      "        65.368421,  67.263158,  67.263158,  69.157895,  69.157895,  71.052632,\n",
      "        71.052632,  72.947368,  72.947368,  74.842105,  76.736842,  78.631579,\n",
      "        80.526316,  82.421053,  84.315789,  84.315789,  86.210526,  86.210526,\n",
      "        88.105263,  88.105263,  90.      ,  90.      ])\n",
      "Coordinates:\n",
      "  * lat      (lat) float64 -90.0 -88.11 -86.21 -84.32 ... 88.11 88.11 90.0 90.0\n",
      "    height   float64 2.0\n",
      "Attributes:\n",
      "    bounds:         lat_bnds\n",
      "    units:          degrees_north\n",
      "    axis:           Y\n",
      "    long_name:      Latitude\n",
      "    standard_name:  latitude\n"
     ]
    }
   ],
   "source": [
    "model = 'NorCPM1'\n",
    "modelPaths = [p for p in dpaths if '/' + model + '/' in p]\n",
    "rip = list(global_cdat[model].keys())[0]\n",
    "dpath = [p for p in modelPaths if '/' + rip + '/' in p]\n",
    "ds = xr.open_mfdataset(dpath[0] + '*nc')\n",
    "tas = ds['tas']\n",
    "print(tas.lat)\n",
    "ds.close()"
   ]
  },
  {
   "cell_type": "markdown",
   "id": "unavailable-fusion",
   "metadata": {},
   "source": [
    "The problem may be that NorCPM's latitude grid is...weird? This is a problem for another day. The imperfect match between CDAT / xarray may be because the tropical / Niño 3.4 regions do not align perfectly with the model grids, which means xarray is not properly weighting the regional gridcells to account for partial grid overlap."
   ]
  },
  {
   "cell_type": "markdown",
   "id": "employed-timer",
   "metadata": {},
   "source": [
    "## Some notes\n",
    "\n",
    "* CDAT had some issues with I/O (could not load KIOST-ESM r1i1p1f1)\n",
    "* There is a need to develop more sophisticated averaging for xarray, particularly for regional averages\n",
    "* xarray is faster (by nearly a factor of two)\n",
    "* There are methods of extending xarray with relative ease"
   ]
  }
 ],
 "metadata": {
  "kernelspec": {
   "display_name": "xcdat",
   "language": "python",
   "name": "xcdat"
  },
  "language_info": {
   "codemirror_mode": {
    "name": "ipython",
    "version": 3
   },
   "file_extension": ".py",
   "mimetype": "text/x-python",
   "name": "python",
   "nbconvert_exporter": "python",
   "pygments_lexer": "ipython3",
   "version": "3.7.10"
  }
 },
 "nbformat": 4,
 "nbformat_minor": 5
}
