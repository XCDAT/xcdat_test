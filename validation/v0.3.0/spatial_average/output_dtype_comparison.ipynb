{
 "cells": [
  {
   "cell_type": "markdown",
   "metadata": {},
   "source": [
    "# xCDAT vs. CDAT Spatial Averaging Output `dtype`\n",
    "\n",
    "Objective:\n",
    "\n",
    "* Figure out the root cause for the large floating point differences (absolute and relative), which might be related to the `dtype`.\n",
    "\n",
    "Questions:\n",
    "* Is xCDAT or CDAT doing something incorrectly?\n",
    "* Does CDAT cast the type of the data from `float32` to `float64`?\n",
    "   * If it does, when does it cast the type?"
   ]
  },
  {
   "cell_type": "markdown",
   "metadata": {},
   "source": [
    "Resources:\n",
    "https://discourse.pangeo.io/t/variable-type-changing-when-using-xarray/1823/2\n",
    "\n",
    "* Same array, same bits, but different precision. In general, arbitrary smooth decimals can’t be represented exactly using float32 precision.\n",
    "* The index type (Float64Index) actually comes from Pandas (pandas.Float64Index — pandas 1.3.3 documentation). In this case, promoting a float32 type to a float64 in the context of indexing should not affect selection operations, since float32 can safely be cast to float64\n",
    "* The number 10.45 is interpreted differently if it is float32 vs float64.\n",
    "* Builtin python floats are 64-bit, so IMO Xarray does the right thing by promoting everything to float64 when making comparisons with your lat values.\n"
   ]
  },
  {
   "cell_type": "code",
   "execution_count": 1,
   "metadata": {},
   "outputs": [],
   "source": [
    "import numpy as np\n",
    "\n",
    "import xcdat\n",
    "import cdms2\n",
    "import cdutil"
   ]
  },
  {
   "cell_type": "code",
   "execution_count": 2,
   "metadata": {},
   "outputs": [],
   "source": [
    "fn = \"/p/user_pub/climate_work/pochedley1/surface/gistemp1200_GHCNv4_ERSSTv5.nc\"\n",
    "\n",
    "ds_xcdat = xcdat.open_dataset(fn)\n",
    "ds_cdat = cdms2.open(fn)"
   ]
  },
  {
   "cell_type": "markdown",
   "metadata": {},
   "source": [
    "### 1. Check dtype for the variable `\"tempanomaly\"`"
   ]
  },
  {
   "cell_type": "code",
   "execution_count": 3,
   "metadata": {},
   "outputs": [
    {
     "data": {
      "text/plain": [
       "dtype('float32')"
      ]
     },
     "execution_count": 3,
     "metadata": {},
     "output_type": "execute_result"
    }
   ],
   "source": [
    "\n",
    "ds_xcdat[\"tempanomaly\"].dtype"
   ]
  },
  {
   "cell_type": "code",
   "execution_count": 4,
   "metadata": {},
   "outputs": [
    {
     "data": {
      "text/plain": [
       "dtype('float32')"
      ]
     },
     "execution_count": 4,
     "metadata": {},
     "output_type": "execute_result"
    }
   ],
   "source": [
    "\n",
    "ds_cdat(\"tempanomaly\").dtype"
   ]
  },
  {
   "cell_type": "markdown",
   "metadata": {},
   "source": [
    "#### The `dtype` of the variable is `float32` for both libraries, so they agree."
   ]
  },
  {
   "cell_type": "markdown",
   "metadata": {},
   "source": [
    "### 2. Check dtype for the spatial averaging output for `\"tempanomaly\"`"
   ]
  },
  {
   "cell_type": "markdown",
   "metadata": {},
   "source": [
    "xCDAT"
   ]
  },
  {
   "cell_type": "code",
   "execution_count": 5,
   "metadata": {},
   "outputs": [],
   "source": [
    "ds_xcdat_avg = ds_xcdat.spatial.average(\"tempanomaly\", axis=[\"Y\"])\n",
    "ta_xcdat_avg = ds_xcdat_avg[\"tempanomaly\"]\n"
   ]
  },
  {
   "cell_type": "code",
   "execution_count": 6,
   "metadata": {},
   "outputs": [
    {
     "data": {
      "text/html": [
       "<div><svg style=\"position: absolute; width: 0; height: 0; overflow: hidden\">\n",
       "<defs>\n",
       "<symbol id=\"icon-database\" viewBox=\"0 0 32 32\">\n",
       "<path d=\"M16 0c-8.837 0-16 2.239-16 5v4c0 2.761 7.163 5 16 5s16-2.239 16-5v-4c0-2.761-7.163-5-16-5z\"></path>\n",
       "<path d=\"M16 17c-8.837 0-16-2.239-16-5v6c0 2.761 7.163 5 16 5s16-2.239 16-5v-6c0 2.761-7.163 5-16 5z\"></path>\n",
       "<path d=\"M16 26c-8.837 0-16-2.239-16-5v6c0 2.761 7.163 5 16 5s16-2.239 16-5v-6c0 2.761-7.163 5-16 5z\"></path>\n",
       "</symbol>\n",
       "<symbol id=\"icon-file-text2\" viewBox=\"0 0 32 32\">\n",
       "<path d=\"M28.681 7.159c-0.694-0.947-1.662-2.053-2.724-3.116s-2.169-2.030-3.116-2.724c-1.612-1.182-2.393-1.319-2.841-1.319h-15.5c-1.378 0-2.5 1.121-2.5 2.5v27c0 1.378 1.122 2.5 2.5 2.5h23c1.378 0 2.5-1.122 2.5-2.5v-19.5c0-0.448-0.137-1.23-1.319-2.841zM24.543 5.457c0.959 0.959 1.712 1.825 2.268 2.543h-4.811v-4.811c0.718 0.556 1.584 1.309 2.543 2.268zM28 29.5c0 0.271-0.229 0.5-0.5 0.5h-23c-0.271 0-0.5-0.229-0.5-0.5v-27c0-0.271 0.229-0.5 0.5-0.5 0 0 15.499-0 15.5 0v7c0 0.552 0.448 1 1 1h7v19.5z\"></path>\n",
       "<path d=\"M23 26h-14c-0.552 0-1-0.448-1-1s0.448-1 1-1h14c0.552 0 1 0.448 1 1s-0.448 1-1 1z\"></path>\n",
       "<path d=\"M23 22h-14c-0.552 0-1-0.448-1-1s0.448-1 1-1h14c0.552 0 1 0.448 1 1s-0.448 1-1 1z\"></path>\n",
       "<path d=\"M23 18h-14c-0.552 0-1-0.448-1-1s0.448-1 1-1h14c0.552 0 1 0.448 1 1s-0.448 1-1 1z\"></path>\n",
       "</symbol>\n",
       "</defs>\n",
       "</svg>\n",
       "<style>/* CSS stylesheet for displaying xarray objects in jupyterlab.\n",
       " *\n",
       " */\n",
       "\n",
       ":root {\n",
       "  --xr-font-color0: var(--jp-content-font-color0, rgba(0, 0, 0, 1));\n",
       "  --xr-font-color2: var(--jp-content-font-color2, rgba(0, 0, 0, 0.54));\n",
       "  --xr-font-color3: var(--jp-content-font-color3, rgba(0, 0, 0, 0.38));\n",
       "  --xr-border-color: var(--jp-border-color2, #e0e0e0);\n",
       "  --xr-disabled-color: var(--jp-layout-color3, #bdbdbd);\n",
       "  --xr-background-color: var(--jp-layout-color0, white);\n",
       "  --xr-background-color-row-even: var(--jp-layout-color1, white);\n",
       "  --xr-background-color-row-odd: var(--jp-layout-color2, #eeeeee);\n",
       "}\n",
       "\n",
       "html[theme=dark],\n",
       "body.vscode-dark {\n",
       "  --xr-font-color0: rgba(255, 255, 255, 1);\n",
       "  --xr-font-color2: rgba(255, 255, 255, 0.54);\n",
       "  --xr-font-color3: rgba(255, 255, 255, 0.38);\n",
       "  --xr-border-color: #1F1F1F;\n",
       "  --xr-disabled-color: #515151;\n",
       "  --xr-background-color: #111111;\n",
       "  --xr-background-color-row-even: #111111;\n",
       "  --xr-background-color-row-odd: #313131;\n",
       "}\n",
       "\n",
       ".xr-wrap {\n",
       "  display: block !important;\n",
       "  min-width: 300px;\n",
       "  max-width: 700px;\n",
       "}\n",
       "\n",
       ".xr-text-repr-fallback {\n",
       "  /* fallback to plain text repr when CSS is not injected (untrusted notebook) */\n",
       "  display: none;\n",
       "}\n",
       "\n",
       ".xr-header {\n",
       "  padding-top: 6px;\n",
       "  padding-bottom: 6px;\n",
       "  margin-bottom: 4px;\n",
       "  border-bottom: solid 1px var(--xr-border-color);\n",
       "}\n",
       "\n",
       ".xr-header > div,\n",
       ".xr-header > ul {\n",
       "  display: inline;\n",
       "  margin-top: 0;\n",
       "  margin-bottom: 0;\n",
       "}\n",
       "\n",
       ".xr-obj-type,\n",
       ".xr-array-name {\n",
       "  margin-left: 2px;\n",
       "  margin-right: 10px;\n",
       "}\n",
       "\n",
       ".xr-obj-type {\n",
       "  color: var(--xr-font-color2);\n",
       "}\n",
       "\n",
       ".xr-sections {\n",
       "  padding-left: 0 !important;\n",
       "  display: grid;\n",
       "  grid-template-columns: 150px auto auto 1fr 20px 20px;\n",
       "}\n",
       "\n",
       ".xr-section-item {\n",
       "  display: contents;\n",
       "}\n",
       "\n",
       ".xr-section-item input {\n",
       "  display: none;\n",
       "}\n",
       "\n",
       ".xr-section-item input + label {\n",
       "  color: var(--xr-disabled-color);\n",
       "}\n",
       "\n",
       ".xr-section-item input:enabled + label {\n",
       "  cursor: pointer;\n",
       "  color: var(--xr-font-color2);\n",
       "}\n",
       "\n",
       ".xr-section-item input:enabled + label:hover {\n",
       "  color: var(--xr-font-color0);\n",
       "}\n",
       "\n",
       ".xr-section-summary {\n",
       "  grid-column: 1;\n",
       "  color: var(--xr-font-color2);\n",
       "  font-weight: 500;\n",
       "}\n",
       "\n",
       ".xr-section-summary > span {\n",
       "  display: inline-block;\n",
       "  padding-left: 0.5em;\n",
       "}\n",
       "\n",
       ".xr-section-summary-in:disabled + label {\n",
       "  color: var(--xr-font-color2);\n",
       "}\n",
       "\n",
       ".xr-section-summary-in + label:before {\n",
       "  display: inline-block;\n",
       "  content: '►';\n",
       "  font-size: 11px;\n",
       "  width: 15px;\n",
       "  text-align: center;\n",
       "}\n",
       "\n",
       ".xr-section-summary-in:disabled + label:before {\n",
       "  color: var(--xr-disabled-color);\n",
       "}\n",
       "\n",
       ".xr-section-summary-in:checked + label:before {\n",
       "  content: '▼';\n",
       "}\n",
       "\n",
       ".xr-section-summary-in:checked + label > span {\n",
       "  display: none;\n",
       "}\n",
       "\n",
       ".xr-section-summary,\n",
       ".xr-section-inline-details {\n",
       "  padding-top: 4px;\n",
       "  padding-bottom: 4px;\n",
       "}\n",
       "\n",
       ".xr-section-inline-details {\n",
       "  grid-column: 2 / -1;\n",
       "}\n",
       "\n",
       ".xr-section-details {\n",
       "  display: none;\n",
       "  grid-column: 1 / -1;\n",
       "  margin-bottom: 5px;\n",
       "}\n",
       "\n",
       ".xr-section-summary-in:checked ~ .xr-section-details {\n",
       "  display: contents;\n",
       "}\n",
       "\n",
       ".xr-array-wrap {\n",
       "  grid-column: 1 / -1;\n",
       "  display: grid;\n",
       "  grid-template-columns: 20px auto;\n",
       "}\n",
       "\n",
       ".xr-array-wrap > label {\n",
       "  grid-column: 1;\n",
       "  vertical-align: top;\n",
       "}\n",
       "\n",
       ".xr-preview {\n",
       "  color: var(--xr-font-color3);\n",
       "}\n",
       "\n",
       ".xr-array-preview,\n",
       ".xr-array-data {\n",
       "  padding: 0 5px !important;\n",
       "  grid-column: 2;\n",
       "}\n",
       "\n",
       ".xr-array-data,\n",
       ".xr-array-in:checked ~ .xr-array-preview {\n",
       "  display: none;\n",
       "}\n",
       "\n",
       ".xr-array-in:checked ~ .xr-array-data,\n",
       ".xr-array-preview {\n",
       "  display: inline-block;\n",
       "}\n",
       "\n",
       ".xr-dim-list {\n",
       "  display: inline-block !important;\n",
       "  list-style: none;\n",
       "  padding: 0 !important;\n",
       "  margin: 0;\n",
       "}\n",
       "\n",
       ".xr-dim-list li {\n",
       "  display: inline-block;\n",
       "  padding: 0;\n",
       "  margin: 0;\n",
       "}\n",
       "\n",
       ".xr-dim-list:before {\n",
       "  content: '(';\n",
       "}\n",
       "\n",
       ".xr-dim-list:after {\n",
       "  content: ')';\n",
       "}\n",
       "\n",
       ".xr-dim-list li:not(:last-child):after {\n",
       "  content: ',';\n",
       "  padding-right: 5px;\n",
       "}\n",
       "\n",
       ".xr-has-index {\n",
       "  font-weight: bold;\n",
       "}\n",
       "\n",
       ".xr-var-list,\n",
       ".xr-var-item {\n",
       "  display: contents;\n",
       "}\n",
       "\n",
       ".xr-var-item > div,\n",
       ".xr-var-item label,\n",
       ".xr-var-item > .xr-var-name span {\n",
       "  background-color: var(--xr-background-color-row-even);\n",
       "  margin-bottom: 0;\n",
       "}\n",
       "\n",
       ".xr-var-item > .xr-var-name:hover span {\n",
       "  padding-right: 5px;\n",
       "}\n",
       "\n",
       ".xr-var-list > li:nth-child(odd) > div,\n",
       ".xr-var-list > li:nth-child(odd) > label,\n",
       ".xr-var-list > li:nth-child(odd) > .xr-var-name span {\n",
       "  background-color: var(--xr-background-color-row-odd);\n",
       "}\n",
       "\n",
       ".xr-var-name {\n",
       "  grid-column: 1;\n",
       "}\n",
       "\n",
       ".xr-var-dims {\n",
       "  grid-column: 2;\n",
       "}\n",
       "\n",
       ".xr-var-dtype {\n",
       "  grid-column: 3;\n",
       "  text-align: right;\n",
       "  color: var(--xr-font-color2);\n",
       "}\n",
       "\n",
       ".xr-var-preview {\n",
       "  grid-column: 4;\n",
       "}\n",
       "\n",
       ".xr-var-name,\n",
       ".xr-var-dims,\n",
       ".xr-var-dtype,\n",
       ".xr-preview,\n",
       ".xr-attrs dt {\n",
       "  white-space: nowrap;\n",
       "  overflow: hidden;\n",
       "  text-overflow: ellipsis;\n",
       "  padding-right: 10px;\n",
       "}\n",
       "\n",
       ".xr-var-name:hover,\n",
       ".xr-var-dims:hover,\n",
       ".xr-var-dtype:hover,\n",
       ".xr-attrs dt:hover {\n",
       "  overflow: visible;\n",
       "  width: auto;\n",
       "  z-index: 1;\n",
       "}\n",
       "\n",
       ".xr-var-attrs,\n",
       ".xr-var-data {\n",
       "  display: none;\n",
       "  background-color: var(--xr-background-color) !important;\n",
       "  padding-bottom: 5px !important;\n",
       "}\n",
       "\n",
       ".xr-var-attrs-in:checked ~ .xr-var-attrs,\n",
       ".xr-var-data-in:checked ~ .xr-var-data {\n",
       "  display: block;\n",
       "}\n",
       "\n",
       ".xr-var-data > table {\n",
       "  float: right;\n",
       "}\n",
       "\n",
       ".xr-var-name span,\n",
       ".xr-var-data,\n",
       ".xr-attrs {\n",
       "  padding-left: 25px !important;\n",
       "}\n",
       "\n",
       ".xr-attrs,\n",
       ".xr-var-attrs,\n",
       ".xr-var-data {\n",
       "  grid-column: 1 / -1;\n",
       "}\n",
       "\n",
       "dl.xr-attrs {\n",
       "  padding: 0;\n",
       "  margin: 0;\n",
       "  display: grid;\n",
       "  grid-template-columns: 125px auto;\n",
       "}\n",
       "\n",
       ".xr-attrs dt,\n",
       ".xr-attrs dd {\n",
       "  padding: 0;\n",
       "  margin: 0;\n",
       "  float: left;\n",
       "  padding-right: 10px;\n",
       "  width: auto;\n",
       "}\n",
       "\n",
       ".xr-attrs dt {\n",
       "  font-weight: normal;\n",
       "  grid-column: 1;\n",
       "}\n",
       "\n",
       ".xr-attrs dt:hover span {\n",
       "  display: inline-block;\n",
       "  background: var(--xr-background-color);\n",
       "  padding-right: 10px;\n",
       "}\n",
       "\n",
       ".xr-attrs dd {\n",
       "  grid-column: 2;\n",
       "  white-space: pre-wrap;\n",
       "  word-break: break-all;\n",
       "}\n",
       "\n",
       ".xr-icon-database,\n",
       ".xr-icon-file-text2 {\n",
       "  display: inline-block;\n",
       "  vertical-align: middle;\n",
       "  width: 1em;\n",
       "  height: 1.5em !important;\n",
       "  stroke-width: 0;\n",
       "  stroke: currentColor;\n",
       "  fill: currentColor;\n",
       "}\n",
       "</style><pre class='xr-text-repr-fallback'>&lt;xarray.DataArray &#x27;tempanomaly&#x27; (time: 1706, lon: 180)&gt;\n",
       "array([[ 0.0355457 ,  0.02695628,  0.01610215, ..., -0.03079494,\n",
       "        -0.00960354,  0.00881284],\n",
       "       [ 0.06634343,  0.04435139,  0.01892282, ...,  0.02397297,\n",
       "         0.03883512,  0.05697105],\n",
       "       [ 0.14746004,  0.11239842,  0.07544763, ...,  0.04206945,\n",
       "         0.07549783,  0.11411799],\n",
       "       ...,\n",
       "       [ 0.8559086 ,  0.81907433,  0.75153327, ...,  1.0020294 ,\n",
       "         0.9598275 ,  0.90502965],\n",
       "       [ 0.64544296,  0.6352519 ,  0.5955443 , ...,  0.8723912 ,\n",
       "         0.82596165,  0.80084634],\n",
       "       [ 0.8317095 ,  0.8324741 ,  0.809845  , ...,  0.9373833 ,\n",
       "         0.9137498 ,  0.8913162 ]], dtype=float32)\n",
       "Coordinates:\n",
       "  * lon      (lon) float32 -179.0 -177.0 -175.0 -173.0 ... 175.0 177.0 179.0\n",
       "  * time     (time) datetime64[ns] 1880-01-15 1880-02-15 ... 2022-02-15\n",
       "Attributes:\n",
       "    long_name:     Surface temperature anomaly\n",
       "    units:         K\n",
       "    cell_methods:  time: mean</pre><div class='xr-wrap' style='display:none'><div class='xr-header'><div class='xr-obj-type'>xarray.DataArray</div><div class='xr-array-name'>'tempanomaly'</div><ul class='xr-dim-list'><li><span class='xr-has-index'>time</span>: 1706</li><li><span class='xr-has-index'>lon</span>: 180</li></ul></div><ul class='xr-sections'><li class='xr-section-item'><div class='xr-array-wrap'><input id='section-57a954d7-ec38-4235-86a3-d73ae486c173' class='xr-array-in' type='checkbox' checked><label for='section-57a954d7-ec38-4235-86a3-d73ae486c173' title='Show/hide data repr'><svg class='icon xr-icon-database'><use xlink:href='#icon-database'></use></svg></label><div class='xr-array-preview xr-preview'><span>0.03555 0.02696 0.0161 0.02032 0.00337 ... 0.9283 0.9374 0.9137 0.8913</span></div><div class='xr-array-data'><pre>array([[ 0.0355457 ,  0.02695628,  0.01610215, ..., -0.03079494,\n",
       "        -0.00960354,  0.00881284],\n",
       "       [ 0.06634343,  0.04435139,  0.01892282, ...,  0.02397297,\n",
       "         0.03883512,  0.05697105],\n",
       "       [ 0.14746004,  0.11239842,  0.07544763, ...,  0.04206945,\n",
       "         0.07549783,  0.11411799],\n",
       "       ...,\n",
       "       [ 0.8559086 ,  0.81907433,  0.75153327, ...,  1.0020294 ,\n",
       "         0.9598275 ,  0.90502965],\n",
       "       [ 0.64544296,  0.6352519 ,  0.5955443 , ...,  0.8723912 ,\n",
       "         0.82596165,  0.80084634],\n",
       "       [ 0.8317095 ,  0.8324741 ,  0.809845  , ...,  0.9373833 ,\n",
       "         0.9137498 ,  0.8913162 ]], dtype=float32)</pre></div></div></li><li class='xr-section-item'><input id='section-ed2f6dc0-f976-45d0-b647-4fe631051f74' class='xr-section-summary-in' type='checkbox'  checked><label for='section-ed2f6dc0-f976-45d0-b647-4fe631051f74' class='xr-section-summary' >Coordinates: <span>(2)</span></label><div class='xr-section-inline-details'></div><div class='xr-section-details'><ul class='xr-var-list'><li class='xr-var-item'><div class='xr-var-name'><span class='xr-has-index'>lon</span></div><div class='xr-var-dims'>(lon)</div><div class='xr-var-dtype'>float32</div><div class='xr-var-preview xr-preview'>-179.0 -177.0 ... 177.0 179.0</div><input id='attrs-4becb44c-2400-4a97-aea7-a5ccc94438a8' class='xr-var-attrs-in' type='checkbox' ><label for='attrs-4becb44c-2400-4a97-aea7-a5ccc94438a8' title='Show/Hide attributes'><svg class='icon xr-icon-file-text2'><use xlink:href='#icon-file-text2'></use></svg></label><input id='data-800c52d0-a03c-4813-8893-c763ba7f0ec1' class='xr-var-data-in' type='checkbox'><label for='data-800c52d0-a03c-4813-8893-c763ba7f0ec1' title='Show/Hide data repr'><svg class='icon xr-icon-database'><use xlink:href='#icon-database'></use></svg></label><div class='xr-var-attrs'><dl class='xr-attrs'><dt><span>standard_name :</span></dt><dd>longitude</dd><dt><span>long_name :</span></dt><dd>Longitude</dd><dt><span>units :</span></dt><dd>degrees_east</dd><dt><span>bounds :</span></dt><dd>lon_bnds</dd></dl></div><div class='xr-var-data'><pre>array([-179., -177., -175., -173., -171., -169., -167., -165., -163., -161.,\n",
       "       -159., -157., -155., -153., -151., -149., -147., -145., -143., -141.,\n",
       "       -139., -137., -135., -133., -131., -129., -127., -125., -123., -121.,\n",
       "       -119., -117., -115., -113., -111., -109., -107., -105., -103., -101.,\n",
       "        -99.,  -97.,  -95.,  -93.,  -91.,  -89.,  -87.,  -85.,  -83.,  -81.,\n",
       "        -79.,  -77.,  -75.,  -73.,  -71.,  -69.,  -67.,  -65.,  -63.,  -61.,\n",
       "        -59.,  -57.,  -55.,  -53.,  -51.,  -49.,  -47.,  -45.,  -43.,  -41.,\n",
       "        -39.,  -37.,  -35.,  -33.,  -31.,  -29.,  -27.,  -25.,  -23.,  -21.,\n",
       "        -19.,  -17.,  -15.,  -13.,  -11.,   -9.,   -7.,   -5.,   -3.,   -1.,\n",
       "          1.,    3.,    5.,    7.,    9.,   11.,   13.,   15.,   17.,   19.,\n",
       "         21.,   23.,   25.,   27.,   29.,   31.,   33.,   35.,   37.,   39.,\n",
       "         41.,   43.,   45.,   47.,   49.,   51.,   53.,   55.,   57.,   59.,\n",
       "         61.,   63.,   65.,   67.,   69.,   71.,   73.,   75.,   77.,   79.,\n",
       "         81.,   83.,   85.,   87.,   89.,   91.,   93.,   95.,   97.,   99.,\n",
       "        101.,  103.,  105.,  107.,  109.,  111.,  113.,  115.,  117.,  119.,\n",
       "        121.,  123.,  125.,  127.,  129.,  131.,  133.,  135.,  137.,  139.,\n",
       "        141.,  143.,  145.,  147.,  149.,  151.,  153.,  155.,  157.,  159.,\n",
       "        161.,  163.,  165.,  167.,  169.,  171.,  173.,  175.,  177.,  179.],\n",
       "      dtype=float32)</pre></div></li><li class='xr-var-item'><div class='xr-var-name'><span class='xr-has-index'>time</span></div><div class='xr-var-dims'>(time)</div><div class='xr-var-dtype'>datetime64[ns]</div><div class='xr-var-preview xr-preview'>1880-01-15 ... 2022-02-15</div><input id='attrs-5a16907b-306b-4177-abd2-16b34a4c7545' class='xr-var-attrs-in' type='checkbox' ><label for='attrs-5a16907b-306b-4177-abd2-16b34a4c7545' title='Show/Hide attributes'><svg class='icon xr-icon-file-text2'><use xlink:href='#icon-file-text2'></use></svg></label><input id='data-87dcd14f-4861-4507-972a-346943db4c84' class='xr-var-data-in' type='checkbox'><label for='data-87dcd14f-4861-4507-972a-346943db4c84' title='Show/Hide data repr'><svg class='icon xr-icon-database'><use xlink:href='#icon-database'></use></svg></label><div class='xr-var-attrs'><dl class='xr-attrs'><dt><span>long_name :</span></dt><dd>time</dd><dt><span>bounds :</span></dt><dd>time_bnds</dd></dl></div><div class='xr-var-data'><pre>array([&#x27;1880-01-15T00:00:00.000000000&#x27;, &#x27;1880-02-15T00:00:00.000000000&#x27;,\n",
       "       &#x27;1880-03-15T00:00:00.000000000&#x27;, ..., &#x27;2021-12-15T00:00:00.000000000&#x27;,\n",
       "       &#x27;2022-01-15T00:00:00.000000000&#x27;, &#x27;2022-02-15T00:00:00.000000000&#x27;],\n",
       "      dtype=&#x27;datetime64[ns]&#x27;)</pre></div></li></ul></div></li><li class='xr-section-item'><input id='section-cc7c0e79-eba9-4a81-846f-510a19eff406' class='xr-section-summary-in' type='checkbox'  checked><label for='section-cc7c0e79-eba9-4a81-846f-510a19eff406' class='xr-section-summary' >Attributes: <span>(3)</span></label><div class='xr-section-inline-details'></div><div class='xr-section-details'><dl class='xr-attrs'><dt><span>long_name :</span></dt><dd>Surface temperature anomaly</dd><dt><span>units :</span></dt><dd>K</dd><dt><span>cell_methods :</span></dt><dd>time: mean</dd></dl></div></li></ul></div></div>"
      ],
      "text/plain": [
       "<xarray.DataArray 'tempanomaly' (time: 1706, lon: 180)>\n",
       "array([[ 0.0355457 ,  0.02695628,  0.01610215, ..., -0.03079494,\n",
       "        -0.00960354,  0.00881284],\n",
       "       [ 0.06634343,  0.04435139,  0.01892282, ...,  0.02397297,\n",
       "         0.03883512,  0.05697105],\n",
       "       [ 0.14746004,  0.11239842,  0.07544763, ...,  0.04206945,\n",
       "         0.07549783,  0.11411799],\n",
       "       ...,\n",
       "       [ 0.8559086 ,  0.81907433,  0.75153327, ...,  1.0020294 ,\n",
       "         0.9598275 ,  0.90502965],\n",
       "       [ 0.64544296,  0.6352519 ,  0.5955443 , ...,  0.8723912 ,\n",
       "         0.82596165,  0.80084634],\n",
       "       [ 0.8317095 ,  0.8324741 ,  0.809845  , ...,  0.9373833 ,\n",
       "         0.9137498 ,  0.8913162 ]], dtype=float32)\n",
       "Coordinates:\n",
       "  * lon      (lon) float32 -179.0 -177.0 -175.0 -173.0 ... 175.0 177.0 179.0\n",
       "  * time     (time) datetime64[ns] 1880-01-15 1880-02-15 ... 2022-02-15\n",
       "Attributes:\n",
       "    long_name:     Surface temperature anomaly\n",
       "    units:         K\n",
       "    cell_methods:  time: mean"
      ]
     },
     "execution_count": 6,
     "metadata": {},
     "output_type": "execute_result"
    }
   ],
   "source": [
    "ta_xcdat_avg"
   ]
  },
  {
   "cell_type": "code",
   "execution_count": 7,
   "metadata": {},
   "outputs": [
    {
     "data": {
      "text/plain": [
       "dtype('float32')"
      ]
     },
     "execution_count": 7,
     "metadata": {},
     "output_type": "execute_result"
    }
   ],
   "source": [
    "ta_xcdat_avg.dtype"
   ]
  },
  {
   "cell_type": "markdown",
   "metadata": {},
   "source": [
    "CDAT"
   ]
  },
  {
   "cell_type": "code",
   "execution_count": 8,
   "metadata": {},
   "outputs": [],
   "source": [
    "ta_cdat_avg = cdutil.averager(ds_cdat(\"tempanomaly\"), axis=\"y\")"
   ]
  },
  {
   "cell_type": "code",
   "execution_count": 9,
   "metadata": {},
   "outputs": [
    {
     "data": {
      "text/plain": [
       "variable_6\n",
       "masked_array(\n",
       "  data=[[0.035545653325030215, 0.026956274832029305,\n",
       "         0.016102136600269726, ..., -0.030794956835496247,\n",
       "         -0.009603562061872723, 0.00881278244252939],\n",
       "        [0.06634341186248234, 0.04435135777310842, 0.01892279890685338,\n",
       "         ..., 0.02397299728132458, 0.03883514230588276,\n",
       "         0.05697104274523798],\n",
       "        [0.14746000307247378, 0.11239838593655853, 0.07544755841048628,\n",
       "         ..., 0.04206947944889023, 0.0754978114092197,\n",
       "         0.11411796429245147],\n",
       "        ...,\n",
       "        [0.8559087033405837, 0.8190742797330746, 0.7515332662789139, ...,\n",
       "         1.0020296439006402, 0.9598274150062646, 0.9050297894921276],\n",
       "        [0.645442851180381, 0.6352518904793731, 0.5955442821497092, ...,\n",
       "         0.8723914081140204, 0.8259617007564366, 0.8008464881940878],\n",
       "        [0.8317094150775682, 0.8324741985594918, 0.8098450089447665, ...,\n",
       "         0.937383456065645, 0.9137497736748647, 0.8913162676287111]],\n",
       "  mask=[[False, False, False, ..., False, False, False],\n",
       "        [False, False, False, ..., False, False, False],\n",
       "        [False, False, False, ..., False, False, False],\n",
       "        ...,\n",
       "        [False, False, False, ..., False, False, False],\n",
       "        [False, False, False, ..., False, False, False],\n",
       "        [False, False, False, ..., False, False, False]],\n",
       "  fill_value=1e+20)"
      ]
     },
     "execution_count": 9,
     "metadata": {},
     "output_type": "execute_result"
    }
   ],
   "source": [
    "ta_cdat_avg"
   ]
  },
  {
   "cell_type": "code",
   "execution_count": 10,
   "metadata": {},
   "outputs": [
    {
     "data": {
      "text/plain": [
       "dtype('float64')"
      ]
     },
     "execution_count": 10,
     "metadata": {},
     "output_type": "execute_result"
    }
   ],
   "source": [
    "ta_cdat_avg.dtype"
   ]
  },
  {
   "cell_type": "markdown",
   "metadata": {},
   "source": [
    "#### xCDAT is returning `float32` (same as input dtype).\n",
    "#### CDAT is returning `float64` (not the same as input type)."
   ]
  },
  {
   "cell_type": "markdown",
   "metadata": {},
   "source": [
    "### 3. Why is CDAT returning `float64`?"
   ]
  },
  {
   "cell_type": "markdown",
   "metadata": {},
   "source": [
    "If you do a search for float in [genutil.averager](https://github.com/CDAT/genutil/blob/master/Lib/averager.py), you will find `numpy.float` referenced several times."
   ]
  },
  {
   "cell_type": "markdown",
   "metadata": {},
   "source": [
    "### 4. What exactly is a `numpy.float`? It is `float64`."
   ]
  },
  {
   "cell_type": "code",
   "execution_count": 11,
   "metadata": {},
   "outputs": [
    {
     "name": "stderr",
     "output_type": "stream",
     "text": [
      "/tmp/ipykernel_46796/699376334.py:1: DeprecationWarning: `np.float` is a deprecated alias for the builtin `float`. To silence this warning, use `float` by itself. Doing this will not modify any behavior and is safe. If you specifically wanted the numpy scalar type, use `np.float64` here.\n",
      "Deprecated in NumPy 1.20; for more details and guidance: https://numpy.org/devdocs/release/1.20.0-notes.html#deprecations\n",
      "  np.float\n"
     ]
    },
    {
     "data": {
      "text/plain": [
       "float"
      ]
     },
     "execution_count": 11,
     "metadata": {},
     "output_type": "execute_result"
    }
   ],
   "source": [
    "np.float"
   ]
  },
  {
   "cell_type": "markdown",
   "metadata": {},
   "source": [
    "## Key Takeaways\n",
    "\n",
    "* `ds.spatial.average()` maintains a `dtype` of `float32`, which is **CORRECT**.\n",
    "* `cdutil.averager()`/`genutil.averager()` is typecasting the `dtype` to `float64`, which is **INCORRECT**.\n",
    "* Floating point comparisons between CDAT and xCDAT results in large differences since the `dtype` of the outputs are different (`float32` vs. `float64`)\n",
    "\n",
    "**Based on these findings, we are confident that xarray/xCDAT is doing the right thing with floating points, while CDAT is not.**"
   ]
  }
 ],
 "metadata": {
  "kernelspec": {
   "display_name": "Python 3.10.4 ('xcdat_test_stable')",
   "language": "python",
   "name": "python3"
  },
  "language_info": {
   "codemirror_mode": {
    "name": "ipython",
    "version": 3
   },
   "file_extension": ".py",
   "mimetype": "text/x-python",
   "name": "python",
   "nbconvert_exporter": "python",
   "pygments_lexer": "ipython3",
   "version": "3.10.5"
  },
  "orig_nbformat": 4,
  "vscode": {
   "interpreter": {
    "hash": "c4e4f1671e4a459c6edb3b171f1296b089ced6d44722ffcf6c4b28381b927c72"
   }
  }
 },
 "nbformat": 4,
 "nbformat_minor": 2
}
