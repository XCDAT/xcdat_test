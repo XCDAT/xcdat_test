{
 "cells": [
  {
   "cell_type": "code",
   "execution_count": 1,
   "id": "9c2537cb-d680-4fb3-b683-876a1feabd0c",
   "metadata": {},
   "outputs": [],
   "source": [
    "import xcdat\n",
    "import metpy.interpolate\n",
    "import numpy as np\n",
    "import xarray as xr\n",
    "import xgcm\n",
    "import cdms2\n",
    "import cdutil\n",
    "import yappi\n",
    "from functools import partial\n",
    "\n",
    "# Local python import, see `geocat.py`\n",
    "from geocat import pressure_from_hybrid\n",
    "from geocat import geocat_interp_hybrid_to_pressure"
   ]
  },
  {
   "cell_type": "markdown",
   "id": "98df43e6-068d-45d9-b268-1ad3e16286c8",
   "metadata": {},
   "source": [
    "Compare the performance of different vertical regridding implementations.\n",
    "1. GeoCAT; Uses `metpy.interpolate.interpolate_1d` with `xr.apply_ufunc` allowing for parallelized operations.\n",
    "2. MetPy\n",
    "3. xgcm\n",
    "4. cdutil"
   ]
  },
  {
   "cell_type": "code",
   "execution_count": 2,
   "id": "cb22cdfd-7174-45ee-b895-f41c6f2ddf02",
   "metadata": {},
   "outputs": [],
   "source": [
    "ds = xcdat.open_dataset('T_185001_201312.nc')\n",
    "\n",
    "cdat_ds = cdms2.open('T_185001_201312.nc')"
   ]
  },
  {
   "cell_type": "code",
   "execution_count": 3,
   "id": "7c98811c-20d6-465e-96bb-d5706472666b",
   "metadata": {},
   "outputs": [],
   "source": [
    "ds_subset = ds.isel(time=slice(0, 48))\n",
    "\n",
    "cdat_subset_T = cdat_ds('T', time=slice(0, 48))\n",
    "cdat_subset_PS = cdat_ds('PS', time=slice(0, 48))\n",
    "cdat_subset_hybm = cdat_ds('hybm', time=slice(0, 48))\n",
    "cdat_subset_hyam = cdat_ds('hyam', time=slice(0, 48))"
   ]
  },
  {
   "cell_type": "code",
   "execution_count": 4,
   "id": "d48bf2be-1602-4ef2-b508-67e1ddf1fea2",
   "metadata": {},
   "outputs": [],
   "source": [
    "pressure = pressure_from_hybrid(ds_subset['PS'], ds_subset['hyam'], ds_subset['hybm'], p0=100000.)\n",
    "\n",
    "ds_subset['pressure'] = pressure\n",
    "\n",
    "target_plev = np.array([92500, 80000])"
   ]
  },
  {
   "cell_type": "code",
   "execution_count": 5,
   "id": "fbe9f128-8f75-49ce-bdec-1f18e166ce9e",
   "metadata": {},
   "outputs": [],
   "source": [
    "def geocat_method(ds, target_plev):\n",
    "    return geocat_interp_hybrid_to_pressure(ds['T'], ds['PS'], ds['hyam'], ds['hybm'], p0=100000., new_levels=target_plev)"
   ]
  },
  {
   "cell_type": "code",
   "execution_count": 6,
   "id": "1ad250f0-3fb3-4da5-92a0-862128fcb88c",
   "metadata": {},
   "outputs": [],
   "source": [
    "def metpy_method(ds, target_plev):\n",
    "    interp_axis = ds['T'].dims.index('lev')\n",
    "    \n",
    "    # Need to pass np.ndarray to func_interpolate, otherwise error `no implementation found for 'numpy.apply_along_axis'` is raised\n",
    "    # Known issues https://github.com/Unidata/MetPy/issues/1889\n",
    "    return metpy.interpolate.interpolate_1d(target_plev, ds['pressure'].data, ds['T'].data, axis=interp_axis)"
   ]
  },
  {
   "cell_type": "code",
   "execution_count": 7,
   "id": "42f56b1a-0028-4045-a384-8e5b3a0d726f",
   "metadata": {},
   "outputs": [],
   "source": [
    "def xgcm_method(ds, target_plev):\n",
    "    grid = xgcm.Grid(ds, coords={'lev': {'center': 'lev'}}, periodic=False)\n",
    "    \n",
    "    return grid.transform(ds['T'], 'lev', target_plev, target_data=ds['pressure'])"
   ]
  },
  {
   "cell_type": "code",
   "execution_count": 8,
   "id": "2207f071-0228-4f4c-b439-bd6b33c554ec",
   "metadata": {},
   "outputs": [],
   "source": [
    "def cdms2_method(var, ps, hybm, hyam, target_plev):\n",
    "    pressure = cdutil.vertical.reconstructPressureFromHybrid(ps, hyam, hybm, 100000.)\n",
    "    pressure.units = 'Pa'\n",
    "    \n",
    "    return cdutil.vertical.linearInterpolation(var, pressure, target_plev)"
   ]
  },
  {
   "cell_type": "code",
   "execution_count": 9,
   "id": "1692ba3f-9c27-43d6-ad81-84331e223dac",
   "metadata": {},
   "outputs": [
    {
     "name": "stdout",
     "output_type": "stream",
     "text": [
      "Testing:  geocat\n"
     ]
    },
    {
     "name": "stderr",
     "output_type": "stream",
     "text": [
      "/opt/conda/lib/python3.10/site-packages/metpy/interpolate/one_dimension.py:137: UserWarning: Interpolation point out of data bounds encountered\n",
      "  warnings.warn('Interpolation point out of data bounds encountered')\n"
     ]
    },
    {
     "name": "stdout",
     "output_type": "stream",
     "text": [
      "\n",
      "name           id     tid              ttot      scnt        \n",
      "_MainThread    0      140560001046336  16.14532  23        \n",
      "..tPollerUnix  3      140559381427776  0.008746  16        \n",
      "Thread         2      140559932180032  0.002312  5         \n",
      "..avingThread  1      140559800833600  0.000555  2         \n",
      "Testing:  metpy\n",
      "\n",
      "name           id     tid              ttot      scnt        \n",
      "_MainThread    0      140560001046336  32.31218  39        \n",
      "..tPollerUnix  3      140559381427776  0.021923  32        \n",
      "Thread         2      140559932180032  0.003567  6         \n",
      "..avingThread  1      140559800833600  0.000555  2         \n",
      "Testing:  xgcm\n"
     ]
    },
    {
     "name": "stderr",
     "output_type": "stream",
     "text": [
      "/opt/conda/lib/python3.10/site-packages/xgcm/grid.py:987: FutureWarning: From version 0.8.0 the Axis computation methods will be removed, in favour of using the Grid computation methods instead. i.e. use `Grid.transform` instead of `Axis.transform`\n",
      "  warnings.warn(\n"
     ]
    },
    {
     "name": "stdout",
     "output_type": "stream",
     "text": [
      "\n",
      "name           id     tid              ttot      scnt        \n",
      "_MainThread    0      140560001046336  33.93527  41        \n",
      "..tPollerUnix  3      140559381427776  0.021974  33        \n",
      "Thread         2      140559932180032  0.006012  8         \n",
      "..avingThread  1      140559800833600  0.000555  2         \n",
      "Testing:  cdms2\n",
      "\n",
      "name           id     tid              ttot      scnt        \n",
      "_MainThread    0      140560001046336  47.12235  56        \n",
      "..tPollerUnix  3      140559381427776  0.022611  46        \n",
      "Thread         2      140559932180032  0.006802  10        \n",
      "..avingThread  1      140559800833600  0.000555  2         \n"
     ]
    }
   ],
   "source": [
    "methods = {\n",
    "    'geocat': partial(geocat_method, ds_subset, target_plev),\n",
    "    'metpy': partial(metpy_method, ds_subset, target_plev),\n",
    "    'xgcm': partial(xgcm_method, ds_subset, target_plev),\n",
    "    'cdms2': partial(cdms2_method, cdat_subset_T, cdat_subset_PS, cdat_subset_hybm, cdat_subset_hyam, target_plev)\n",
    "}\n",
    "\n",
    "def time_method(name, method):\n",
    "    print('Testing: ', name)\n",
    "    yappi.set_clock_type(\"cpu\")\n",
    "    yappi.start()\n",
    "    result = method()\n",
    "    # yappi.get_func_stats().print_all()\n",
    "    yappi.get_thread_stats().print_all()\n",
    "\n",
    "for m in methods.items():\n",
    "    time_method(*m)"
   ]
  },
  {
   "cell_type": "code",
   "execution_count": null,
   "id": "b72f91c0-c501-46dd-915c-53d8a052462c",
   "metadata": {},
   "outputs": [],
   "source": []
  },
  {
   "cell_type": "code",
   "execution_count": null,
   "id": "0e9e9137-0af0-45de-9119-7a442bbdb0e2",
   "metadata": {},
   "outputs": [],
   "source": []
  }
 ],
 "metadata": {
  "kernelspec": {
   "display_name": "Python 3 (ipykernel)",
   "language": "python",
   "name": "python3"
  },
  "language_info": {
   "codemirror_mode": {
    "name": "ipython",
    "version": 3
   },
   "file_extension": ".py",
   "mimetype": "text/x-python",
   "name": "python",
   "nbconvert_exporter": "python",
   "pygments_lexer": "ipython3",
   "version": "3.10.6"
  }
 },
 "nbformat": 4,
 "nbformat_minor": 5
}
