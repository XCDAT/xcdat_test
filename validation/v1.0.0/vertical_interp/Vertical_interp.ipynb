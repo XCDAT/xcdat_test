{
 "cells": [
  {
   "cell_type": "code",
   "execution_count": 1,
   "id": "b37b77e5",
   "metadata": {},
   "outputs": [],
   "source": [
    "import metpy.interpolate\n",
    "import numpy as np\n",
    "import xarray as xr\n",
    "import cf_xarray\n"
   ]
  },
  {
   "cell_type": "code",
   "execution_count": 2,
   "id": "ad341de9",
   "metadata": {},
   "outputs": [],
   "source": [
    "import xcdat\n",
    "import xgcm"
   ]
  },
  {
   "cell_type": "markdown",
   "id": "87bf7401",
   "metadata": {},
   "source": [
    "One vertical interplation case is to convert from hyrid sigma model vertical coordinate (https://www.cesm.ucar.edu/models/atm-cam/docs/usersguide/node25.html) to pressure coordinate.\n",
    "This note book testing three ways for this operation:\n",
    "\n",
    "1. Call `interp_hybrid_to_pressure` function from GeoCAT: https://github.com/NCAR/geocat-comp/blob/0263d2d77ab22a6be4d1d3f16d5bfcfc68057364/src/geocat/comp/interp_hybrid_to_pressure.py which wraps metpy's vertical interp function.\n",
    "\n",
    "2. Call metpy's vertical interp function directly https://github.com/Unidata/MetPy/blob/main/src/metpy/interpolate/one_dimension.py:\n",
    "\n",
    "3. Use xgcm's vertical coordinates transforming: https://xgcm.readthedocs.io/en/latest/transform.html\n",
    "\n",
    "Data for testing are available at /p/user_pub/e3sm/zhang40/xcdat_test_e3sm:\n",
    "\n",
    "ds = xr.open_dataset('T_185001.nc') # Data includes one time step\n",
    "ds = xr.open_dataset('T_185001_201312.nc') # # Data includes longer time for performance tests"
   ]
  },
  {
   "cell_type": "markdown",
   "id": "a09840a8",
   "metadata": {},
   "source": [
    "Next Cell copied from GeoCAT with minor change in _pressure_from_hybrid function."
   ]
  },
  {
   "cell_type": "code",
   "execution_count": 3,
   "id": "0298b7d8",
   "metadata": {},
   "outputs": [],
   "source": [
    "\n",
    "__pres_lev_mandatory__ = np.array([\n",
    "    1000, 925, 850, 700, 500, 400, 300, 250, 200, 150, 100, 70, 50, 30, 20, 10,\n",
    "    7, 5, 3, 2, 1\n",
    "]).astype(np.float32)  # Mandatory pressure levels (mb)\n",
    "__pres_lev_mandatory__ = __pres_lev_mandatory__ * 100.0  # Convert mb to Pa\n",
    "\n",
    "\n",
    "def _pressure_from_hybrid(psfc, hya, hyb, p0=100000.):\n",
    "    \"\"\"\n",
    "    Calculate pressure at the hybrid levels\n",
    "    \"\"\"\n",
    "    pressure = hya * p0 + hyb * psfc\n",
    "    # Temporarily added by Jill Zhang\n",
    "    pressure = pressure.transpose(\"time\",\"lev\",\"lat\", \"lon\") # Note order of the pressure dims should match those in ds['T']\n",
    "    return pressure\n",
    "    ## This will be in Pa\n",
    "    #return hya * p0 + hyb * psfc\n",
    "\n",
    "\n",
    "def interp_hybrid_to_pressure(data,\n",
    "                              ps,\n",
    "                              hyam,\n",
    "                              hybm,\n",
    "                              p0=100000.,\n",
    "                              new_levels=__pres_lev_mandatory__,\n",
    "                              lev_dim=None,\n",
    "                              method='linear'):\n",
    "    \"\"\"\n",
    "    Interpolate data from hybrid-sigma levels to isobaric levels.\n",
    "    Notes\n",
    "    -----\n",
    "    ACKNOWLEDGEMENT: We'd like to thank to Brian Medeiros (https://github.com/brianpm), Matthew Long\n",
    "    (https://github.com/matt-long), and Deepak Cherian (https://github.com/dcherian) at NCAR for their\n",
    "    great contributions since the code implemented here is mostly based on their work.\n",
    "    Parameters\n",
    "    ----------\n",
    "    data : xarray.DataArray\n",
    "        Multidimensional data array, which holds hybrid-sigma levels and has a `lev_dim` coordinate.\n",
    "    ps : xarray.DataArray\n",
    "        A multi-dimensional array of surface pressures (Pa), same time/space shape as data.\n",
    "    hyam, hybm : xarray.DataArray\n",
    "        One-dimensional arrays containing the hybrid A and B coefficients. Must have the same\n",
    "        dimension size as the `lev_dim` dimension of data.\n",
    "    p0 :\n",
    "        Scalar numeric value equal to surface reference pressure (Pa).\n",
    "    new_levels : np.ndarray\n",
    "        A one-dimensional array of output pressure levels (Pa). If not given, the mandatory\n",
    "        list of 21 pressure levels is used.\n",
    "    lev_dim : str\n",
    "        String that is the name of level dimension in data. Defaults to \"lev\".\n",
    "    method : str\n",
    "        String that is the interpolation method; can be either \"linear\" or \"log\". Defaults to \"linear\".\n",
    "    \"\"\"\n",
    "\n",
    "    # Determine the level dimension and then the interpolation axis\n",
    "    if lev_dim is None:\n",
    "        try:\n",
    "            lev_dim = data.cf[\"vertical\"].name\n",
    "        except Exception:\n",
    "            raise ValueError(\n",
    "                \"Unable to determine vertical dimension name. Please specify the name via `lev_dim` argument.'\"\n",
    "            )\n",
    "\n",
    "    interp_axis = data.dims.index(lev_dim)\n",
    "    print(interp_axis)\n",
    "\n",
    "    # Calculate pressure levels at the hybrid levels\n",
    "    pressure = _pressure_from_hybrid(ps, hyam, hybm, p0)  # Pa\n",
    "    \n",
    "\n",
    "    # Define interpolation function\n",
    "    if method == 'linear':\n",
    "        func_interpolate = metpy.interpolate.interpolate_1d\n",
    "    elif method == 'log':\n",
    "        func_interpolate = metpy.interpolate.log_interpolate_1d\n",
    "    else:\n",
    "        raise ValueError(f'Unknown interpolation method: {method}. '\n",
    "                         f'Supported methods are: \"log\" and \"linear\".')\n",
    "\n",
    "    def _vertical_remap(data, pressure):\n",
    "        \"\"\"\n",
    "        Define interpolation function.\n",
    "        \"\"\"\n",
    "\n",
    "        return func_interpolate(new_levels, pressure, data, axis=interp_axis)\n",
    "\n",
    "    # Apply vertical interpolation\n",
    "    # Apply Dask parallelization with xarray.apply_ufunc\n",
    "    output = xr.apply_ufunc(\n",
    "        _vertical_remap,\n",
    "        data,\n",
    "        pressure,\n",
    "        exclude_dims=set((lev_dim,)),  # Set dimensions allowed to change size\n",
    "        input_core_dims=[[lev_dim], [lev_dim]],  # Set core dimensions\n",
    "        output_core_dims=[[\"plev\"]],  # Specify output dimensions\n",
    "        vectorize=True,  # loop over non-core dims\n",
    "        dask=\"parallelized\",  # Dask parallelization\n",
    "        output_dtypes=[data.dtype],\n",
    "        dask_gufunc_kwargs={\"output_sizes\": {\n",
    "            \"plev\": len(new_levels)\n",
    "        }},\n",
    "    )\n",
    "\n",
    "    # Set output dims and coords\n",
    "    dims = [\"plev\"\n",
    "           ] + [data.dims[i] for i in range(data.ndim) if i != interp_axis]\n",
    "\n",
    "    coords = {}\n",
    "    for (k, v) in data.coords.items():\n",
    "        if k != lev_dim:\n",
    "            coords.update({k: v})\n",
    "        else:\n",
    "            coords.update({\"plev\": new_levels})\n",
    "\n",
    "    output = output.transpose(*dims).assign_coords(coords)\n",
    "\n",
    "    return output"
   ]
  },
  {
   "cell_type": "code",
   "execution_count": 4,
   "id": "1861eb56",
   "metadata": {},
   "outputs": [],
   "source": [
    "ds = xr.open_dataset('T_185001.nc') # Data includes one time step"
   ]
  },
  {
   "cell_type": "code",
   "execution_count": 5,
   "id": "97fe2cf3",
   "metadata": {},
   "outputs": [],
   "source": [
    "#ds = xr.open_dataset('T_185001_201312.nc') # Data includes longer time for performance tests"
   ]
  },
  {
   "cell_type": "markdown",
   "id": "0b62c245",
   "metadata": {},
   "source": [
    "1. Call `interp_hybrid_to_pressure` function from GeoCAT: https://github.com/NCAR/geocat-comp/blob/0263d2d77ab22a6be4d1d3f16d5bfcfc68057364/src/geocat/comp/interp_hybrid_to_pressure.py which wraps metpy's vertical interp function.\n"
   ]
  },
  {
   "cell_type": "code",
   "execution_count": 6,
   "id": "53ab265c",
   "metadata": {},
   "outputs": [
    {
     "name": "stdout",
     "output_type": "stream",
     "text": [
      "1\n"
     ]
    },
    {
     "ename": "AxisError",
     "evalue": "axis 1 is out of bounds for array of dimension 1",
     "output_type": "error",
     "traceback": [
      "\u001b[0;31m---------------------------------------------------------------------------\u001b[0m",
      "\u001b[0;31mAxisError\u001b[0m                                 Traceback (most recent call last)",
      "Input \u001b[0;32mIn [6]\u001b[0m, in \u001b[0;36m<cell line: 1>\u001b[0;34m()\u001b[0m\n\u001b[0;32m----> 1\u001b[0m ds_p \u001b[38;5;241m=\u001b[39m \u001b[43minterp_hybrid_to_pressure\u001b[49m\u001b[43m(\u001b[49m\u001b[43mds\u001b[49m\u001b[43m[\u001b[49m\u001b[38;5;124;43m'\u001b[39;49m\u001b[38;5;124;43mT\u001b[39;49m\u001b[38;5;124;43m'\u001b[39;49m\u001b[43m]\u001b[49m\u001b[43m,\u001b[49m\u001b[43m \u001b[49m\u001b[43mds\u001b[49m\u001b[43m[\u001b[49m\u001b[38;5;124;43m'\u001b[39;49m\u001b[38;5;124;43mPS\u001b[39;49m\u001b[38;5;124;43m'\u001b[39;49m\u001b[43m]\u001b[49m\u001b[43m,\u001b[49m\u001b[43m \u001b[49m\u001b[43mds\u001b[49m\u001b[43m[\u001b[49m\u001b[38;5;124;43m'\u001b[39;49m\u001b[38;5;124;43mhyam\u001b[39;49m\u001b[38;5;124;43m'\u001b[39;49m\u001b[43m]\u001b[49m\u001b[43m,\u001b[49m\u001b[43mds\u001b[49m\u001b[43m[\u001b[49m\u001b[38;5;124;43m'\u001b[39;49m\u001b[38;5;124;43mhybm\u001b[39;49m\u001b[38;5;124;43m'\u001b[39;49m\u001b[43m]\u001b[49m\u001b[43m,\u001b[49m\u001b[43mp0\u001b[49m\u001b[38;5;241;43m=\u001b[39;49m\u001b[38;5;241;43m100000.\u001b[39;49m\u001b[43m,\u001b[49m\u001b[43mnew_levels\u001b[49m\u001b[38;5;241;43m=\u001b[39;49m\u001b[43mnp\u001b[49m\u001b[38;5;241;43m.\u001b[39;49m\u001b[43marray\u001b[49m\u001b[43m(\u001b[49m\u001b[43m[\u001b[49m\u001b[38;5;241;43m92500\u001b[39;49m\u001b[43m,\u001b[49m\u001b[38;5;241;43m800\u001b[39;49m\u001b[43m]\u001b[49m\u001b[43m)\u001b[49m\u001b[43m,\u001b[49m\u001b[43mlev_dim\u001b[49m\u001b[38;5;241;43m=\u001b[39;49m\u001b[38;5;124;43m\"\u001b[39;49m\u001b[38;5;124;43mlev\u001b[39;49m\u001b[38;5;124;43m\"\u001b[39;49m\u001b[43m,\u001b[49m\u001b[43mmethod\u001b[49m\u001b[38;5;241;43m=\u001b[39;49m\u001b[38;5;124;43m'\u001b[39;49m\u001b[38;5;124;43mlinear\u001b[39;49m\u001b[38;5;124;43m'\u001b[39;49m\u001b[43m)\u001b[49m\n",
      "Input \u001b[0;32mIn [3]\u001b[0m, in \u001b[0;36minterp_hybrid_to_pressure\u001b[0;34m(data, ps, hyam, hybm, p0, new_levels, lev_dim, method)\u001b[0m\n\u001b[1;32m     85\u001b[0m     \u001b[38;5;28;01mreturn\u001b[39;00m func_interpolate(new_levels, pressure, data, axis\u001b[38;5;241m=\u001b[39minterp_axis)\n\u001b[1;32m     87\u001b[0m \u001b[38;5;66;03m# Apply vertical interpolation\u001b[39;00m\n\u001b[1;32m     88\u001b[0m \u001b[38;5;66;03m# Apply Dask parallelization with xarray.apply_ufunc\u001b[39;00m\n\u001b[0;32m---> 89\u001b[0m output \u001b[38;5;241m=\u001b[39m \u001b[43mxr\u001b[49m\u001b[38;5;241;43m.\u001b[39;49m\u001b[43mapply_ufunc\u001b[49m\u001b[43m(\u001b[49m\n\u001b[1;32m     90\u001b[0m \u001b[43m    \u001b[49m\u001b[43m_vertical_remap\u001b[49m\u001b[43m,\u001b[49m\n\u001b[1;32m     91\u001b[0m \u001b[43m    \u001b[49m\u001b[43mdata\u001b[49m\u001b[43m,\u001b[49m\n\u001b[1;32m     92\u001b[0m \u001b[43m    \u001b[49m\u001b[43mpressure\u001b[49m\u001b[43m,\u001b[49m\n\u001b[1;32m     93\u001b[0m \u001b[43m    \u001b[49m\u001b[43mexclude_dims\u001b[49m\u001b[38;5;241;43m=\u001b[39;49m\u001b[38;5;28;43mset\u001b[39;49m\u001b[43m(\u001b[49m\u001b[43m(\u001b[49m\u001b[43mlev_dim\u001b[49m\u001b[43m,\u001b[49m\u001b[43m)\u001b[49m\u001b[43m)\u001b[49m\u001b[43m,\u001b[49m\u001b[43m  \u001b[49m\u001b[38;5;66;43;03m# Set dimensions allowed to change size\u001b[39;49;00m\n\u001b[1;32m     94\u001b[0m \u001b[43m    \u001b[49m\u001b[43minput_core_dims\u001b[49m\u001b[38;5;241;43m=\u001b[39;49m\u001b[43m[\u001b[49m\u001b[43m[\u001b[49m\u001b[43mlev_dim\u001b[49m\u001b[43m]\u001b[49m\u001b[43m,\u001b[49m\u001b[43m \u001b[49m\u001b[43m[\u001b[49m\u001b[43mlev_dim\u001b[49m\u001b[43m]\u001b[49m\u001b[43m]\u001b[49m\u001b[43m,\u001b[49m\u001b[43m  \u001b[49m\u001b[38;5;66;43;03m# Set core dimensions\u001b[39;49;00m\n\u001b[1;32m     95\u001b[0m \u001b[43m    \u001b[49m\u001b[43moutput_core_dims\u001b[49m\u001b[38;5;241;43m=\u001b[39;49m\u001b[43m[\u001b[49m\u001b[43m[\u001b[49m\u001b[38;5;124;43m\"\u001b[39;49m\u001b[38;5;124;43mplev\u001b[39;49m\u001b[38;5;124;43m\"\u001b[39;49m\u001b[43m]\u001b[49m\u001b[43m]\u001b[49m\u001b[43m,\u001b[49m\u001b[43m  \u001b[49m\u001b[38;5;66;43;03m# Specify output dimensions\u001b[39;49;00m\n\u001b[1;32m     96\u001b[0m \u001b[43m    \u001b[49m\u001b[43mvectorize\u001b[49m\u001b[38;5;241;43m=\u001b[39;49m\u001b[38;5;28;43;01mTrue\u001b[39;49;00m\u001b[43m,\u001b[49m\u001b[43m  \u001b[49m\u001b[38;5;66;43;03m# loop over non-core dims\u001b[39;49;00m\n\u001b[1;32m     97\u001b[0m \u001b[43m    \u001b[49m\u001b[43mdask\u001b[49m\u001b[38;5;241;43m=\u001b[39;49m\u001b[38;5;124;43m\"\u001b[39;49m\u001b[38;5;124;43mparallelized\u001b[39;49m\u001b[38;5;124;43m\"\u001b[39;49m\u001b[43m,\u001b[49m\u001b[43m  \u001b[49m\u001b[38;5;66;43;03m# Dask parallelization\u001b[39;49;00m\n\u001b[1;32m     98\u001b[0m \u001b[43m    \u001b[49m\u001b[43moutput_dtypes\u001b[49m\u001b[38;5;241;43m=\u001b[39;49m\u001b[43m[\u001b[49m\u001b[43mdata\u001b[49m\u001b[38;5;241;43m.\u001b[39;49m\u001b[43mdtype\u001b[49m\u001b[43m]\u001b[49m\u001b[43m,\u001b[49m\n\u001b[1;32m     99\u001b[0m \u001b[43m    \u001b[49m\u001b[43mdask_gufunc_kwargs\u001b[49m\u001b[38;5;241;43m=\u001b[39;49m\u001b[43m{\u001b[49m\u001b[38;5;124;43m\"\u001b[39;49m\u001b[38;5;124;43moutput_sizes\u001b[39;49m\u001b[38;5;124;43m\"\u001b[39;49m\u001b[43m:\u001b[49m\u001b[43m \u001b[49m\u001b[43m{\u001b[49m\n\u001b[1;32m    100\u001b[0m \u001b[43m        \u001b[49m\u001b[38;5;124;43m\"\u001b[39;49m\u001b[38;5;124;43mplev\u001b[39;49m\u001b[38;5;124;43m\"\u001b[39;49m\u001b[43m:\u001b[49m\u001b[43m \u001b[49m\u001b[38;5;28;43mlen\u001b[39;49m\u001b[43m(\u001b[49m\u001b[43mnew_levels\u001b[49m\u001b[43m)\u001b[49m\n\u001b[1;32m    101\u001b[0m \u001b[43m    \u001b[49m\u001b[43m}\u001b[49m\u001b[43m}\u001b[49m\u001b[43m,\u001b[49m\n\u001b[1;32m    102\u001b[0m \u001b[43m\u001b[49m\u001b[43m)\u001b[49m\n\u001b[1;32m    104\u001b[0m \u001b[38;5;66;03m# Set output dims and coords\u001b[39;00m\n\u001b[1;32m    105\u001b[0m dims \u001b[38;5;241m=\u001b[39m [\u001b[38;5;124m\"\u001b[39m\u001b[38;5;124mplev\u001b[39m\u001b[38;5;124m\"\u001b[39m\n\u001b[1;32m    106\u001b[0m        ] \u001b[38;5;241m+\u001b[39m [data\u001b[38;5;241m.\u001b[39mdims[i] \u001b[38;5;28;01mfor\u001b[39;00m i \u001b[38;5;129;01min\u001b[39;00m \u001b[38;5;28mrange\u001b[39m(data\u001b[38;5;241m.\u001b[39mndim) \u001b[38;5;28;01mif\u001b[39;00m i \u001b[38;5;241m!=\u001b[39m interp_axis]\n",
      "File \u001b[0;32m~/miniconda3/envs/xcdat_test_dev/lib/python3.9/site-packages/xarray/core/computation.py:1165\u001b[0m, in \u001b[0;36mapply_ufunc\u001b[0;34m(func, input_core_dims, output_core_dims, exclude_dims, vectorize, join, dataset_join, dataset_fill_value, keep_attrs, kwargs, dask, output_dtypes, output_sizes, meta, dask_gufunc_kwargs, *args)\u001b[0m\n\u001b[1;32m   1163\u001b[0m \u001b[38;5;66;03m# feed DataArray apply_variable_ufunc through apply_dataarray_vfunc\u001b[39;00m\n\u001b[1;32m   1164\u001b[0m \u001b[38;5;28;01melif\u001b[39;00m \u001b[38;5;28many\u001b[39m(\u001b[38;5;28misinstance\u001b[39m(a, DataArray) \u001b[38;5;28;01mfor\u001b[39;00m a \u001b[38;5;129;01min\u001b[39;00m args):\n\u001b[0;32m-> 1165\u001b[0m     \u001b[38;5;28;01mreturn\u001b[39;00m \u001b[43mapply_dataarray_vfunc\u001b[49m\u001b[43m(\u001b[49m\n\u001b[1;32m   1166\u001b[0m \u001b[43m        \u001b[49m\u001b[43mvariables_vfunc\u001b[49m\u001b[43m,\u001b[49m\n\u001b[1;32m   1167\u001b[0m \u001b[43m        \u001b[49m\u001b[38;5;241;43m*\u001b[39;49m\u001b[43margs\u001b[49m\u001b[43m,\u001b[49m\n\u001b[1;32m   1168\u001b[0m \u001b[43m        \u001b[49m\u001b[43msignature\u001b[49m\u001b[38;5;241;43m=\u001b[39;49m\u001b[43msignature\u001b[49m\u001b[43m,\u001b[49m\n\u001b[1;32m   1169\u001b[0m \u001b[43m        \u001b[49m\u001b[43mjoin\u001b[49m\u001b[38;5;241;43m=\u001b[39;49m\u001b[43mjoin\u001b[49m\u001b[43m,\u001b[49m\n\u001b[1;32m   1170\u001b[0m \u001b[43m        \u001b[49m\u001b[43mexclude_dims\u001b[49m\u001b[38;5;241;43m=\u001b[39;49m\u001b[43mexclude_dims\u001b[49m\u001b[43m,\u001b[49m\n\u001b[1;32m   1171\u001b[0m \u001b[43m        \u001b[49m\u001b[43mkeep_attrs\u001b[49m\u001b[38;5;241;43m=\u001b[39;49m\u001b[43mkeep_attrs\u001b[49m\u001b[43m,\u001b[49m\n\u001b[1;32m   1172\u001b[0m \u001b[43m    \u001b[49m\u001b[43m)\u001b[49m\n\u001b[1;32m   1173\u001b[0m \u001b[38;5;66;03m# feed Variables directly through apply_variable_ufunc\u001b[39;00m\n\u001b[1;32m   1174\u001b[0m \u001b[38;5;28;01melif\u001b[39;00m \u001b[38;5;28many\u001b[39m(\u001b[38;5;28misinstance\u001b[39m(a, Variable) \u001b[38;5;28;01mfor\u001b[39;00m a \u001b[38;5;129;01min\u001b[39;00m args):\n",
      "File \u001b[0;32m~/miniconda3/envs/xcdat_test_dev/lib/python3.9/site-packages/xarray/core/computation.py:290\u001b[0m, in \u001b[0;36mapply_dataarray_vfunc\u001b[0;34m(func, signature, join, exclude_dims, keep_attrs, *args)\u001b[0m\n\u001b[1;32m    285\u001b[0m result_coords \u001b[38;5;241m=\u001b[39m build_output_coords(\n\u001b[1;32m    286\u001b[0m     args, signature, exclude_dims, combine_attrs\u001b[38;5;241m=\u001b[39mkeep_attrs\n\u001b[1;32m    287\u001b[0m )\n\u001b[1;32m    289\u001b[0m data_vars \u001b[38;5;241m=\u001b[39m [\u001b[38;5;28mgetattr\u001b[39m(a, \u001b[38;5;124m\"\u001b[39m\u001b[38;5;124mvariable\u001b[39m\u001b[38;5;124m\"\u001b[39m, a) \u001b[38;5;28;01mfor\u001b[39;00m a \u001b[38;5;129;01min\u001b[39;00m args]\n\u001b[0;32m--> 290\u001b[0m result_var \u001b[38;5;241m=\u001b[39m \u001b[43mfunc\u001b[49m\u001b[43m(\u001b[49m\u001b[38;5;241;43m*\u001b[39;49m\u001b[43mdata_vars\u001b[49m\u001b[43m)\u001b[49m\n\u001b[1;32m    292\u001b[0m \u001b[38;5;28;01mif\u001b[39;00m signature\u001b[38;5;241m.\u001b[39mnum_outputs \u001b[38;5;241m>\u001b[39m \u001b[38;5;241m1\u001b[39m:\n\u001b[1;32m    293\u001b[0m     out \u001b[38;5;241m=\u001b[39m \u001b[38;5;28mtuple\u001b[39m(\n\u001b[1;32m    294\u001b[0m         DataArray(variable, coords, name\u001b[38;5;241m=\u001b[39mname, fastpath\u001b[38;5;241m=\u001b[39m\u001b[38;5;28;01mTrue\u001b[39;00m)\n\u001b[1;32m    295\u001b[0m         \u001b[38;5;28;01mfor\u001b[39;00m variable, coords \u001b[38;5;129;01min\u001b[39;00m \u001b[38;5;28mzip\u001b[39m(result_var, result_coords)\n\u001b[1;32m    296\u001b[0m     )\n",
      "File \u001b[0;32m~/miniconda3/envs/xcdat_test_dev/lib/python3.9/site-packages/xarray/core/computation.py:733\u001b[0m, in \u001b[0;36mapply_variable_ufunc\u001b[0;34m(func, signature, exclude_dims, dask, output_dtypes, vectorize, keep_attrs, dask_gufunc_kwargs, *args)\u001b[0m\n\u001b[1;32m    728\u001b[0m     \u001b[38;5;28;01mif\u001b[39;00m vectorize:\n\u001b[1;32m    729\u001b[0m         func \u001b[38;5;241m=\u001b[39m _vectorize(\n\u001b[1;32m    730\u001b[0m             func, signature, output_dtypes\u001b[38;5;241m=\u001b[39moutput_dtypes, exclude_dims\u001b[38;5;241m=\u001b[39mexclude_dims\n\u001b[1;32m    731\u001b[0m         )\n\u001b[0;32m--> 733\u001b[0m result_data \u001b[38;5;241m=\u001b[39m \u001b[43mfunc\u001b[49m\u001b[43m(\u001b[49m\u001b[38;5;241;43m*\u001b[39;49m\u001b[43minput_data\u001b[49m\u001b[43m)\u001b[49m\n\u001b[1;32m    735\u001b[0m \u001b[38;5;28;01mif\u001b[39;00m signature\u001b[38;5;241m.\u001b[39mnum_outputs \u001b[38;5;241m==\u001b[39m \u001b[38;5;241m1\u001b[39m:\n\u001b[1;32m    736\u001b[0m     result_data \u001b[38;5;241m=\u001b[39m (result_data,)\n",
      "File \u001b[0;32m~/miniconda3/envs/xcdat_test_dev/lib/python3.9/site-packages/numpy/lib/function_base.py:2304\u001b[0m, in \u001b[0;36mvectorize.__call__\u001b[0;34m(self, *args, **kwargs)\u001b[0m\n\u001b[1;32m   2301\u001b[0m     vargs \u001b[38;5;241m=\u001b[39m [args[_i] \u001b[38;5;28;01mfor\u001b[39;00m _i \u001b[38;5;129;01min\u001b[39;00m inds]\n\u001b[1;32m   2302\u001b[0m     vargs\u001b[38;5;241m.\u001b[39mextend([kwargs[_n] \u001b[38;5;28;01mfor\u001b[39;00m _n \u001b[38;5;129;01min\u001b[39;00m names])\n\u001b[0;32m-> 2304\u001b[0m \u001b[38;5;28;01mreturn\u001b[39;00m \u001b[38;5;28;43mself\u001b[39;49m\u001b[38;5;241;43m.\u001b[39;49m\u001b[43m_vectorize_call\u001b[49m\u001b[43m(\u001b[49m\u001b[43mfunc\u001b[49m\u001b[38;5;241;43m=\u001b[39;49m\u001b[43mfunc\u001b[49m\u001b[43m,\u001b[49m\u001b[43m \u001b[49m\u001b[43margs\u001b[49m\u001b[38;5;241;43m=\u001b[39;49m\u001b[43mvargs\u001b[49m\u001b[43m)\u001b[49m\n",
      "File \u001b[0;32m~/miniconda3/envs/xcdat_test_dev/lib/python3.9/site-packages/numpy/lib/function_base.py:2378\u001b[0m, in \u001b[0;36mvectorize._vectorize_call\u001b[0;34m(self, func, args)\u001b[0m\n\u001b[1;32m   2376\u001b[0m \u001b[38;5;124;03m\"\"\"Vectorized call to `func` over positional `args`.\"\"\"\u001b[39;00m\n\u001b[1;32m   2377\u001b[0m \u001b[38;5;28;01mif\u001b[39;00m \u001b[38;5;28mself\u001b[39m\u001b[38;5;241m.\u001b[39msignature \u001b[38;5;129;01mis\u001b[39;00m \u001b[38;5;129;01mnot\u001b[39;00m \u001b[38;5;28;01mNone\u001b[39;00m:\n\u001b[0;32m-> 2378\u001b[0m     res \u001b[38;5;241m=\u001b[39m \u001b[38;5;28;43mself\u001b[39;49m\u001b[38;5;241;43m.\u001b[39;49m\u001b[43m_vectorize_call_with_signature\u001b[49m\u001b[43m(\u001b[49m\u001b[43mfunc\u001b[49m\u001b[43m,\u001b[49m\u001b[43m \u001b[49m\u001b[43margs\u001b[49m\u001b[43m)\u001b[49m\n\u001b[1;32m   2379\u001b[0m \u001b[38;5;28;01melif\u001b[39;00m \u001b[38;5;129;01mnot\u001b[39;00m args:\n\u001b[1;32m   2380\u001b[0m     res \u001b[38;5;241m=\u001b[39m func()\n",
      "File \u001b[0;32m~/miniconda3/envs/xcdat_test_dev/lib/python3.9/site-packages/numpy/lib/function_base.py:2418\u001b[0m, in \u001b[0;36mvectorize._vectorize_call_with_signature\u001b[0;34m(self, func, args)\u001b[0m\n\u001b[1;32m   2415\u001b[0m nout \u001b[38;5;241m=\u001b[39m \u001b[38;5;28mlen\u001b[39m(output_core_dims)\n\u001b[1;32m   2417\u001b[0m \u001b[38;5;28;01mfor\u001b[39;00m index \u001b[38;5;129;01min\u001b[39;00m np\u001b[38;5;241m.\u001b[39mndindex(\u001b[38;5;241m*\u001b[39mbroadcast_shape):\n\u001b[0;32m-> 2418\u001b[0m     results \u001b[38;5;241m=\u001b[39m \u001b[43mfunc\u001b[49m\u001b[43m(\u001b[49m\u001b[38;5;241;43m*\u001b[39;49m\u001b[43m(\u001b[49m\u001b[43marg\u001b[49m\u001b[43m[\u001b[49m\u001b[43mindex\u001b[49m\u001b[43m]\u001b[49m\u001b[43m \u001b[49m\u001b[38;5;28;43;01mfor\u001b[39;49;00m\u001b[43m \u001b[49m\u001b[43marg\u001b[49m\u001b[43m \u001b[49m\u001b[38;5;129;43;01min\u001b[39;49;00m\u001b[43m \u001b[49m\u001b[43margs\u001b[49m\u001b[43m)\u001b[49m\u001b[43m)\u001b[49m\n\u001b[1;32m   2420\u001b[0m     n_results \u001b[38;5;241m=\u001b[39m \u001b[38;5;28mlen\u001b[39m(results) \u001b[38;5;28;01mif\u001b[39;00m \u001b[38;5;28misinstance\u001b[39m(results, \u001b[38;5;28mtuple\u001b[39m) \u001b[38;5;28;01melse\u001b[39;00m \u001b[38;5;241m1\u001b[39m\n\u001b[1;32m   2422\u001b[0m     \u001b[38;5;28;01mif\u001b[39;00m nout \u001b[38;5;241m!=\u001b[39m n_results:\n",
      "Input \u001b[0;32mIn [3]\u001b[0m, in \u001b[0;36minterp_hybrid_to_pressure.<locals>._vertical_remap\u001b[0;34m(data, pressure)\u001b[0m\n\u001b[1;32m     80\u001b[0m \u001b[38;5;28;01mdef\u001b[39;00m \u001b[38;5;21m_vertical_remap\u001b[39m(data, pressure):\n\u001b[1;32m     81\u001b[0m     \u001b[38;5;124;03m\"\"\"\u001b[39;00m\n\u001b[1;32m     82\u001b[0m \u001b[38;5;124;03m    Define interpolation function.\u001b[39;00m\n\u001b[1;32m     83\u001b[0m \u001b[38;5;124;03m    \"\"\"\u001b[39;00m\n\u001b[0;32m---> 85\u001b[0m     \u001b[38;5;28;01mreturn\u001b[39;00m \u001b[43mfunc_interpolate\u001b[49m\u001b[43m(\u001b[49m\u001b[43mnew_levels\u001b[49m\u001b[43m,\u001b[49m\u001b[43m \u001b[49m\u001b[43mpressure\u001b[49m\u001b[43m,\u001b[49m\u001b[43m \u001b[49m\u001b[43mdata\u001b[49m\u001b[43m,\u001b[49m\u001b[43m \u001b[49m\u001b[43maxis\u001b[49m\u001b[38;5;241;43m=\u001b[39;49m\u001b[43minterp_axis\u001b[49m\u001b[43m)\u001b[49m\n",
      "File \u001b[0;32m~/miniconda3/envs/xcdat_test_dev/lib/python3.9/site-packages/metpy/xarray.py:1235\u001b[0m, in \u001b[0;36mpreprocess_and_wrap.<locals>.decorator.<locals>.wrapper\u001b[0;34m(*args, **kwargs)\u001b[0m\n\u001b[1;32m   1232\u001b[0m     _mutate_arguments(bound_args, units\u001b[38;5;241m.\u001b[39mQuantity, \u001b[38;5;28;01mlambda\u001b[39;00m arg, _: arg\u001b[38;5;241m.\u001b[39mm)\n\u001b[1;32m   1234\u001b[0m \u001b[38;5;66;03m# Evaluate inner calculation\u001b[39;00m\n\u001b[0;32m-> 1235\u001b[0m result \u001b[38;5;241m=\u001b[39m \u001b[43mfunc\u001b[49m\u001b[43m(\u001b[49m\u001b[38;5;241;43m*\u001b[39;49m\u001b[43mbound_args\u001b[49m\u001b[38;5;241;43m.\u001b[39;49m\u001b[43margs\u001b[49m\u001b[43m,\u001b[49m\u001b[43m \u001b[49m\u001b[38;5;241;43m*\u001b[39;49m\u001b[38;5;241;43m*\u001b[39;49m\u001b[43mbound_args\u001b[49m\u001b[38;5;241;43m.\u001b[39;49m\u001b[43mkwargs\u001b[49m\u001b[43m)\u001b[49m\n\u001b[1;32m   1237\u001b[0m \u001b[38;5;66;03m# Wrap output based on match and match_unit\u001b[39;00m\n\u001b[1;32m   1238\u001b[0m \u001b[38;5;28;01mif\u001b[39;00m match \u001b[38;5;129;01mis\u001b[39;00m \u001b[38;5;28;01mNone\u001b[39;00m:\n",
      "File \u001b[0;32m~/miniconda3/envs/xcdat_test_dev/lib/python3.9/site-packages/metpy/interpolate/one_dimension.py:109\u001b[0m, in \u001b[0;36minterpolate_1d\u001b[0;34m(x, xp, axis, fill_value, return_list_always, *args)\u001b[0m\n\u001b[1;32m    106\u001b[0m ndim \u001b[38;5;241m=\u001b[39m xp\u001b[38;5;241m.\u001b[39mndim\n\u001b[1;32m    108\u001b[0m \u001b[38;5;66;03m# Sort input data\u001b[39;00m\n\u001b[0;32m--> 109\u001b[0m sort_args \u001b[38;5;241m=\u001b[39m \u001b[43mnp\u001b[49m\u001b[38;5;241;43m.\u001b[39;49m\u001b[43margsort\u001b[49m\u001b[43m(\u001b[49m\u001b[43mxp\u001b[49m\u001b[43m,\u001b[49m\u001b[43m \u001b[49m\u001b[43maxis\u001b[49m\u001b[38;5;241;43m=\u001b[39;49m\u001b[43maxis\u001b[49m\u001b[43m)\u001b[49m\n\u001b[1;32m    110\u001b[0m sort_x \u001b[38;5;241m=\u001b[39m np\u001b[38;5;241m.\u001b[39margsort(x)\n\u001b[1;32m    112\u001b[0m \u001b[38;5;66;03m# indices for sorting\u001b[39;00m\n",
      "File \u001b[0;32m<__array_function__ internals>:180\u001b[0m, in \u001b[0;36margsort\u001b[0;34m(*args, **kwargs)\u001b[0m\n",
      "File \u001b[0;32m~/miniconda3/envs/xcdat_test_dev/lib/python3.9/site-packages/numpy/core/fromnumeric.py:1120\u001b[0m, in \u001b[0;36margsort\u001b[0;34m(a, axis, kind, order)\u001b[0m\n\u001b[1;32m   1012\u001b[0m \u001b[38;5;129m@array_function_dispatch\u001b[39m(_argsort_dispatcher)\n\u001b[1;32m   1013\u001b[0m \u001b[38;5;28;01mdef\u001b[39;00m \u001b[38;5;21margsort\u001b[39m(a, axis\u001b[38;5;241m=\u001b[39m\u001b[38;5;241m-\u001b[39m\u001b[38;5;241m1\u001b[39m, kind\u001b[38;5;241m=\u001b[39m\u001b[38;5;28;01mNone\u001b[39;00m, order\u001b[38;5;241m=\u001b[39m\u001b[38;5;28;01mNone\u001b[39;00m):\n\u001b[1;32m   1014\u001b[0m     \u001b[38;5;124;03m\"\"\"\u001b[39;00m\n\u001b[1;32m   1015\u001b[0m \u001b[38;5;124;03m    Returns the indices that would sort an array.\u001b[39;00m\n\u001b[1;32m   1016\u001b[0m \n\u001b[0;32m   (...)\u001b[0m\n\u001b[1;32m   1118\u001b[0m \n\u001b[1;32m   1119\u001b[0m \u001b[38;5;124;03m    \"\"\"\u001b[39;00m\n\u001b[0;32m-> 1120\u001b[0m     \u001b[38;5;28;01mreturn\u001b[39;00m \u001b[43m_wrapfunc\u001b[49m\u001b[43m(\u001b[49m\u001b[43ma\u001b[49m\u001b[43m,\u001b[49m\u001b[43m \u001b[49m\u001b[38;5;124;43m'\u001b[39;49m\u001b[38;5;124;43margsort\u001b[39;49m\u001b[38;5;124;43m'\u001b[39;49m\u001b[43m,\u001b[49m\u001b[43m \u001b[49m\u001b[43maxis\u001b[49m\u001b[38;5;241;43m=\u001b[39;49m\u001b[43maxis\u001b[49m\u001b[43m,\u001b[49m\u001b[43m \u001b[49m\u001b[43mkind\u001b[49m\u001b[38;5;241;43m=\u001b[39;49m\u001b[43mkind\u001b[49m\u001b[43m,\u001b[49m\u001b[43m \u001b[49m\u001b[43morder\u001b[49m\u001b[38;5;241;43m=\u001b[39;49m\u001b[43morder\u001b[49m\u001b[43m)\u001b[49m\n",
      "File \u001b[0;32m~/miniconda3/envs/xcdat_test_dev/lib/python3.9/site-packages/numpy/core/fromnumeric.py:57\u001b[0m, in \u001b[0;36m_wrapfunc\u001b[0;34m(obj, method, *args, **kwds)\u001b[0m\n\u001b[1;32m     54\u001b[0m     \u001b[38;5;28;01mreturn\u001b[39;00m _wrapit(obj, method, \u001b[38;5;241m*\u001b[39margs, \u001b[38;5;241m*\u001b[39m\u001b[38;5;241m*\u001b[39mkwds)\n\u001b[1;32m     56\u001b[0m \u001b[38;5;28;01mtry\u001b[39;00m:\n\u001b[0;32m---> 57\u001b[0m     \u001b[38;5;28;01mreturn\u001b[39;00m \u001b[43mbound\u001b[49m\u001b[43m(\u001b[49m\u001b[38;5;241;43m*\u001b[39;49m\u001b[43margs\u001b[49m\u001b[43m,\u001b[49m\u001b[43m \u001b[49m\u001b[38;5;241;43m*\u001b[39;49m\u001b[38;5;241;43m*\u001b[39;49m\u001b[43mkwds\u001b[49m\u001b[43m)\u001b[49m\n\u001b[1;32m     58\u001b[0m \u001b[38;5;28;01mexcept\u001b[39;00m \u001b[38;5;167;01mTypeError\u001b[39;00m:\n\u001b[1;32m     59\u001b[0m     \u001b[38;5;66;03m# A TypeError occurs if the object does have such a method in its\u001b[39;00m\n\u001b[1;32m     60\u001b[0m     \u001b[38;5;66;03m# class, but its signature is not identical to that of NumPy's. This\u001b[39;00m\n\u001b[0;32m   (...)\u001b[0m\n\u001b[1;32m     64\u001b[0m     \u001b[38;5;66;03m# Call _wrapit from within the except clause to ensure a potential\u001b[39;00m\n\u001b[1;32m     65\u001b[0m     \u001b[38;5;66;03m# exception has a traceback chain.\u001b[39;00m\n\u001b[1;32m     66\u001b[0m     \u001b[38;5;28;01mreturn\u001b[39;00m _wrapit(obj, method, \u001b[38;5;241m*\u001b[39margs, \u001b[38;5;241m*\u001b[39m\u001b[38;5;241m*\u001b[39mkwds)\n",
      "\u001b[0;31mAxisError\u001b[0m: axis 1 is out of bounds for array of dimension 1"
     ]
    }
   ],
   "source": [
    "ds_p = interp_hybrid_to_pressure(ds['T'], ds['PS'], ds['hyam'],ds['hybm'],p0=100000.,new_levels=np.array([92500,800]),lev_dim=\"lev\",method='linear')"
   ]
  },
  {
   "cell_type": "markdown",
   "id": "b23ff8a0",
   "metadata": {},
   "source": [
    "\n",
    "2. Call metpy's vertical interp function directly https://github.com/Unidata/MetPy/blob/main/src/metpy/interpolate/one_dimension.py:\n",
    "\n"
   ]
  },
  {
   "cell_type": "code",
   "execution_count": 7,
   "id": "20f44a75",
   "metadata": {},
   "outputs": [],
   "source": [
    "interp_axis = ds[\"T\"].dims.index(\"lev\")"
   ]
  },
  {
   "cell_type": "code",
   "execution_count": 8,
   "id": "2a42d651",
   "metadata": {},
   "outputs": [
    {
     "name": "stdout",
     "output_type": "stream",
     "text": [
      "interp_axis 1\n"
     ]
    }
   ],
   "source": [
    "print(\"interp_axis\",interp_axis)"
   ]
  },
  {
   "cell_type": "code",
   "execution_count": 9,
   "id": "cfa88256",
   "metadata": {},
   "outputs": [],
   "source": [
    "pressure = _pressure_from_hybrid(ds['PS'], ds['hyam'],ds['hybm'],p0=100000)  # Pa and with dim order (lev, time, lat, lon)"
   ]
  },
  {
   "cell_type": "code",
   "execution_count": 10,
   "id": "7685f1d9",
   "metadata": {},
   "outputs": [],
   "source": [
    "pressure = pressure.transpose(\"time\",\"lev\",\"lat\", \"lon\") # Note order of the pressure dims should match those in ds['T']"
   ]
  },
  {
   "cell_type": "code",
   "execution_count": 11,
   "id": "d2711bd1",
   "metadata": {},
   "outputs": [],
   "source": [
    "interp_axis2 = pressure.dims.index(\"lev\")"
   ]
  },
  {
   "cell_type": "code",
   "execution_count": 12,
   "id": "4bfcd26a",
   "metadata": {},
   "outputs": [
    {
     "name": "stdout",
     "output_type": "stream",
     "text": [
      "1 1\n"
     ]
    }
   ],
   "source": [
    "print(interp_axis, interp_axis2)"
   ]
  },
  {
   "cell_type": "code",
   "execution_count": 13,
   "id": "7e16c4d8",
   "metadata": {},
   "outputs": [
    {
     "ename": "TypeError",
     "evalue": "no implementation found for 'numpy.apply_along_axis' on types that implement __array_function__: [<class 'pint.quantity.build_quantity_class.<locals>.Quantity'>]",
     "output_type": "error",
     "traceback": [
      "\u001b[0;31m---------------------------------------------------------------------------\u001b[0m",
      "\u001b[0;31mTypeError\u001b[0m                                 Traceback (most recent call last)",
      "Input \u001b[0;32mIn [13]\u001b[0m, in \u001b[0;36m<cell line: 1>\u001b[0;34m()\u001b[0m\n\u001b[0;32m----> 1\u001b[0m \u001b[43mmetpy\u001b[49m\u001b[38;5;241;43m.\u001b[39;49m\u001b[43minterpolate\u001b[49m\u001b[38;5;241;43m.\u001b[39;49m\u001b[43minterpolate_1d\u001b[49m\u001b[43m(\u001b[49m\u001b[43mnp\u001b[49m\u001b[38;5;241;43m.\u001b[39;49m\u001b[43marray\u001b[49m\u001b[43m(\u001b[49m\u001b[43m[\u001b[49m\u001b[38;5;241;43m92500\u001b[39;49m\u001b[43m,\u001b[49m\u001b[43m \u001b[49m\u001b[38;5;241;43m80000\u001b[39;49m\u001b[43m]\u001b[49m\u001b[43m)\u001b[49m\u001b[43m,\u001b[49m\u001b[43m \u001b[49m\u001b[43mpressure\u001b[49m\u001b[43m,\u001b[49m\u001b[43m \u001b[49m\u001b[43mds\u001b[49m\u001b[43m[\u001b[49m\u001b[38;5;124;43m'\u001b[39;49m\u001b[38;5;124;43mT\u001b[39;49m\u001b[38;5;124;43m'\u001b[39;49m\u001b[43m]\u001b[49m\u001b[43m,\u001b[49m\u001b[43m \u001b[49m\u001b[43maxis\u001b[49m\u001b[38;5;241;43m=\u001b[39;49m\u001b[43minterp_axis\u001b[49m\u001b[43m)\u001b[49m\n",
      "File \u001b[0;32m~/miniconda3/envs/xcdat_test_dev/lib/python3.9/site-packages/metpy/xarray.py:1235\u001b[0m, in \u001b[0;36mpreprocess_and_wrap.<locals>.decorator.<locals>.wrapper\u001b[0;34m(*args, **kwargs)\u001b[0m\n\u001b[1;32m   1232\u001b[0m     _mutate_arguments(bound_args, units\u001b[38;5;241m.\u001b[39mQuantity, \u001b[38;5;28;01mlambda\u001b[39;00m arg, _: arg\u001b[38;5;241m.\u001b[39mm)\n\u001b[1;32m   1234\u001b[0m \u001b[38;5;66;03m# Evaluate inner calculation\u001b[39;00m\n\u001b[0;32m-> 1235\u001b[0m result \u001b[38;5;241m=\u001b[39m \u001b[43mfunc\u001b[49m\u001b[43m(\u001b[49m\u001b[38;5;241;43m*\u001b[39;49m\u001b[43mbound_args\u001b[49m\u001b[38;5;241;43m.\u001b[39;49m\u001b[43margs\u001b[49m\u001b[43m,\u001b[49m\u001b[43m \u001b[49m\u001b[38;5;241;43m*\u001b[39;49m\u001b[38;5;241;43m*\u001b[39;49m\u001b[43mbound_args\u001b[49m\u001b[38;5;241;43m.\u001b[39;49m\u001b[43mkwargs\u001b[49m\u001b[43m)\u001b[49m\n\u001b[1;32m   1237\u001b[0m \u001b[38;5;66;03m# Wrap output based on match and match_unit\u001b[39;00m\n\u001b[1;32m   1238\u001b[0m \u001b[38;5;28;01mif\u001b[39;00m match \u001b[38;5;129;01mis\u001b[39;00m \u001b[38;5;28;01mNone\u001b[39;00m:\n",
      "File \u001b[0;32m~/miniconda3/envs/xcdat_test_dev/lib/python3.9/site-packages/metpy/interpolate/one_dimension.py:127\u001b[0m, in \u001b[0;36minterpolate_1d\u001b[0;34m(x, xp, axis, fill_value, return_list_always, *args)\u001b[0m\n\u001b[1;32m    124\u001b[0m x_array \u001b[38;5;241m=\u001b[39m x_array[\u001b[38;5;28mtuple\u001b[39m(expand)]\n\u001b[1;32m    126\u001b[0m \u001b[38;5;66;03m# Calculate value above interpolated value\u001b[39;00m\n\u001b[0;32m--> 127\u001b[0m minv \u001b[38;5;241m=\u001b[39m \u001b[43mnp\u001b[49m\u001b[38;5;241;43m.\u001b[39;49m\u001b[43mapply_along_axis\u001b[49m\u001b[43m(\u001b[49m\u001b[43mnp\u001b[49m\u001b[38;5;241;43m.\u001b[39;49m\u001b[43msearchsorted\u001b[49m\u001b[43m,\u001b[49m\u001b[43m \u001b[49m\u001b[43maxis\u001b[49m\u001b[43m,\u001b[49m\u001b[43m \u001b[49m\u001b[43mxp\u001b[49m\u001b[43m,\u001b[49m\u001b[43m \u001b[49m\u001b[43mx\u001b[49m\u001b[43m[\u001b[49m\u001b[43msort_x\u001b[49m\u001b[43m]\u001b[49m\u001b[43m)\u001b[49m\n\u001b[1;32m    128\u001b[0m minv2 \u001b[38;5;241m=\u001b[39m np\u001b[38;5;241m.\u001b[39mcopy(minv)\n\u001b[1;32m    130\u001b[0m \u001b[38;5;66;03m# If fill_value is none and data is out of bounds, raise value error\u001b[39;00m\n",
      "File \u001b[0;32m<__array_function__ internals>:180\u001b[0m, in \u001b[0;36mapply_along_axis\u001b[0;34m(*args, **kwargs)\u001b[0m\n",
      "\u001b[0;31mTypeError\u001b[0m: no implementation found for 'numpy.apply_along_axis' on types that implement __array_function__: [<class 'pint.quantity.build_quantity_class.<locals>.Quantity'>]"
     ]
    }
   ],
   "source": [
    "metpy.interpolate.interpolate_1d(np.array([92500, 80000]), pressure, ds['T'], axis=interp_axis)"
   ]
  },
  {
   "cell_type": "markdown",
   "id": "278a5529",
   "metadata": {},
   "source": [
    "3. Use xgcm's vertical coordinates transforming: https://xgcm.readthedocs.io/en/latest/transform.html"
   ]
  },
  {
   "cell_type": "code",
   "execution_count": 14,
   "id": "20598686",
   "metadata": {},
   "outputs": [],
   "source": [
    "from xgcm import Grid"
   ]
  },
  {
   "cell_type": "code",
   "execution_count": 15,
   "id": "2af45c9e",
   "metadata": {},
   "outputs": [],
   "source": [
    "ds['pressure'] = pressure"
   ]
  },
  {
   "cell_type": "code",
   "execution_count": 16,
   "id": "18d04841",
   "metadata": {},
   "outputs": [],
   "source": [
    "# First create an xgcm grid object\n",
    "grid = Grid(ds, coords={'lev': {'center':'lev'}}, periodic=False)\n"
   ]
  },
  {
   "cell_type": "code",
   "execution_count": 17,
   "id": "13b8c43a",
   "metadata": {},
   "outputs": [
    {
     "name": "stderr",
     "output_type": "stream",
     "text": [
      "/Users/zhang40/miniconda3/envs/xcdat_test_dev/lib/python3.9/site-packages/xgcm/grid.py:987: FutureWarning: From version 0.8.0 the Axis computation methods will be removed, in favour of using the Grid computation methods instead. i.e. use `Grid.transform` instead of `Axis.transform`\n",
      "  warnings.warn(\n"
     ]
    }
   ],
   "source": [
    "# define the target values in density, linearly spaced\n",
    "target_lev = np.array([80000, 92500])\n",
    "\n",
    "# and transform\n",
    "t_transformed = grid.transform(ds['T'], 'lev', target_lev, target_data=ds['pressure'])\n"
   ]
  },
  {
   "cell_type": "code",
   "execution_count": 18,
   "id": "339fd2e7",
   "metadata": {},
   "outputs": [
    {
     "data": {
      "text/plain": [
       "(1, 129, 256, 2)"
      ]
     },
     "execution_count": 18,
     "metadata": {},
     "output_type": "execute_result"
    }
   ],
   "source": [
    "t_transformed.shape"
   ]
  },
  {
   "cell_type": "code",
   "execution_count": 19,
   "id": "6e0adf67",
   "metadata": {},
   "outputs": [
    {
     "data": {
      "text/plain": [
       "<matplotlib.collections.QuadMesh at 0x1981eaee0>"
      ]
     },
     "execution_count": 19,
     "metadata": {},
     "output_type": "execute_result"
    },
    {
     "data": {
      "image/png": "[encoded data removed]",
      "text/plain": [
       "<Figure size 432x288 with 2 Axes>"
      ]
     },
     "metadata": {
      "needs_background": "light"
     },
     "output_type": "display_data"
    }
   ],
   "source": [
    "t_transformed[0,:,:,1].plot()"
   ]
  },
  {
   "cell_type": "code",
   "execution_count": null,
   "id": "c6918fc4",
   "metadata": {},
   "outputs": [],
   "source": []
  }
 ],
 "metadata": {
  "kernelspec": {
   "display_name": "Python 3 (ipykernel)",
   "language": "python",
   "name": "python3"
  },
  "language_info": {
   "codemirror_mode": {
    "name": "ipython",
    "version": 3
   },
   "file_extension": ".py",
   "mimetype": "text/x-python",
   "name": "python",
   "nbconvert_exporter": "python",
   "pygments_lexer": "ipython3",
   "version": "3.9.10"
  }
 },
 "nbformat": 4,
 "nbformat_minor": 5
}
